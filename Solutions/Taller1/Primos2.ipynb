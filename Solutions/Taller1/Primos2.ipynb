{
 "cells": [
  {
   "cell_type": "code",
   "execution_count": 1,
   "metadata": {},
   "outputs": [],
   "source": [
    "import numpy as np"
   ]
  },
  {
   "cell_type": "code",
   "execution_count": 9,
   "metadata": {},
   "outputs": [],
   "source": [
    "n = np.linspace(2,100,99)"
   ]
  },
  {
   "cell_type": "code",
   "execution_count": 11,
   "metadata": {},
   "outputs": [
    {
     "name": "stdout",
     "output_type": "stream",
     "text": [
      "Es primo 2\n",
      "Es primo 3\n",
      "Es primo 5\n",
      "Es primo 7\n",
      "Es primo 11\n",
      "Es primo 13\n",
      "Es primo 17\n",
      "Es primo 19\n",
      "Es primo 23\n",
      "Es primo 29\n",
      "Es primo 31\n",
      "Es primo 37\n",
      "Es primo 41\n",
      "Es primo 43\n",
      "Es primo 47\n",
      "Es primo 53\n",
      "Es primo 59\n",
      "Es primo 61\n",
      "Es primo 67\n",
      "Es primo 71\n",
      "Es primo 73\n",
      "Es primo 79\n",
      "Es primo 83\n",
      "Es primo 89\n",
      "Es primo 97\n"
     ]
    }
   ],
   "source": [
    "for i in n:\n",
    "    \n",
    "    i = int(i)\n",
    "    j = 2\n",
    "    \n",
    "    while i % j != 0:\n",
    "        j += 1\n",
    "        \n",
    "    if i==j:\n",
    "        print('Es primo',i)"
   ]
  },
  {
   "cell_type": "code",
   "execution_count": null,
   "metadata": {},
   "outputs": [],
   "source": []
  }
 ],
 "metadata": {
  "kernelspec": {
   "display_name": "Python 3",
   "language": "python",
   "name": "python3"
  },
  "language_info": {
   "codemirror_mode": {
    "name": "ipython",
    "version": 3
   },
   "file_extension": ".py",
   "mimetype": "text/x-python",
   "name": "python",
   "nbconvert_exporter": "python",
   "pygments_lexer": "ipython3",
   "version": "3.8.2"
  }
 },
 "nbformat": 4,
 "nbformat_minor": 4
}
