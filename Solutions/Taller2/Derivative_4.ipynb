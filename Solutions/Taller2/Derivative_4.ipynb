{
 "cells": [
  {
   "cell_type": "code",
   "execution_count": 1,
   "id": "a940351f",
   "metadata": {},
   "outputs": [],
   "source": [
    "import numpy as np\n",
    "import matplotlib.pyplot as plt"
   ]
  },
  {
   "cell_type": "code",
   "execution_count": 2,
   "id": "eb54f479",
   "metadata": {},
   "outputs": [
    {
     "name": "stdout",
     "output_type": "stream",
     "text": [
      "401\n"
     ]
    }
   ],
   "source": [
    "h= 0.05\n",
    "N = int(20/h)+1\n",
    "print(N)"
   ]
  },
  {
   "cell_type": "code",
   "execution_count": 3,
   "id": "5c871ebc",
   "metadata": {},
   "outputs": [],
   "source": [
    "x = np.linspace(-10,10,N)\n",
    "function = lambda x: 1/np.sqrt( 1 + np.exp(-x**2) )"
   ]
  },
  {
   "cell_type": "code",
   "execution_count": 4,
   "id": "a65409e5",
   "metadata": {},
   "outputs": [],
   "source": [
    "def GetDerivative2(x,f,h):\n",
    "    return (f(x+h)-2*f(x)+f(x-h))/h**2"
   ]
  },
  {
   "cell_type": "code",
   "execution_count": 5,
   "id": "9564560c",
   "metadata": {},
   "outputs": [],
   "source": [
    "Derivative2 = GetDerivative2(x,function,h)"
   ]
  },
  {
   "cell_type": "code",
   "execution_count": 6,
   "id": "49efbc8d",
   "metadata": {},
   "outputs": [
    {
     "data": {
      "text/plain": [
       "[<matplotlib.lines.Line2D at 0x7ff2d427b6d0>]"
      ]
     },
     "execution_count": 6,
     "metadata": {},
     "output_type": "execute_result"
    },
    {
     "data": {
      "image/png": "[encoded data removed]",
      "text/plain": [
       "<Figure size 432x288 with 1 Axes>"
      ]
     },
     "metadata": {
      "needs_background": "light"
     },
     "output_type": "display_data"
    }
   ],
   "source": [
    "plt.plot(x,Derivative2)"
   ]
  },
  {
   "cell_type": "markdown",
   "id": "a96fe2af",
   "metadata": {},
   "source": [
    "# Convolucion, encontramos las imagenes"
   ]
  },
  {
   "cell_type": "code",
   "execution_count": 8,
   "id": "e1f1127c",
   "metadata": {},
   "outputs": [],
   "source": [
    "f = function(x)\n",
    "#print(f)"
   ]
  },
  {
   "cell_type": "code",
   "execution_count": 9,
   "id": "51feff6f",
   "metadata": {},
   "outputs": [],
   "source": [
    "M = np.array([+1,-2,+1])"
   ]
  },
  {
   "cell_type": "code",
   "execution_count": 10,
   "id": "50246730",
   "metadata": {},
   "outputs": [],
   "source": [
    "def GetConvolutionDerivative(f,M,h):\n",
    "    \n",
    "    Derivative = np.zeros_like(f)\n",
    "    \n",
    "    for i in range(1,len(f)-1):\n",
    "        \n",
    "        deriva = 0.\n",
    "        \n",
    "        for j in range(-1,2):\n",
    "            #print(i,j)\n",
    "            deriva += M[j+1]*f[i-j]\n",
    "            \n",
    "        Derivative[i] = deriva/h**2\n",
    "        \n",
    "    return Derivative"
   ]
  },
  {
   "cell_type": "code",
   "execution_count": 11,
   "id": "e3c7ba76",
   "metadata": {},
   "outputs": [],
   "source": [
    "ConvolDerivative2 = GetConvolutionDerivative(f,M,h)"
   ]
  },
  {
   "cell_type": "code",
   "execution_count": 12,
   "id": "94b16b62",
   "metadata": {},
   "outputs": [
    {
     "data": {
      "text/plain": [
       "[<matplotlib.lines.Line2D at 0x7ff2c8611c70>]"
      ]
     },
     "execution_count": 12,
     "metadata": {},
     "output_type": "execute_result"
    },
    {
     "data": {
      "image/png": "[encoded data removed]",
      "text/plain": [
       "<Figure size 432x288 with 1 Axes>"
      ]
     },
     "metadata": {
      "needs_background": "light"
     },
     "output_type": "display_data"
    }
   ],
   "source": [
    "plt.plot(x,Derivative2,color='r',label='Right Derivative 2')\n",
    "plt.plot(x,ConvolDerivative2,color='b',label='Convolve Derivative 2')"
   ]
  },
  {
   "cell_type": "code",
   "execution_count": null,
   "id": "8ce9ea00",
   "metadata": {},
   "outputs": [],
   "source": []
  }
 ],
 "metadata": {
  "kernelspec": {
   "display_name": "Python 3 (ipykernel)",
   "language": "python",
   "name": "python3"
  },
  "language_info": {
   "codemirror_mode": {
    "name": "ipython",
    "version": 3
   },
   "file_extension": ".py",
   "mimetype": "text/x-python",
   "name": "python",
   "nbconvert_exporter": "python",
   "pygments_lexer": "ipython3",
   "version": "3.9.12"
  }
 },
 "nbformat": 4,
 "nbformat_minor": 5
}
