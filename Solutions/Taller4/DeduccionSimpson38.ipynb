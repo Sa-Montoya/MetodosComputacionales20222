{
 "cells": [
  {
   "cell_type": "code",
   "execution_count": 1,
   "id": "24ef006c",
   "metadata": {},
   "outputs": [],
   "source": [
    "import numpy as np\n",
    "import sympy as sym\n",
    "from sympy.functions import exp"
   ]
  },
  {
   "cell_type": "code",
   "execution_count": 2,
   "id": "39927f7c",
   "metadata": {},
   "outputs": [],
   "source": [
    "x = sym.Symbol('x',Real=True)\n",
    "h = sym.Symbol('h',Real=True)"
   ]
  },
  {
   "cell_type": "code",
   "execution_count": 3,
   "id": "c1630b5c",
   "metadata": {},
   "outputs": [
    {
     "data": {
      "text/latex": [
       "$\\displaystyle - \\frac{\\left(- 3 h + x\\right) \\left(- 2 h + x\\right) \\left(- h + x\\right)}{6 h^{3}}$"
      ],
      "text/plain": [
       "-(-3*h + x)*(-2*h + x)*(-h + x)/(6*h**3)"
      ]
     },
     "execution_count": 3,
     "metadata": {},
     "output_type": "execute_result"
    }
   ],
   "source": [
    "F1 = (x - h)*(x - 2*h)*(x - 3*h) / ( (0 - h)*(0 - 2*h)*(0 - 3*h) )\n",
    "F1"
   ]
  },
  {
   "cell_type": "code",
   "execution_count": 5,
   "id": "096fd3c6",
   "metadata": {},
   "outputs": [
    {
     "data": {
      "text/latex": [
       "$\\displaystyle \\frac{3 h}{8}$"
      ],
      "text/plain": [
       "3*h/8"
      ]
     },
     "execution_count": 5,
     "metadata": {},
     "output_type": "execute_result"
    }
   ],
   "source": [
    "I = sym.integrate(F1, (x, 0, 3*h))\n",
    "I"
   ]
  },
  {
   "cell_type": "code",
   "execution_count": 6,
   "id": "75c3b415",
   "metadata": {},
   "outputs": [
    {
     "data": {
      "text/latex": [
       "$\\displaystyle \\frac{x \\left(- 3 h + x\\right) \\left(- 2 h + x\\right)}{2 h^{3}}$"
      ],
      "text/plain": [
       "x*(-3*h + x)*(-2*h + x)/(2*h**3)"
      ]
     },
     "execution_count": 6,
     "metadata": {},
     "output_type": "execute_result"
    }
   ],
   "source": [
    "F2 = (x - 0)*(x - 2*h)*(x - 3*h) / ( (h - 0)*(h - 2*h)*(h - 3*h) )\n",
    "F2"
   ]
  },
  {
   "cell_type": "code",
   "execution_count": 7,
   "id": "36a92ad0",
   "metadata": {},
   "outputs": [
    {
     "data": {
      "text/latex": [
       "$\\displaystyle \\frac{9 h}{8}$"
      ],
      "text/plain": [
       "9*h/8"
      ]
     },
     "execution_count": 7,
     "metadata": {},
     "output_type": "execute_result"
    }
   ],
   "source": [
    "I = sym.integrate(F2, (x, 0, 3*h))\n",
    "I"
   ]
  },
  {
   "cell_type": "code",
   "execution_count": 8,
   "id": "f7631e72",
   "metadata": {},
   "outputs": [
    {
     "data": {
      "text/latex": [
       "$\\displaystyle - \\frac{x \\left(- 3 h + x\\right) \\left(- h + x\\right)}{2 h^{3}}$"
      ],
      "text/plain": [
       "-x*(-3*h + x)*(-h + x)/(2*h**3)"
      ]
     },
     "execution_count": 8,
     "metadata": {},
     "output_type": "execute_result"
    }
   ],
   "source": [
    "F3 = (x - 0)*(x - h)*(x - 3*h) / ( (2*h - 0)*(2*h - h)*(2*h - 3*h) )\n",
    "F3"
   ]
  },
  {
   "cell_type": "code",
   "execution_count": 9,
   "id": "bc26b475",
   "metadata": {},
   "outputs": [
    {
     "data": {
      "text/latex": [
       "$\\displaystyle \\frac{9 h}{8}$"
      ],
      "text/plain": [
       "9*h/8"
      ]
     },
     "execution_count": 9,
     "metadata": {},
     "output_type": "execute_result"
    }
   ],
   "source": [
    "I = sym.integrate(F3, (x, 0, 3*h))\n",
    "I"
   ]
  },
  {
   "cell_type": "code",
   "execution_count": 10,
   "id": "bb07814a",
   "metadata": {},
   "outputs": [
    {
     "data": {
      "text/latex": [
       "$\\displaystyle \\frac{x \\left(- 2 h + x\\right) \\left(- h + x\\right)}{6 h^{3}}$"
      ],
      "text/plain": [
       "x*(-2*h + x)*(-h + x)/(6*h**3)"
      ]
     },
     "execution_count": 10,
     "metadata": {},
     "output_type": "execute_result"
    }
   ],
   "source": [
    "F4 = (x - 0)*(x - h)*(x - 2*h) / ( (3*h - 0)*(3*h - h)*(3*h - 2*h) )\n",
    "F4"
   ]
  },
  {
   "cell_type": "code",
   "execution_count": 11,
   "id": "f9d3a39a",
   "metadata": {},
   "outputs": [
    {
     "data": {
      "text/latex": [
       "$\\displaystyle \\frac{3 h}{8}$"
      ],
      "text/plain": [
       "3*h/8"
      ]
     },
     "execution_count": 11,
     "metadata": {},
     "output_type": "execute_result"
    }
   ],
   "source": [
    "I = sym.integrate(F4, (x, 0, 3*h))\n",
    "I"
   ]
  },
  {
   "cell_type": "code",
   "execution_count": null,
   "id": "e9394d4c",
   "metadata": {},
   "outputs": [],
   "source": []
  }
 ],
 "metadata": {
  "kernelspec": {
   "display_name": "Python 3 (ipykernel)",
   "language": "python",
   "name": "python3"
  },
  "language_info": {
   "codemirror_mode": {
    "name": "ipython",
    "version": 3
   },
   "file_extension": ".py",
   "mimetype": "text/x-python",
   "name": "python",
   "nbconvert_exporter": "python",
   "pygments_lexer": "ipython3",
   "version": "3.9.12"
  }
 },
 "nbformat": 4,
 "nbformat_minor": 5
}
