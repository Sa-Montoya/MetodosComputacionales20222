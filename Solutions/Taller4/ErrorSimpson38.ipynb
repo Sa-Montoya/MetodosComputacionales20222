{
 "cells": [
  {
   "cell_type": "code",
   "execution_count": 1,
   "id": "f8432b17",
   "metadata": {},
   "outputs": [],
   "source": [
    "import numpy as np\n",
    "import sympy as sym\n",
    "from sympy.functions import exp"
   ]
  },
  {
   "cell_type": "code",
   "execution_count": 2,
   "id": "abdeb14f",
   "metadata": {},
   "outputs": [
    {
     "name": "stdout",
     "output_type": "stream",
     "text": [
      "x*(-3*h + x)*(-2*h + x)*(-h + x)\n"
     ]
    }
   ],
   "source": [
    "x = sym.Symbol('x',Real=True)\n",
    "h = sym.Symbol('h',Real=True)\n",
    "F = (x)*(x-h)*(x-2*h)*(x-3*h)\n",
    "print(F)"
   ]
  },
  {
   "cell_type": "code",
   "execution_count": 3,
   "id": "6ea96a09",
   "metadata": {},
   "outputs": [
    {
     "name": "stdout",
     "output_type": "stream",
     "text": [
      "-3*h**5/80\n"
     ]
    }
   ],
   "source": [
    "I = sym.integrate(F, (x, 0,3*h))\n",
    "print(I/24)"
   ]
  }
 ],
 "metadata": {
  "kernelspec": {
   "display_name": "Python 3 (ipykernel)",
   "language": "python",
   "name": "python3"
  },
  "language_info": {
   "codemirror_mode": {
    "name": "ipython",
    "version": 3
   },
   "file_extension": ".py",
   "mimetype": "text/x-python",
   "name": "python",
   "nbconvert_exporter": "python",
   "pygments_lexer": "ipython3",
   "version": "3.9.12"
  }
 },
 "nbformat": 4,
 "nbformat_minor": 5
}
