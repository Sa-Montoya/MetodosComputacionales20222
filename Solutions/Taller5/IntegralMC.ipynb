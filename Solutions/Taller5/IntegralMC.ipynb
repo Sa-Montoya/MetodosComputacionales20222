{
 "cells": [
  {
   "cell_type": "code",
   "execution_count": 2,
   "metadata": {},
   "outputs": [],
   "source": [
    "import numpy as np"
   ]
  },
  {
   "cell_type": "code",
   "execution_count": 3,
   "metadata": {},
   "outputs": [],
   "source": [
    "def Integral(N=100, d = 8):\n",
    "    \n",
    "    sum_ = 0.\n",
    "    \n",
    "    x = np.zeros((N,d))\n",
    "    \n",
    "    for i in range(N):\n",
    "        x[i] = np.random.rand(d)\n",
    "      \n",
    "    #print(x)\n",
    "    \n",
    "    sum_ = np.sum(x, axis=1)\n",
    "    \n",
    "    #print(sum_)\n",
    "    \n",
    "    integral = np.average(sum_**2)\n",
    "    integral *= 2.**-7\n",
    "    \n",
    "    print(integral)"
   ]
  },
  {
   "cell_type": "code",
   "execution_count": 4,
   "metadata": {},
   "outputs": [
    {
     "name": "stdout",
     "output_type": "stream",
     "text": [
      "0.13030000960447766\n"
     ]
    }
   ],
   "source": [
    "Integral(N=1000000, d=8)"
   ]
  },
  {
   "cell_type": "code",
   "execution_count": null,
   "metadata": {},
   "outputs": [],
   "source": []
  }
 ],
 "metadata": {
  "kernelspec": {
   "display_name": "Python 3 (ipykernel)",
   "language": "python",
   "name": "python3"
  },
  "language_info": {
   "codemirror_mode": {
    "name": "ipython",
    "version": 3
   },
   "file_extension": ".py",
   "mimetype": "text/x-python",
   "name": "python",
   "nbconvert_exporter": "python",
   "pygments_lexer": "ipython3",
   "version": "3.9.12"
  }
 },
 "nbformat": 4,
 "nbformat_minor": 2
}
