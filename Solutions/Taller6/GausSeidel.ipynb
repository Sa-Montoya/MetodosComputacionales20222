{
 "cells": [
  {
   "cell_type": "code",
   "execution_count": 1,
   "id": "59802e37",
   "metadata": {},
   "outputs": [],
   "source": [
    "import numpy as np"
   ]
  },
  {
   "cell_type": "code",
   "execution_count": 2,
   "id": "d4ae67c9",
   "metadata": {},
   "outputs": [
    {
     "name": "stdout",
     "output_type": "stream",
     "text": [
      "[[ 3. -1. -1.]\n",
      " [-1.  3.  1.]\n",
      " [ 2.  1.  4.]]\n",
      "[1. 3. 7.]\n"
     ]
    }
   ],
   "source": [
    "M = np.array([[3,-1,-1],[-1.,3.,1.],[2,1,4]])\n",
    "print(M)\n",
    "b = np.array([1.,3.,7.])\n",
    "print(b)"
   ]
  },
  {
   "cell_type": "code",
   "execution_count": 3,
   "id": "482193e2",
   "metadata": {},
   "outputs": [],
   "source": [
    "def GetGaussSeidel(A,b,x0,itmax = 100,error = 1e-10):\n",
    "    \n",
    "    M,N = A.shape\n",
    "    x = x0\n",
    "    \n",
    "    residuo = np.linalg.norm(b - np.dot(A,x))\n",
    "    it = 0\n",
    "    \n",
    "    while residuo > error and it < itmax:\n",
    "        \n",
    "        it += 1\n",
    "        \n",
    "        for i in range(M):\n",
    "            \n",
    "            sum_ = 0.\n",
    "            \n",
    "            for j in range(N):\n",
    "                \n",
    "                if i != j:\n",
    "                    sum_ += A[i,j]*x[j]\n",
    "                    \n",
    "            x[i] = (b[i] - sum_)/A[i,i]\n",
    "            \n",
    "        print(x)\n",
    "        residuo = np.linalg.norm(b - np.dot(A,x))\n",
    "        \n",
    "    return x,residuo,it"
   ]
  },
  {
   "cell_type": "code",
   "execution_count": 4,
   "id": "efdfd558",
   "metadata": {},
   "outputs": [
    {
     "name": "stdout",
     "output_type": "stream",
     "text": [
      "[ 0.66666667 -0.11111111  1.44444444]\n",
      "[0.77777778 0.77777778 1.16666667]\n",
      "[0.98148148 0.9382716  1.02469136]\n",
      "[0.98765432 0.98765432 1.00925926]\n",
      "[0.99897119 0.99657064 1.00137174]\n",
      "[0.99931413 0.99931413 1.0005144 ]\n",
      "[0.99994284 0.99980948 1.00007621]\n",
      "[0.9999619  0.9999619  1.00002858]\n",
      "[0.99999682 0.99998942 1.00000423]\n",
      "[0.99999788 0.99999788 1.00000159]\n",
      "[0.99999982 0.99999941 1.00000024]\n",
      "[0.99999988 0.99999988 1.00000009]\n",
      "[0.99999999 0.99999997 1.00000001]\n",
      "[0.99999999 0.99999999 1.        ]\n",
      "[1. 1. 1.]\n",
      "[1. 1. 1.]\n",
      "[1. 1. 1.]\n",
      "[1. 1. 1.]\n"
     ]
    }
   ],
   "source": [
    "x0 = np.array([10.,-3.,4.])\n",
    "Xsol, error, it = GetGaussSeidel(M,b,x0)"
   ]
  },
  {
   "cell_type": "code",
   "execution_count": 5,
   "id": "79a12694",
   "metadata": {},
   "outputs": [
    {
     "name": "stdout",
     "output_type": "stream",
     "text": [
      "18\n"
     ]
    }
   ],
   "source": [
    "print(it)"
   ]
  },
  {
   "cell_type": "code",
   "execution_count": null,
   "id": "f65062a4",
   "metadata": {},
   "outputs": [],
   "source": []
  }
 ],
 "metadata": {
  "kernelspec": {
   "display_name": "Python 3 (ipykernel)",
   "language": "python",
   "name": "python3"
  },
  "language_info": {
   "codemirror_mode": {
    "name": "ipython",
    "version": 3
   },
   "file_extension": ".py",
   "mimetype": "text/x-python",
   "name": "python",
   "nbconvert_exporter": "python",
   "pygments_lexer": "ipython3",
   "version": "3.9.12"
  }
 },
 "nbformat": 4,
 "nbformat_minor": 5
}
