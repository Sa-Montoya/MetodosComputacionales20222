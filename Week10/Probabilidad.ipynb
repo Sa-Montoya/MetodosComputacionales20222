{
 "cells": [
  {
   "cell_type": "code",
   "execution_count": 2,
   "id": "c0b7a5e1",
   "metadata": {},
   "outputs": [],
   "source": [
    "import numpy as np\n",
    "import matplotlib.pyplot as plt\n",
    "from tqdm import tqdm "
   ]
  },
  {
   "cell_type": "code",
   "execution_count": 19,
   "id": "abc9884c",
   "metadata": {},
   "outputs": [],
   "source": [
    "def GetFrequency(n):\n",
    "    \n",
    "    Ntimes = 0\n",
    "    \n",
    "    for i in range(int(n)):\n",
    "        t = np.random.randint(1,7)\n",
    "        #print(t)\n",
    "        if t == 2:\n",
    "            Ntimes += 1\n",
    "            \n",
    "    return Ntimes/n"
   ]
  },
  {
   "cell_type": "code",
   "execution_count": 20,
   "id": "b01dbf86",
   "metadata": {},
   "outputs": [
    {
     "data": {
      "text/plain": [
       "0.173"
      ]
     },
     "execution_count": 20,
     "metadata": {},
     "output_type": "execute_result"
    }
   ],
   "source": [
    "GetFrequency(1000)"
   ]
  },
  {
   "cell_type": "code",
   "execution_count": 21,
   "id": "b09e2027",
   "metadata": {},
   "outputs": [
    {
     "name": "stderr",
     "output_type": "stream",
     "text": [
      "100%|███████████████████████████████████████████████████████████████| 10/10 [00:10<00:00,  1.06s/it]\n"
     ]
    }
   ],
   "source": [
    "n = np.logspace(1,6,10)\n",
    "freqr = np.zeros(len(n))\n",
    "\n",
    "for i in tqdm(range(len(n))):\n",
    "    freqr[i] = GetFrequency(n[i])"
   ]
  },
  {
   "cell_type": "code",
   "execution_count": 23,
   "id": "889510c0",
   "metadata": {},
   "outputs": [
    {
     "data": {
      "image/png": "[encoded data removed]",
      "text/plain": [
       "<Figure size 432x288 with 1 Axes>"
      ]
     },
     "metadata": {
      "needs_background": "light"
     },
     "output_type": "display_data"
    }
   ],
   "source": [
    "plt.plot(n,freqr)\n",
    "plt.xscale('log')"
   ]
  },
  {
   "cell_type": "code",
   "execution_count": 24,
   "id": "5d31a3b1",
   "metadata": {},
   "outputs": [],
   "source": [
    "Moneda = ['c','s']"
   ]
  },
  {
   "cell_type": "code",
   "execution_count": 27,
   "id": "af73ab15",
   "metadata": {},
   "outputs": [
    {
     "data": {
      "text/plain": [
       "'s'"
      ]
     },
     "execution_count": 27,
     "metadata": {},
     "output_type": "execute_result"
    }
   ],
   "source": [
    "np.random.choice(Moneda)"
   ]
  },
  {
   "cell_type": "code",
   "execution_count": 32,
   "id": "2473088e",
   "metadata": {},
   "outputs": [],
   "source": [
    "def GetFrequency1(n):\n",
    "    \n",
    "    Ntimes = 0\n",
    "    \n",
    "    Moneda = ['c','s']\n",
    "    \n",
    "    for i in range(int(n)):\n",
    "        d = np.random.randint(1,7)\n",
    "        m = np.random.choice(Moneda)\n",
    "        #print(t)\n",
    "        if d == 2:\n",
    "            Ntimes += 1\n",
    "    \n",
    "    return Ntimes/n"
   ]
  },
  {
   "cell_type": "code",
   "execution_count": 33,
   "id": "35e5e862",
   "metadata": {},
   "outputs": [
    {
     "data": {
      "text/plain": [
       "0.1596"
      ]
     },
     "execution_count": 33,
     "metadata": {},
     "output_type": "execute_result"
    }
   ],
   "source": [
    "GetFrequency1(10000)"
   ]
  },
  {
   "cell_type": "code",
   "execution_count": 34,
   "id": "33bf963a",
   "metadata": {},
   "outputs": [
    {
     "data": {
      "text/plain": [
       "0.16666666666666666"
      ]
     },
     "execution_count": 34,
     "metadata": {},
     "output_type": "execute_result"
    }
   ],
   "source": [
    "1/6"
   ]
  },
  {
   "cell_type": "code",
   "execution_count": 35,
   "id": "5ab1de88",
   "metadata": {},
   "outputs": [],
   "source": [
    "freq = []\n",
    "\n",
    "for i in range(10000):\n",
    "    d1 = np.random.randint(1,7)\n",
    "    d2 = np.random.randint(1,7)\n",
    "    freq.append(d1+d2)"
   ]
  },
  {
   "cell_type": "code",
   "execution_count": 37,
   "id": "73410d8e",
   "metadata": {},
   "outputs": [
    {
     "data": {
      "text/plain": [
       "(array([ 294.,  577.,  845., 1068., 1422., 1671., 1416., 1039.,  832.,\n",
       "         552.,  284.]),\n",
       " array([ 2.,  3.,  4.,  5.,  6.,  7.,  8.,  9., 10., 11., 12., 13.]),\n",
       " <BarContainer object of 11 artists>)"
      ]
     },
     "execution_count": 37,
     "metadata": {},
     "output_type": "execute_result"
    },
    {
     "data": {
      "image/png": "[encoded data removed]",
      "text/plain": [
       "<Figure size 432x288 with 1 Axes>"
      ]
     },
     "metadata": {
      "needs_background": "light"
     },
     "output_type": "display_data"
    }
   ],
   "source": [
    "x = np.linspace(2,13,12)\n",
    "plt.hist(freq,bins=x)"
   ]
  },
  {
   "cell_type": "code",
   "execution_count": 40,
   "id": "3e8c3f81",
   "metadata": {},
   "outputs": [
    {
     "data": {
      "text/plain": [
       "array([ 2.,  3.,  4.,  5.,  6.,  7.,  8.,  9., 10., 11., 12.])"
      ]
     },
     "execution_count": 40,
     "metadata": {},
     "output_type": "execute_result"
    }
   ],
   "source": [
    "x = np.linspace(2,13,12)\n",
    "h, bins = np.histogram( freq, bins=x )\n",
    "w = np.diff(bins)\n",
    "w\n",
    "m = bins[:-1]\n",
    "m"
   ]
  },
  {
   "cell_type": "code",
   "execution_count": 42,
   "id": "534e8791",
   "metadata": {},
   "outputs": [],
   "source": [
    "I = np.sum(h)\n",
    "hnorm = h/I"
   ]
  },
  {
   "cell_type": "code",
   "execution_count": 43,
   "id": "93c644b3",
   "metadata": {},
   "outputs": [
    {
     "data": {
      "text/plain": [
       "array([0.0294, 0.0577, 0.0845, 0.1068, 0.1422, 0.1671, 0.1416, 0.1039,\n",
       "       0.0832, 0.0552, 0.0284])"
      ]
     },
     "execution_count": 43,
     "metadata": {},
     "output_type": "execute_result"
    }
   ],
   "source": [
    "hnorm "
   ]
  },
  {
   "cell_type": "code",
   "execution_count": null,
   "id": "f406588c",
   "metadata": {},
   "outputs": [],
   "source": []
  }
 ],
 "metadata": {
  "kernelspec": {
   "display_name": "Python 3 (ipykernel)",
   "language": "python",
   "name": "python3"
  },
  "language_info": {
   "codemirror_mode": {
    "name": "ipython",
    "version": 3
   },
   "file_extension": ".py",
   "mimetype": "text/x-python",
   "name": "python",
   "nbconvert_exporter": "python",
   "pygments_lexer": "ipython3",
   "version": "3.9.12"
  }
 },
 "nbformat": 4,
 "nbformat_minor": 5
}
