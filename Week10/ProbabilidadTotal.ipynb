{
 "cells": [
  {
   "cell_type": "code",
   "execution_count": 2,
   "id": "8d9fd713",
   "metadata": {},
   "outputs": [],
   "source": [
    "import numpy as np\n",
    "import matplotlib.pyplot as plt"
   ]
  },
  {
   "cell_type": "code",
   "execution_count": 3,
   "id": "390ea71c",
   "metadata": {},
   "outputs": [],
   "source": [
    "Sexo = np.array([0,1]) # Hombre 1 mujer\n",
    "Gafas = np.array([0,1]) "
   ]
  },
  {
   "cell_type": "code",
   "execution_count": 4,
   "id": "ae9db96f",
   "metadata": {},
   "outputs": [],
   "source": [
    "PSexo = np.array([15/35,20/35])\n",
    "PGafasHombre = np.array([10/15,5/15])\n",
    "PGafasMujer = np.array([12/20,8/20])"
   ]
  },
  {
   "cell_type": "code",
   "execution_count": null,
   "id": "89840905",
   "metadata": {},
   "outputs": [],
   "source": [
    "N = int(1e4)\n",
    "\n",
    "LSexo = np.zeros(N)\n",
    "LGafas = np.zeros(N)\n",
    "\n",
    "for i in range(N):\n",
    "    \n",
    "    LSexo[i] = np.random.choice(Sexo, p=PSexo)\n",
    "    \n",
    "    if LSexo[i] == 0:\n",
    "        g = np.random.choice(Gafas, p=PGafasHombre)\n",
    "        if g == 1:\n",
    "            LGafas[i] = 1"
   ]
  }
 ],
 "metadata": {
  "kernelspec": {
   "display_name": "Python 3 (ipykernel)",
   "language": "python",
   "name": "python3"
  },
  "language_info": {
   "codemirror_mode": {
    "name": "ipython",
    "version": 3
   },
   "file_extension": ".py",
   "mimetype": "text/x-python",
   "name": "python",
   "nbconvert_exporter": "python",
   "pygments_lexer": "ipython3",
   "version": "3.9.12"
  }
 },
 "nbformat": 4,
 "nbformat_minor": 5
}
