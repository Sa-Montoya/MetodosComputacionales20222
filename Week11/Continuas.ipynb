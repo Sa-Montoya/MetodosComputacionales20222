{
 "cells": [
  {
   "cell_type": "code",
   "execution_count": 2,
   "id": "55798195",
   "metadata": {},
   "outputs": [],
   "source": [
    "import numpy as np\n",
    "import matplotlib.pyplot as plt\n",
    "from scipy.stats import norm \n",
    "from scipy.stats import t\n",
    "from scipy.stats import chi2\n",
    "from scipy import integrate"
   ]
  },
  {
   "cell_type": "code",
   "execution_count": 3,
   "id": "37451b2e",
   "metadata": {},
   "outputs": [],
   "source": [
    "def GetHisto(Data,bines):\n",
    "    \n",
    "    h,bins = np.histogram(Data,bins=bines)\n",
    "    w = np.diff(bins)\n",
    "    m = bins[:-1] + 0.5*w[0]\n",
    "    \n",
    "    hnorm = h / (np.sum(h)*w)\n",
    "    \n",
    "    return h,hnorm,m,w"
   ]
  },
  {
   "cell_type": "code",
   "execution_count": 19,
   "id": "d77c2435",
   "metadata": {},
   "outputs": [],
   "source": [
    "mu, sigma = 0,1\n",
    "N = 1000\n",
    "normal = norm.rvs(loc=mu,scale=sigma,size=N)"
   ]
  },
  {
   "cell_type": "code",
   "execution_count": 20,
   "id": "52bcc5fd",
   "metadata": {},
   "outputs": [
    {
     "data": {
      "text/plain": [
       "array([ 1,  0,  0,  0,  0,  1,  0,  0,  1,  3,  0,  1,  2,  0,  5,  0,  1,\n",
       "        2,  2,  1,  3,  2,  5,  8,  4,  4,  4,  7, 11,  9, 10,  8,  9, 10,\n",
       "       15, 16, 19, 19, 23, 17, 24, 24, 20, 23, 29, 30, 31, 27, 32, 22, 27,\n",
       "       26, 35, 26, 24, 15, 23, 21, 20, 23, 16, 16, 23, 13, 21, 23, 14, 17,\n",
       "       21, 10, 10,  6, 14,  7, 13,  6,  3,  7,  1,  7,  3,  3,  3,  3,  3,\n",
       "        2,  2,  1,  0,  1,  0,  0,  2,  1,  0,  0,  0,  1,  2])"
      ]
     },
     "execution_count": 20,
     "metadata": {},
     "output_type": "execute_result"
    }
   ],
   "source": [
    "xbins = np.linspace(np.min(normal),np.max(normal),100)\n",
    "Hb, HNb, mb, w = GetHisto(normal,xbins)\n",
    "Hb"
   ]
  },
  {
   "cell_type": "code",
   "execution_count": 21,
   "id": "08eb9354",
   "metadata": {},
   "outputs": [
    {
     "data": {
      "text/plain": [
       "(0.0, 1.0)"
      ]
     },
     "execution_count": 21,
     "metadata": {},
     "output_type": "execute_result"
    },
    {
     "data": {
      "image/png": "[encoded data removed]",
      "text/plain": [
       "<Figure size 432x288 with 1 Axes>"
      ]
     },
     "metadata": {
      "needs_background": "light"
     },
     "output_type": "display_data"
    }
   ],
   "source": [
    "plt.bar( mb, HNb, width=w, ec='k'  )\n",
    "plt.plot(xbins, norm.pdf(xbins,loc=mu,scale=sigma),color='r')\n",
    "plt.ylim(0,1)\n",
    "\n",
    "#for i in range(len(mb)):\n",
    "#    plt.text( mb[i], 0.02+ np.round( HNb[i],2), \\\n",
    "#            str(np.round( HNb[i]*100,2))+'%', ha='center',fontsize=15  )"
   ]
  },
  {
   "cell_type": "code",
   "execution_count": 22,
   "id": "76672d36",
   "metadata": {},
   "outputs": [
    {
     "data": {
      "text/plain": [
       "-0.3233680786573734"
      ]
     },
     "execution_count": 22,
     "metadata": {},
     "output_type": "execute_result"
    }
   ],
   "source": [
    "np.sum( HNb*xbins[:-1] )"
   ]
  },
  {
   "cell_type": "code",
   "execution_count": 27,
   "id": "59920118",
   "metadata": {},
   "outputs": [],
   "source": [
    "def normalpdf(x):\n",
    "    return x*norm.pdf(x,loc=mu,scale=sigma)"
   ]
  },
  {
   "cell_type": "code",
   "execution_count": 28,
   "id": "53f9a40d",
   "metadata": {},
   "outputs": [
    {
     "data": {
      "text/plain": [
       "0.0"
      ]
     },
     "execution_count": 28,
     "metadata": {},
     "output_type": "execute_result"
    }
   ],
   "source": [
    "I,_ = integrate.quad(normalpdf, -np.inf, np.inf)\n",
    "I"
   ]
  },
  {
   "cell_type": "code",
   "execution_count": null,
   "id": "13cf2a1a",
   "metadata": {},
   "outputs": [],
   "source": []
  }
 ],
 "metadata": {
  "kernelspec": {
   "display_name": "Python 3 (ipykernel)",
   "language": "python",
   "name": "python3"
  },
  "language_info": {
   "codemirror_mode": {
    "name": "ipython",
    "version": 3
   },
   "file_extension": ".py",
   "mimetype": "text/x-python",
   "name": "python",
   "nbconvert_exporter": "python",
   "pygments_lexer": "ipython3",
   "version": "3.9.12"
  }
 },
 "nbformat": 4,
 "nbformat_minor": 5
}
