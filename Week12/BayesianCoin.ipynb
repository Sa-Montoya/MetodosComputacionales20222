{
 "cells": [
  {
   "cell_type": "code",
   "execution_count": 3,
   "id": "06bee991",
   "metadata": {},
   "outputs": [],
   "source": [
    "#%matplotlib notebook\n",
    "import numpy             as np\n",
    "import matplotlib.pyplot as plt\n",
    "import corner\n",
    "from tqdm import tqdm\n",
    "import scipy.integrate as integrate\n",
    "import matplotlib.animation as anim"
   ]
  },
  {
   "cell_type": "code",
   "execution_count": 7,
   "id": "acdb52b7",
   "metadata": {},
   "outputs": [],
   "source": [
    "def Prior(p):\n",
    "    return np.piecewise(p, [p>=0 and p<=1,p<0 and p>1],[lambda p:1.,lambda p:0.])\n",
    "Prior = np.vectorize(Prior)"
   ]
  },
  {
   "cell_type": "code",
   "execution_count": 9,
   "id": "ddd2b20f",
   "metadata": {},
   "outputs": [
    {
     "data": {
      "text/plain": [
       "array(0.)"
      ]
     },
     "execution_count": 9,
     "metadata": {},
     "output_type": "execute_result"
    }
   ],
   "source": [
    "Prior(2.0)"
   ]
  },
  {
   "cell_type": "code",
   "execution_count": 11,
   "id": "dd4c0062",
   "metadata": {},
   "outputs": [],
   "source": [
    "def Likelihood(p,r,n):\n",
    "    return p**r*(1-p)**(n-r)"
   ]
  },
  {
   "cell_type": "code",
   "execution_count": 12,
   "id": "de80040e",
   "metadata": {},
   "outputs": [],
   "source": [
    "def Posterior(p,r,n):\n",
    "    return Likelihood(p,r,n)*Prior(p)"
   ]
  },
  {
   "cell_type": "code",
   "execution_count": 23,
   "id": "bdf69c8f",
   "metadata": {},
   "outputs": [],
   "source": [
    "p = np.linspace(0,1,1000)\n",
    "r = 7\n",
    "n = 10\n",
    "Pos = Posterior(p,r,n)"
   ]
  },
  {
   "cell_type": "code",
   "execution_count": 24,
   "id": "0480a2b1",
   "metadata": {},
   "outputs": [
    {
     "data": {
      "text/plain": [
       "0.0007575757575757576"
      ]
     },
     "execution_count": 24,
     "metadata": {},
     "output_type": "execute_result"
    }
   ],
   "source": [
    "I,_ = integrate.quad(Posterior,p[0],p[-1],args=(r,n))\n",
    "I"
   ]
  },
  {
   "cell_type": "code",
   "execution_count": 25,
   "id": "fd05b777",
   "metadata": {},
   "outputs": [
    {
     "data": {
      "text/plain": [
       "[<matplotlib.lines.Line2D at 0x7f85168bf160>]"
      ]
     },
     "execution_count": 25,
     "metadata": {},
     "output_type": "execute_result"
    },
    {
     "data": {
      "image/png": "[encoded data removed]",
      "text/plain": [
       "<Figure size 432x288 with 1 Axes>"
      ]
     },
     "metadata": {
      "needs_background": "light"
     },
     "output_type": "display_data"
    }
   ],
   "source": [
    "plt.plot(p,Pos/I)"
   ]
  },
  {
   "cell_type": "code",
   "execution_count": 26,
   "id": "c884f6ea",
   "metadata": {},
   "outputs": [
    {
     "data": {
      "text/plain": [
       "0.6996996996996997"
      ]
     },
     "execution_count": 26,
     "metadata": {},
     "output_type": "execute_result"
    }
   ],
   "source": [
    "index = np.where(np.amax(Pos)==Pos)\n",
    "hatp = p[index][0]\n",
    "hatp"
   ]
  },
  {
   "cell_type": "code",
   "execution_count": 27,
   "id": "4b492fa4",
   "metadata": {},
   "outputs": [
    {
     "data": {
      "text/plain": [
       "0.14495517580957562"
      ]
     },
     "execution_count": 27,
     "metadata": {},
     "output_type": "execute_result"
    }
   ],
   "source": [
    "sigma = np.sqrt( hatp*(1-hatp)/n )\n",
    "sigma"
   ]
  },
  {
   "cell_type": "code",
   "execution_count": 33,
   "id": "55495b67",
   "metadata": {},
   "outputs": [],
   "source": [
    "def Metropolis(x0,Posterior,NSteps=int(1e4), delta=0.4):\n",
    "    \n",
    "    x = np.zeros((NSteps,1))\n",
    "    x[0] = x0\n",
    "    \n",
    "    for i in tqdm(range(1,NSteps)):\n",
    "        \n",
    "        P0 = Posterior(x[i-1],r,n) # Present\n",
    "        \n",
    "        xf = x[i-1] + delta*2.*(np.random.rand()-0.5)\n",
    "        \n",
    "        P1 = Posterior(xf,r,n) # Future\n",
    "        \n",
    "        alpha = np.minimum(1,P1/P0)\n",
    "        \n",
    "        g = np.random.rand()\n",
    "        \n",
    "        if alpha > g:\n",
    "            x[i] = xf\n",
    "        else:\n",
    "            x[i] = x[i-1]\n",
    "            \n",
    "            \n",
    "    return x[100:,:]"
   ]
  },
  {
   "cell_type": "code",
   "execution_count": 34,
   "id": "ac21f09e",
   "metadata": {},
   "outputs": [
    {
     "name": "stderr",
     "output_type": "stream",
     "text": [
      "100%|█████████████████████████████████████████████████████████| 9999/9999 [00:04<00:00, 2307.59it/s]\n"
     ]
    }
   ],
   "source": [
    "initparams = np.array([0.2])\n",
    "MCMC = Metropolis(initparams,Posterior)"
   ]
  },
  {
   "cell_type": "code",
   "execution_count": 35,
   "id": "ee43c599",
   "metadata": {},
   "outputs": [
    {
     "data": {
      "text/plain": [
       "[<matplotlib.lines.Line2D at 0x7f851685d550>]"
      ]
     },
     "execution_count": 35,
     "metadata": {},
     "output_type": "execute_result"
    },
    {
     "data": {
      "image/png": "[encoded data removed]",
      "text/plain": [
       "<Figure size 432x288 with 1 Axes>"
      ]
     },
     "metadata": {
      "needs_background": "light"
     },
     "output_type": "display_data"
    }
   ],
   "source": [
    "plt.plot(MCMC[:,0])"
   ]
  },
  {
   "cell_type": "code",
   "execution_count": 40,
   "id": "e6353b03",
   "metadata": {},
   "outputs": [
    {
     "data": {
      "text/plain": [
       "[<matplotlib.lines.Line2D at 0x7f8515c29cd0>]"
      ]
     },
     "execution_count": 40,
     "metadata": {},
     "output_type": "execute_result"
    },
    {
     "data": {
      "image/png": "[encoded data removed]",
      "text/plain": [
       "<Figure size 432x288 with 1 Axes>"
      ]
     },
     "metadata": {
      "needs_background": "light"
     },
     "output_type": "display_data"
    }
   ],
   "source": [
    "plt.hist(MCMC[:,0],bins=50,density=True);\n",
    "plt.plot(p,Pos/I,color='r')"
   ]
  },
  {
   "cell_type": "code",
   "execution_count": null,
   "id": "deaf5780",
   "metadata": {},
   "outputs": [],
   "source": []
  }
 ],
 "metadata": {
  "kernelspec": {
   "display_name": "Python 3 (ipykernel)",
   "language": "python",
   "name": "python3"
  },
  "language_info": {
   "codemirror_mode": {
    "name": "ipython",
    "version": 3
   },
   "file_extension": ".py",
   "mimetype": "text/x-python",
   "name": "python",
   "nbconvert_exporter": "python",
   "pygments_lexer": "ipython3",
   "version": "3.9.12"
  }
 },
 "nbformat": 4,
 "nbformat_minor": 5
}
