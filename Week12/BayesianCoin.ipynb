{
 "cells": [
  {
   "cell_type": "code",
   "execution_count": 1,
   "id": "06bee991",
   "metadata": {},
   "outputs": [],
   "source": [
    "#%matplotlib notebook\n",
    "import numpy             as np\n",
    "import matplotlib.pyplot as plt\n",
    "import corner\n",
    "from tqdm import tqdm\n",
    "import scipy.integrate as integrate\n",
    "import matplotlib.animation as anim"
   ]
  },
  {
   "cell_type": "code",
   "execution_count": 2,
   "id": "acdb52b7",
   "metadata": {},
   "outputs": [],
   "source": [
    "def Prior(p):\n",
    "    return np.piecewise(p, [p>=0 and p<=1,p<0 and p>1],[lambda p:1.,lambda p:0.])\n",
    "Prior = np.vectorize(Prior)"
   ]
  },
  {
   "cell_type": "code",
   "execution_count": 3,
   "id": "4bd1c5bf",
   "metadata": {},
   "outputs": [
    {
     "data": {
      "text/plain": [
       "array(0.)"
      ]
     },
     "execution_count": 3,
     "metadata": {},
     "output_type": "execute_result"
    }
   ],
   "source": [
    "Prior(2.0)"
   ]
  },
  {
   "cell_type": "code",
   "execution_count": 4,
   "id": "2665c796",
   "metadata": {},
   "outputs": [],
   "source": [
    "def Likelihood(p,r,n):\n",
    "    return p**r*(1-p)**(n-r)"
   ]
  },
  {
   "cell_type": "code",
   "execution_count": 5,
   "id": "0ccedc67",
   "metadata": {},
   "outputs": [],
   "source": [
    "def Posterior(p,r,n):\n",
    "    return Likelihood(p,r,n)*Prior(p)"
   ]
  },
  {
   "cell_type": "code",
   "execution_count": 6,
   "id": "a59ac070",
   "metadata": {},
   "outputs": [],
   "source": [
    "p = np.linspace(0,1,1000)\n",
    "r = 7\n",
    "n = 10\n",
    "Pos = Posterior(p,r,n)"
   ]
  },
  {
   "cell_type": "code",
   "execution_count": 7,
   "id": "f6085072",
   "metadata": {},
   "outputs": [
    {
     "data": {
      "text/plain": [
       "0.0007575757575757576"
      ]
     },
     "execution_count": 7,
     "metadata": {},
     "output_type": "execute_result"
    }
   ],
   "source": [
    "I,_ = integrate.quad(Posterior,p[0],p[-1],args=(r,n))\n",
    "I"
   ]
  },
  {
   "cell_type": "code",
   "execution_count": 8,
   "id": "3db018ee",
   "metadata": {},
   "outputs": [
    {
     "data": {
      "text/plain": [
       "[<matplotlib.lines.Line2D at 0x7fc5fe694d60>]"
      ]
     },
     "execution_count": 8,
     "metadata": {},
     "output_type": "execute_result"
    },
    {
     "data": {
      "image/png": "[encoded data removed]",
      "text/plain": [
       "<Figure size 432x288 with 1 Axes>"
      ]
     },
     "metadata": {
      "needs_background": "light"
     },
     "output_type": "display_data"
    }
   ],
   "source": [
    "plt.plot(p,Pos/I)"
   ]
  },
  {
   "cell_type": "code",
   "execution_count": 9,
   "id": "804395ad",
   "metadata": {},
   "outputs": [
    {
     "data": {
      "text/plain": [
       "0.6996996996996997"
      ]
     },
     "execution_count": 9,
     "metadata": {},
     "output_type": "execute_result"
    }
   ],
   "source": [
    "index = np.where(np.amax(Pos)==Pos)\n",
    "hatp = p[index][0]\n",
    "hatp"
   ]
  },
  {
   "cell_type": "code",
   "execution_count": 10,
   "id": "6b9bd1c2",
   "metadata": {},
   "outputs": [
    {
     "data": {
      "text/plain": [
       "0.14495517580957562"
      ]
     },
     "execution_count": 10,
     "metadata": {},
     "output_type": "execute_result"
    }
   ],
   "source": [
    "sigma = np.sqrt( hatp*(1-hatp)/n )\n",
    "sigma"
   ]
  },
  {
   "cell_type": "code",
   "execution_count": 11,
   "id": "45b5187b",
   "metadata": {},
   "outputs": [],
   "source": [
    "def Metropolis(x0,Posterior,NSteps=int(5e4), delta=0.4):\n",
    "    \n",
    "    x = np.zeros((NSteps,1))\n",
    "    x[0] = x0\n",
    "    \n",
    "    for i in tqdm(range(1,NSteps)):\n",
    "        \n",
    "        P0 = Posterior(x[i-1],r,n) # Present\n",
    "        \n",
    "        xf = x[i-1] + delta*2.*(np.random.rand()-0.5)\n",
    "        \n",
    "        P1 = Posterior(xf,r,n) # Future\n",
    "        \n",
    "        alpha = np.minimum(1,P1/P0)\n",
    "        \n",
    "        g = np.random.rand()\n",
    "        \n",
    "        if alpha > g:\n",
    "            x[i] = xf\n",
    "        else:\n",
    "            x[i] = x[i-1]\n",
    "            \n",
    "            \n",
    "    return x[100:,:]"
   ]
  },
  {
   "cell_type": "code",
   "execution_count": 12,
   "id": "48ddab11",
   "metadata": {},
   "outputs": [
    {
     "name": "stderr",
     "output_type": "stream",
     "text": [
      "100%|███████████████████████████████████████████████████████| 49999/49999 [00:20<00:00, 2405.86it/s]\n"
     ]
    }
   ],
   "source": [
    "initparams = np.array([0.2])\n",
    "MCMC = Metropolis(initparams,Posterior)"
   ]
  },
  {
   "cell_type": "code",
   "execution_count": 13,
   "id": "77194d01",
   "metadata": {},
   "outputs": [
    {
     "data": {
      "text/plain": [
       "[<matplotlib.lines.Line2D at 0x7fc5fd5b03d0>]"
      ]
     },
     "execution_count": 13,
     "metadata": {},
     "output_type": "execute_result"
    },
    {
     "data": {
      "image/png": "[encoded data removed]",
      "text/plain": [
       "<Figure size 432x288 with 1 Axes>"
      ]
     },
     "metadata": {
      "needs_background": "light"
     },
     "output_type": "display_data"
    }
   ],
   "source": [
    "plt.plot(MCMC[:,0])"
   ]
  },
  {
   "cell_type": "code",
   "execution_count": 14,
   "id": "0aea58fa",
   "metadata": {},
   "outputs": [
    {
     "data": {
      "text/plain": [
       "[<matplotlib.lines.Line2D at 0x7fc5fcdb6ac0>]"
      ]
     },
     "execution_count": 14,
     "metadata": {},
     "output_type": "execute_result"
    },
    {
     "data": {
      "image/png": "[encoded data removed]",
      "text/plain": [
       "<Figure size 432x288 with 1 Axes>"
      ]
     },
     "metadata": {
      "needs_background": "light"
     },
     "output_type": "display_data"
    }
   ],
   "source": [
    "plt.hist(MCMC[:,0],bins=50,density=True);\n",
    "plt.plot(p,Pos/I,color='r')"
   ]
  },
  {
   "cell_type": "code",
   "execution_count": 15,
   "id": "4897b32c",
   "metadata": {},
   "outputs": [
    {
     "data": {
      "text/plain": [
       "array([0.6759399])"
      ]
     },
     "execution_count": 15,
     "metadata": {},
     "output_type": "execute_result"
    }
   ],
   "source": [
    "mean = np.percentile(MCMC, 50, axis=0)\n",
    "mean"
   ]
  },
  {
   "cell_type": "code",
   "execution_count": 16,
   "id": "dfd34b15",
   "metadata": {},
   "outputs": [
    {
     "data": {
      "text/plain": [
       "<matplotlib.lines.Line2D at 0x7fc5fcd0ba30>"
      ]
     },
     "execution_count": 16,
     "metadata": {},
     "output_type": "execute_result"
    },
    {
     "data": {
      "image/png": "[encoded data removed]",
      "text/plain": [
       "<Figure size 432x288 with 1 Axes>"
      ]
     },
     "metadata": {
      "needs_background": "light"
     },
     "output_type": "display_data"
    }
   ],
   "source": [
    "plt.hist(MCMC[:,0],bins=50,density=True);\n",
    "plt.plot(p,Pos/I,color='r')\n",
    "plt.axvline(x=mean,color='k')"
   ]
  },
  {
   "cell_type": "code",
   "execution_count": 17,
   "id": "83896ab8",
   "metadata": {},
   "outputs": [
    {
     "data": {
      "text/plain": [
       "array([0.533866  , 0.79996255])"
      ]
     },
     "execution_count": 17,
     "metadata": {},
     "output_type": "execute_result"
    }
   ],
   "source": [
    "q = np.quantile( MCMC[:,0], q = [0.16,0.84], axis=0)\n",
    "q"
   ]
  },
  {
   "cell_type": "code",
   "execution_count": 18,
   "id": "2023bf58",
   "metadata": {},
   "outputs": [
    {
     "name": "stdout",
     "output_type": "stream",
     "text": [
      "[0.12402265] [0.1420739]\n"
     ]
    }
   ],
   "source": [
    "errorinf = mean-q[0]\n",
    "errorsup = q[1]-mean\n",
    "print(errorsup,errorinf)"
   ]
  },
  {
   "cell_type": "code",
   "execution_count": null,
   "id": "96c7b474",
   "metadata": {},
   "outputs": [],
   "source": []
  }
 ],
 "metadata": {
  "kernelspec": {
   "display_name": "Python 3 (ipykernel)",
   "language": "python",
   "name": "python3"
  },
  "language_info": {
   "codemirror_mode": {
    "name": "ipython",
    "version": 3
   },
   "file_extension": ".py",
   "mimetype": "text/x-python",
   "name": "python",
   "nbconvert_exporter": "python",
   "pygments_lexer": "ipython3",
   "version": "3.9.12"
  }
 },
 "nbformat": 4,
 "nbformat_minor": 5
}
