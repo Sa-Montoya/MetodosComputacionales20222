{
 "cells": [
  {
   "cell_type": "code",
   "execution_count": 3,
   "id": "06bee991",
   "metadata": {},
   "outputs": [],
   "source": [
    "#%matplotlib notebook\n",
    "import numpy             as np\n",
    "import matplotlib.pyplot as plt\n",
    "import corner\n",
    "from tqdm import tqdm\n",
    "import scipy.integrate as integrate\n",
    "import matplotlib.animation as anim"
   ]
  },
  {
   "cell_type": "code",
   "execution_count": 7,
   "id": "acdb52b7",
   "metadata": {},
   "outputs": [],
   "source": [
    "def Prior(p):\n",
    "    return np.piecewise(p, [p>=0 and p<=1,p<0 and p>1],[lambda p:1.,lambda p:0.])\n",
    "Prior = np.vectorize(Prior)"
   ]
  },
  {
   "cell_type": "code",
   "execution_count": 9,
   "id": "d65d624d",
   "metadata": {},
   "outputs": [
    {
     "data": {
      "text/plain": [
       "array(0.)"
      ]
     },
     "execution_count": 9,
     "metadata": {},
     "output_type": "execute_result"
    }
   ],
   "source": [
    "Prior(2.0)"
   ]
  },
  {
   "cell_type": "code",
   "execution_count": 11,
   "id": "2a2de246",
   "metadata": {},
   "outputs": [],
   "source": [
    "def Likelihood(p,r,n):\n",
    "    return p**r*(1-p)**(n-r)"
   ]
  },
  {
   "cell_type": "code",
   "execution_count": 12,
   "id": "11e356f7",
   "metadata": {},
   "outputs": [],
   "source": [
    "def Posterior(p,r,n):\n",
    "    return Likelihood(p,r,n)*Prior(p)"
   ]
  },
  {
   "cell_type": "code",
   "execution_count": 13,
   "id": "d6baa38f",
   "metadata": {},
   "outputs": [],
   "source": [
    "p = np.linspace(0,1,1000)\n",
    "r = 7\n",
    "n = 10\n",
    "Pos = Posterior(p,r,n)"
   ]
  },
  {
   "cell_type": "code",
   "execution_count": 15,
   "id": "43265504",
   "metadata": {},
   "outputs": [
    {
     "data": {
      "text/plain": [
       "0.0007575757575757576"
      ]
     },
     "execution_count": 15,
     "metadata": {},
     "output_type": "execute_result"
    }
   ],
   "source": [
    "I,_ = integrate.quad(Posterior,p[0],p[-1],args=(r,n))\n",
    "I"
   ]
  },
  {
   "cell_type": "code",
   "execution_count": 16,
   "id": "bcbc1361",
   "metadata": {},
   "outputs": [
    {
     "data": {
      "text/plain": [
       "[<matplotlib.lines.Line2D at 0x7f85169e7d00>]"
      ]
     },
     "execution_count": 16,
     "metadata": {},
     "output_type": "execute_result"
    },
    {
     "data": {
      "image/png": "[encoded data removed]",
      "text/plain": [
       "<Figure size 432x288 with 1 Axes>"
      ]
     },
     "metadata": {
      "needs_background": "light"
     },
     "output_type": "display_data"
    }
   ],
   "source": [
    "plt.plot(p,Pos/I)"
   ]
  },
  {
   "cell_type": "code",
   "execution_count": 17,
   "id": "f72b3323",
   "metadata": {},
   "outputs": [
    {
     "data": {
      "text/plain": [
       "0.6996996996996997"
      ]
     },
     "execution_count": 17,
     "metadata": {},
     "output_type": "execute_result"
    }
   ],
   "source": [
    "index = np.where(np.amax(Pos)==Pos)\n",
    "hatp = p[index][0]\n",
    "hatp"
   ]
  },
  {
   "cell_type": "code",
   "execution_count": null,
   "id": "44ae8b20",
   "metadata": {},
   "outputs": [],
   "source": []
  }
 ],
 "metadata": {
  "kernelspec": {
   "display_name": "Python 3 (ipykernel)",
   "language": "python",
   "name": "python3"
  },
  "language_info": {
   "codemirror_mode": {
    "name": "ipython",
    "version": 3
   },
   "file_extension": ".py",
   "mimetype": "text/x-python",
   "name": "python",
   "nbconvert_exporter": "python",
   "pygments_lexer": "ipython3",
   "version": "3.9.12"
  }
 },
 "nbformat": 4,
 "nbformat_minor": 5
}
