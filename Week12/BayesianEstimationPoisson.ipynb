{
 "cells": [
  {
   "cell_type": "code",
   "execution_count": 2,
   "id": "257ed273",
   "metadata": {},
   "outputs": [],
   "source": [
    "import numpy as np"
   ]
  },
  {
   "cell_type": "code",
   "execution_count": 5,
   "id": "fb9b46d4",
   "metadata": {},
   "outputs": [],
   "source": [
    "prior = np.array([0.4,0.3,0.2,0.1])\n",
    "prior\n",
    "lambda_ = np.array([1,2,3,4])"
   ]
  },
  {
   "cell_type": "code",
   "execution_count": 6,
   "id": "4c1af5ba",
   "metadata": {},
   "outputs": [
    {
     "data": {
      "text/plain": [
       "2.0"
      ]
     },
     "execution_count": 6,
     "metadata": {},
     "output_type": "execute_result"
    }
   ],
   "source": [
    "np.sum(prior*lambda_)"
   ]
  },
  {
   "cell_type": "code",
   "execution_count": 9,
   "id": "3ca1f796",
   "metadata": {},
   "outputs": [],
   "source": [
    "Poisson = lambda mu,x: np.exp(-mu)*mu**x / np.math.factorial(x)"
   ]
  },
  {
   "cell_type": "code",
   "execution_count": 11,
   "id": "0be8b656",
   "metadata": {},
   "outputs": [
    {
     "data": {
      "text/plain": [
       "array([0.01532831, 0.09022352, 0.16803136, 0.19536681])"
      ]
     },
     "execution_count": 11,
     "metadata": {},
     "output_type": "execute_result"
    }
   ],
   "source": [
    "Likelihood = Poisson(lambda_,4)\n",
    "Likelihood"
   ]
  },
  {
   "cell_type": "code",
   "execution_count": null,
   "id": "721216a6",
   "metadata": {},
   "outputs": [],
   "source": []
  }
 ],
 "metadata": {
  "kernelspec": {
   "display_name": "Python 3 (ipykernel)",
   "language": "python",
   "name": "python3"
  },
  "language_info": {
   "codemirror_mode": {
    "name": "ipython",
    "version": 3
   },
   "file_extension": ".py",
   "mimetype": "text/x-python",
   "name": "python",
   "nbconvert_exporter": "python",
   "pygments_lexer": "ipython3",
   "version": "3.9.12"
  }
 },
 "nbformat": 4,
 "nbformat_minor": 5
}
