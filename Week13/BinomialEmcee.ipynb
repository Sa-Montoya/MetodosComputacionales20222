{
 "cells": [
  {
   "cell_type": "code",
   "execution_count": 1,
   "id": "f91bbc0e",
   "metadata": {},
   "outputs": [],
   "source": [
    "import numpy as np\n",
    "import matplotlib.pyplot as plt\n",
    "import emcee\n",
    "import corner"
   ]
  },
  {
   "cell_type": "markdown",
   "id": "97bbbff7",
   "metadata": {},
   "source": [
    "https://emcee.readthedocs.io/en/stable/"
   ]
  },
  {
   "cell_type": "code",
   "execution_count": 2,
   "id": "fcafab8f",
   "metadata": {},
   "outputs": [],
   "source": [
    "def Likelihood(p,r,n):\n",
    "    L = p**r*(1-p)**(n-r)\n",
    "    return L"
   ]
  },
  {
   "cell_type": "code",
   "execution_count": 3,
   "id": "994dfb75",
   "metadata": {},
   "outputs": [],
   "source": [
    "def LogPrior(p):\n",
    "    \n",
    "    if 0 < p < 1:\n",
    "        return 0.\n",
    "    else:\n",
    "        return -np.inf"
   ]
  },
  {
   "cell_type": "code",
   "execution_count": null,
   "id": "a39cc485",
   "metadata": {},
   "outputs": [],
   "source": []
  }
 ],
 "metadata": {
  "kernelspec": {
   "display_name": "Python 3 (ipykernel)",
   "language": "python",
   "name": "python3"
  },
  "language_info": {
   "codemirror_mode": {
    "name": "ipython",
    "version": 3
   },
   "file_extension": ".py",
   "mimetype": "text/x-python",
   "name": "python",
   "nbconvert_exporter": "python",
   "pygments_lexer": "ipython3",
   "version": "3.9.12"
  }
 },
 "nbformat": 4,
 "nbformat_minor": 5
}
