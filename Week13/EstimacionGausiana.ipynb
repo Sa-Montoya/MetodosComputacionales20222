{
 "cells": [
  {
   "cell_type": "code",
   "execution_count": 4,
   "id": "aa98be6d",
   "metadata": {},
   "outputs": [
    {
     "data": {
      "text/html": [],
      "text/plain": [
       "<IPython.core.display.HTML object>"
      ]
     },
     "metadata": {},
     "output_type": "display_data"
    }
   ],
   "source": [
    "from IPython.display import display, HTML\n",
    "display(HTML(\"\"))\n",
    "import numpy as np\n",
    "import matplotlib.pyplot as plt\n",
    "from mpl_toolkits.mplot3d import Axes3D\n",
    "from IPython.display import IFrame, display\n",
    "from matplotlib import cm\n",
    "import pandas as pd\n",
    "import os.path as path\n",
    "import os\n",
    "import wget\n",
    "from tqdm import tqdm\n",
    "import corner\n",
    "\n",
    "from scipy.integrate import dblquad"
   ]
  },
  {
   "cell_type": "code",
   "execution_count": 5,
   "id": "e2e64d43",
   "metadata": {},
   "outputs": [
    {
     "name": "stdout",
     "output_type": "stream",
     "text": [
      "\r",
      "  0% [                                                                                ]    0 / 1836\r",
      "100% [................................................................................] 1836 / 1836File loaded\n"
     ]
    }
   ],
   "source": [
    "# Descargamos data\n",
    "if not path.exists('Data'):\n",
    "    os.mkdir('Data')\n",
    "\n",
    "!rm Data/*\n",
    "\n",
    "file = 'Data/Gaussiana.csv'\n",
    "url = 'https://raw.githubusercontent.com/asegura4488/Database/main/MetodosComputacionalesReforma/Gaussiano.csv'\n",
    "#url = 'https://raw.githubusercontent.com/asegura4488/DataBase/main/MetodosComputacionales/Likelihood.dat'\n",
    "if not path.exists(file):\n",
    "    Path_ = wget.download(url,file)\n",
    "    print('File loaded')\n",
    "else:\n",
    "    Path_ = file"
   ]
  },
  {
   "cell_type": "code",
   "execution_count": 12,
   "id": "1d943569",
   "metadata": {},
   "outputs": [
    {
     "data": {
      "text/plain": [
       "100"
      ]
     },
     "execution_count": 12,
     "metadata": {},
     "output_type": "execute_result"
    }
   ],
   "source": [
    "Data = pd.read_csv(Path_)\n",
    "X = Data.x\n",
    "\n",
    "#X = np.loadtxt(Path_)\n",
    "len(X)"
   ]
  },
  {
   "cell_type": "code",
   "execution_count": 11,
   "id": "1c336800",
   "metadata": {},
   "outputs": [],
   "source": [
    "#plt.hist(X,bins=25);"
   ]
  },
  {
   "cell_type": "code",
   "execution_count": 13,
   "id": "34734629",
   "metadata": {},
   "outputs": [],
   "source": [
    "def LogPrior(p):\n",
    "    mu, sigma = p\n",
    "    if 3 <= mu <= 5 and 0.5 <= sigma <= 3.5:\n",
    "        return 0.\n",
    "    else:\n",
    "        return -np.inf"
   ]
  },
  {
   "cell_type": "code",
   "execution_count": 14,
   "id": "1cb355af",
   "metadata": {},
   "outputs": [],
   "source": [
    "def Gaus(p,x):\n",
    "    mu, sigma = p\n",
    "    return np.exp( -0.5*( (x-mu)/sigma )**2 )/np.sqrt( 2*np.pi*sigma**2 )"
   ]
  },
  {
   "cell_type": "code",
   "execution_count": 15,
   "id": "64cfa25e",
   "metadata": {},
   "outputs": [],
   "source": [
    "def Likelihood(p,x):\n",
    "    return Gaus(p,x)"
   ]
  },
  {
   "cell_type": "code",
   "execution_count": 18,
   "id": "5881bedb",
   "metadata": {},
   "outputs": [],
   "source": [
    "#Likelihood([1,0.7],X)"
   ]
  },
  {
   "cell_type": "code",
   "execution_count": 19,
   "id": "dbebb3f7",
   "metadata": {},
   "outputs": [],
   "source": [
    "def JointLikelihood(p,x):\n",
    "    return np.sum(np.log(Likelihood(p,x)))"
   ]
  },
  {
   "cell_type": "code",
   "execution_count": 21,
   "id": "7aa813e2",
   "metadata": {},
   "outputs": [
    {
     "data": {
      "text/plain": [
       "-1034.5107206667983"
      ]
     },
     "execution_count": 21,
     "metadata": {},
     "output_type": "execute_result"
    }
   ],
   "source": [
    "JointLikelihood([1,0.8],X)"
   ]
  },
  {
   "cell_type": "code",
   "execution_count": 24,
   "id": "7b119c2d",
   "metadata": {},
   "outputs": [],
   "source": [
    "def LogPosterior(p,x):\n",
    "    LogP = LogPrior(p)\n",
    "    \n",
    "    if not np.isfinite(LogP):\n",
    "        return -np.inf\n",
    "    else:\n",
    "        return JointLikelihood(p,x) + LogP"
   ]
  },
  {
   "cell_type": "code",
   "execution_count": 28,
   "id": "2b3296e4",
   "metadata": {},
   "outputs": [
    {
     "data": {
      "text/plain": [
       "-345.0026107612527"
      ]
     },
     "execution_count": 28,
     "metadata": {},
     "output_type": "execute_result"
    }
   ],
   "source": [
    "LogPosterior([3.5,0.8],X)"
   ]
  },
  {
   "cell_type": "code",
   "execution_count": null,
   "id": "7d238f9e",
   "metadata": {},
   "outputs": [],
   "source": []
  }
 ],
 "metadata": {
  "kernelspec": {
   "display_name": "Python 3 (ipykernel)",
   "language": "python",
   "name": "python3"
  },
  "language_info": {
   "codemirror_mode": {
    "name": "ipython",
    "version": 3
   },
   "file_extension": ".py",
   "mimetype": "text/x-python",
   "name": "python",
   "nbconvert_exporter": "python",
   "pygments_lexer": "ipython3",
   "version": "3.9.12"
  }
 },
 "nbformat": 4,
 "nbformat_minor": 5
}
