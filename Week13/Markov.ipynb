{
 "cells": [
  {
   "cell_type": "code",
   "execution_count": 2,
   "id": "468744f6",
   "metadata": {},
   "outputs": [],
   "source": [
    "import numpy as np\n",
    "import matplotlib.pyplot as plt"
   ]
  },
  {
   "cell_type": "code",
   "execution_count": 3,
   "id": "99d0e7fa",
   "metadata": {},
   "outputs": [],
   "source": [
    "T = np.array([[0.30,0.25,0.15,0.10],\\\n",
    "              [0.30,0.25,0.55,0.20],\\\n",
    "              [0.30,0.50,0.10,0.30],\\\n",
    "              [0.10,0.00,0.20,0.40]])"
   ]
  },
  {
   "cell_type": "code",
   "execution_count": 4,
   "id": "4fe2a5e2",
   "metadata": {},
   "outputs": [
    {
     "data": {
      "text/plain": [
       "array([1., 1., 1., 1.])"
      ]
     },
     "execution_count": 4,
     "metadata": {},
     "output_type": "execute_result"
    }
   ],
   "source": [
    "np.sum(T,axis=0)"
   ]
  },
  {
   "cell_type": "code",
   "execution_count": 5,
   "id": "435a8abd",
   "metadata": {},
   "outputs": [],
   "source": [
    "Initial = np.array([0,0,1,0])\n",
    "States = np.array([Initial])"
   ]
  },
  {
   "cell_type": "code",
   "execution_count": 6,
   "id": "e1163bd7",
   "metadata": {},
   "outputs": [],
   "source": [
    "NSteps = 10\n",
    "for i in range(NSteps):\n",
    "    Initial = np.dot(T,Initial)\n",
    "    States = np.vstack((States,Initial))"
   ]
  },
  {
   "cell_type": "code",
   "execution_count": 7,
   "id": "983e012c",
   "metadata": {},
   "outputs": [
    {
     "data": {
      "text/plain": [
       "array([[0.        , 0.        , 1.        , 0.        ],\n",
       "       [0.15      , 0.55      , 0.1       , 0.2       ],\n",
       "       [0.2175    , 0.2775    , 0.39      , 0.115     ],\n",
       "       [0.204625  , 0.372125  , 0.2775    , 0.14575   ],\n",
       "       [0.21061875, 0.33619375, 0.318925  , 0.1342625 ],\n",
       "       [0.20849906, 0.34949531, 0.30345375, 0.13855188],\n",
       "       [0.2092968 , 0.34453348, 0.30920831, 0.13696141],\n",
       "       [0.2089998 , 0.34637926, 0.30706503, 0.1375559 ],\n",
       "       [0.2091101 , 0.3456917 , 0.30786285, 0.13733535],\n",
       "       [0.20906892, 0.34594759, 0.30756577, 0.13741772],\n",
       "       [0.20908421, 0.34585229, 0.30767636, 0.13738713]])"
      ]
     },
     "execution_count": 7,
     "metadata": {},
     "output_type": "execute_result"
    }
   ],
   "source": [
    "States"
   ]
  },
  {
   "cell_type": "code",
   "execution_count": 8,
   "id": "616cef0b",
   "metadata": {},
   "outputs": [
    {
     "data": {
      "image/png": "[encoded data removed]",
      "text/plain": [
       "<Figure size 432x288 with 1 Axes>"
      ]
     },
     "metadata": {
      "needs_background": "light"
     },
     "output_type": "display_data"
    }
   ],
   "source": [
    "for i in range(len(Initial)):\n",
    "    plt.plot(States[:,i])"
   ]
  },
  {
   "cell_type": "code",
   "execution_count": null,
   "id": "36b39510",
   "metadata": {},
   "outputs": [],
   "source": []
  }
 ],
 "metadata": {
  "kernelspec": {
   "display_name": "Python 3 (ipykernel)",
   "language": "python",
   "name": "python3"
  },
  "language_info": {
   "codemirror_mode": {
    "name": "ipython",
    "version": 3
   },
   "file_extension": ".py",
   "mimetype": "text/x-python",
   "name": "python",
   "nbconvert_exporter": "python",
   "pygments_lexer": "ipython3",
   "version": "3.9.12"
  }
 },
 "nbformat": 4,
 "nbformat_minor": 5
}
