{
 "cells": [
  {
   "cell_type": "code",
   "execution_count": 1,
   "id": "468744f6",
   "metadata": {},
   "outputs": [],
   "source": [
    "import numpy as np\n",
    "import matplotlib.pyplot as plt"
   ]
  },
  {
   "cell_type": "code",
   "execution_count": 2,
   "id": "99d0e7fa",
   "metadata": {},
   "outputs": [],
   "source": [
    "T = np.array([[0.30,0.25,0.15,0.10],\\\n",
    "              [0.30,0.25,0.55,0.20],\\\n",
    "              [0.30,0.50,0.10,0.30],\\\n",
    "              [0.10,0.00,0.20,0.40]])"
   ]
  },
  {
   "cell_type": "code",
   "execution_count": 3,
   "id": "4fe2a5e2",
   "metadata": {},
   "outputs": [
    {
     "data": {
      "text/plain": [
       "array([[0.3 , 0.25, 0.15, 0.1 ],\n",
       "       [0.3 , 0.25, 0.55, 0.2 ],\n",
       "       [0.3 , 0.5 , 0.1 , 0.3 ],\n",
       "       [0.1 , 0.  , 0.2 , 0.4 ]])"
      ]
     },
     "execution_count": 3,
     "metadata": {},
     "output_type": "execute_result"
    }
   ],
   "source": [
    "T"
   ]
  },
  {
   "cell_type": "code",
   "execution_count": null,
   "id": "435a8abd",
   "metadata": {},
   "outputs": [],
   "source": []
  }
 ],
 "metadata": {
  "kernelspec": {
   "display_name": "Python 3 (ipykernel)",
   "language": "python",
   "name": "python3"
  },
  "language_info": {
   "codemirror_mode": {
    "name": "ipython",
    "version": 3
   },
   "file_extension": ".py",
   "mimetype": "text/x-python",
   "name": "python",
   "nbconvert_exporter": "python",
   "pygments_lexer": "ipython3",
   "version": "3.9.12"
  }
 },
 "nbformat": 4,
 "nbformat_minor": 5
}
