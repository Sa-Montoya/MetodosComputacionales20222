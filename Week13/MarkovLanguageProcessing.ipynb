{
 "cells": [
  {
   "cell_type": "code",
   "execution_count": 1,
   "id": "fe876f40",
   "metadata": {},
   "outputs": [],
   "source": [
    "import numpy as np\n",
    "import matplotlib.pyplot as plt"
   ]
  },
  {
   "cell_type": "code",
   "execution_count": 2,
   "id": "bcf81873",
   "metadata": {},
   "outputs": [],
   "source": [
    "T = np.array([[0.10,0.00,0.80,0.10,0.00],\\\n",
    "              [0.10,0.20,0.00,0.70,0.00],\\\n",
    "              [0.10,0.70,0.10,0.10,0.00],\\\n",
    "              [0.00,0.10,0.10,0.10,0.90],\\\n",
    "              [0.70,0.00,0.00,0.00,0.10],\\\n",
    "             ])"
   ]
  },
  {
   "cell_type": "code",
   "execution_count": null,
   "id": "1fe21bdc",
   "metadata": {},
   "outputs": [],
   "source": []
  }
 ],
 "metadata": {
  "kernelspec": {
   "display_name": "Python 3 (ipykernel)",
   "language": "python",
   "name": "python3"
  },
  "language_info": {
   "codemirror_mode": {
    "name": "ipython",
    "version": 3
   },
   "file_extension": ".py",
   "mimetype": "text/x-python",
   "name": "python",
   "nbconvert_exporter": "python",
   "pygments_lexer": "ipython3",
   "version": "3.9.12"
  }
 },
 "nbformat": 4,
 "nbformat_minor": 5
}
