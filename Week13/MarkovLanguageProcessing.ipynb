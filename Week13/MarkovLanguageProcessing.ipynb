{
 "cells": [
  {
   "cell_type": "code",
   "execution_count": 1,
   "id": "fe876f40",
   "metadata": {},
   "outputs": [],
   "source": [
    "import numpy as np\n",
    "import matplotlib.pyplot as plt"
   ]
  },
  {
   "cell_type": "code",
   "execution_count": 9,
   "id": "31f53f76",
   "metadata": {},
   "outputs": [],
   "source": [
    "Dict = {0:'a',1:'o',2:'m',3:'r',4:' '}"
   ]
  },
  {
   "cell_type": "code",
   "execution_count": 10,
   "id": "bcf81873",
   "metadata": {},
   "outputs": [],
   "source": [
    "T = np.array([[0.10,0.00,0.80,0.10,0.00],\\\n",
    "              [0.10,0.20,0.00,0.70,0.00],\\\n",
    "              [0.10,0.70,0.10,0.10,0.00],\\\n",
    "              [0.00,0.10,0.10,0.10,0.90],\\\n",
    "              [0.70,0.00,0.00,0.00,0.10],\\\n",
    "             ])"
   ]
  },
  {
   "cell_type": "code",
   "execution_count": 14,
   "id": "1fe21bdc",
   "metadata": {},
   "outputs": [],
   "source": [
    "def GetString(Initial,T,N=int(30)):\n",
    "    \n",
    "    tex=''\n",
    "    States = np.array([Initial])\n",
    "    \n",
    "    for i in range(N):\n",
    "        Initial = np.dot(T,Initial)\n",
    "        States = np.vstack((States,Initial))\n",
    "        \n",
    "        index = np.where(np.amax(Initial)==Initial)[0]\n",
    "        \n",
    "        #print(index)\n",
    "        \n",
    "        word = Dict[index[0]]\n",
    "        tex = tex + word\n",
    "        \n",
    "    return tex,States"
   ]
  },
  {
   "cell_type": "code",
   "execution_count": 17,
   "id": "80599dc4",
   "metadata": {},
   "outputs": [],
   "source": [
    "initial = np.array([0,0,0,0,1])\n",
    "tex,States = GetString(initial,T.T)"
   ]
  },
  {
   "cell_type": "code",
   "execution_count": 18,
   "id": "d55a6e7a",
   "metadata": {},
   "outputs": [
    {
     "data": {
      "text/plain": [
       "'amor ammor amor amoo  amor  am'"
      ]
     },
     "execution_count": 18,
     "metadata": {},
     "output_type": "execute_result"
    }
   ],
   "source": [
    "tex"
   ]
  },
  {
   "cell_type": "code",
   "execution_count": null,
   "id": "d7b7eb3c",
   "metadata": {},
   "outputs": [],
   "source": []
  }
 ],
 "metadata": {
  "kernelspec": {
   "display_name": "Python 3 (ipykernel)",
   "language": "python",
   "name": "python3"
  },
  "language_info": {
   "codemirror_mode": {
    "name": "ipython",
    "version": 3
   },
   "file_extension": ".py",
   "mimetype": "text/x-python",
   "name": "python",
   "nbconvert_exporter": "python",
   "pygments_lexer": "ipython3",
   "version": "3.9.12"
  }
 },
 "nbformat": 4,
 "nbformat_minor": 5
}
