{
 "cells": [
  {
   "cell_type": "code",
   "execution_count": 1,
   "id": "fe876f40",
   "metadata": {},
   "outputs": [],
   "source": [
    "import numpy as np\n",
    "import matplotlib.pyplot as plt"
   ]
  },
  {
   "cell_type": "code",
   "execution_count": 2,
   "id": "3f5bf554",
   "metadata": {},
   "outputs": [],
   "source": [
    "Dict = {0:'a',1:'o',2:'m',3:'r',4:'_'}"
   ]
  },
  {
   "cell_type": "code",
   "execution_count": 3,
   "id": "bcf81873",
   "metadata": {},
   "outputs": [],
   "source": [
    "T = np.array([[0.10,0.00,0.80,0.10,0.00],\\\n",
    "              [0.10,0.20,0.00,0.70,0.00],\\\n",
    "              [0.10,0.70,0.10,0.10,0.00],\\\n",
    "              [0.00,0.10,0.10,0.10,0.90],\\\n",
    "              [0.70,0.00,0.00,0.00,0.10],\\\n",
    "             ])"
   ]
  },
  {
   "cell_type": "code",
   "execution_count": 4,
   "id": "1fe21bdc",
   "metadata": {},
   "outputs": [],
   "source": [
    "def GetString(Initial,T,N=int(30)):\n",
    "    \n",
    "    tex=''\n",
    "    States = np.array([Initial])\n",
    "    \n",
    "    for i in range(N):\n",
    "        Initial = np.dot(T,Initial)\n",
    "        States = np.vstack((States,Initial))\n",
    "        \n",
    "        index = np.where(np.amax(Initial)==Initial)[0]\n",
    "        \n",
    "        word = Dict[index[0]]\n",
    "        tex = tex + word\n",
    "        \n",
    "    return tex,States"
   ]
  },
  {
   "cell_type": "code",
   "execution_count": 5,
   "id": "5bc83ee4",
   "metadata": {},
   "outputs": [],
   "source": [
    "initial = np.array([0,0,0,0,1])\n",
    "tex,States = GetString(initial,T)"
   ]
  },
  {
   "cell_type": "code",
   "execution_count": 6,
   "id": "1bcdc191",
   "metadata": {},
   "outputs": [
    {
     "data": {
      "text/plain": [
       "'roma_roomarromaaromaarromaarro'"
      ]
     },
     "execution_count": 6,
     "metadata": {},
     "output_type": "execute_result"
    }
   ],
   "source": [
    "tex"
   ]
  },
  {
   "cell_type": "code",
   "execution_count": null,
   "id": "880f351a",
   "metadata": {},
   "outputs": [],
   "source": []
  }
 ],
 "metadata": {
  "kernelspec": {
   "display_name": "Python 3 (ipykernel)",
   "language": "python",
   "name": "python3"
  },
  "language_info": {
   "codemirror_mode": {
    "name": "ipython",
    "version": 3
   },
   "file_extension": ".py",
   "mimetype": "text/x-python",
   "name": "python",
   "nbconvert_exporter": "python",
   "pygments_lexer": "ipython3",
   "version": "3.9.12"
  }
 },
 "nbformat": 4,
 "nbformat_minor": 5
}
