{
 "cells": [
  {
   "cell_type": "code",
   "execution_count": 1,
   "id": "fc7f7597",
   "metadata": {},
   "outputs": [
    {
     "data": {
      "text/html": [
       "<style>.container { width:90% !important; }</style>"
      ],
      "text/plain": [
       "<IPython.core.display.HTML object>"
      ]
     },
     "metadata": {},
     "output_type": "display_data"
    }
   ],
   "source": [
    "from IPython.display import display, HTML\n",
    "display(HTML(\"<style>.container { width:90% !important; }</style>\"))\n",
    "\n",
    "import numpy as np\n",
    "import pandas as pd\n",
    "import matplotlib.pyplot as plt\n",
    "\n",
    "import os.path as path\n",
    "import wget\n",
    "import os\n",
    "\n",
    "import corner\n",
    "\n",
    "import scipy.optimize as spo"
   ]
  },
  {
   "cell_type": "code",
   "execution_count": 2,
   "id": "d00e5c15",
   "metadata": {},
   "outputs": [
    {
     "name": "stdout",
     "output_type": "stream",
     "text": [
      "\r",
      "  0% [                                                                              ]     0 / 97796\r",
      "  8% [......                                                                        ]  8192 / 97796\r",
      " 16% [.............                                                                 ] 16384 / 97796\r",
      " 25% [...................                                                           ] 24576 / 97796\r",
      " 33% [..........................                                                    ] 32768 / 97796\r",
      " 41% [................................                                              ] 40960 / 97796\r",
      " 50% [.......................................                                       ] 49152 / 97796\r",
      " 58% [.............................................                                 ] 57344 / 97796\r",
      " 67% [....................................................                          ] 65536 / 97796\r",
      " 75% [..........................................................                    ] 73728 / 97796\r",
      " 83% [.................................................................             ] 81920 / 97796\r",
      " 92% [.......................................................................       ] 90112 / 97796\r",
      "100% [..............................................................................] 97796 / 97796File loaded\n"
     ]
    }
   ],
   "source": [
    "# Descargamos data\n",
    "if not path.exists('Data'):\n",
    "    os.mkdir('Data')\n",
    "\n",
    "!rm Data/*\n",
    "\n",
    "file = 'Data/HiggsFitting.csv'\n",
    "url = 'https://raw.githubusercontent.com/asegura4488/Database/main/MetodosComputacionalesReforma/HiggsFitting.csv'\n",
    "if not path.exists(file):\n",
    "    Path_ = wget.download(url,file)\n",
    "    print('File loaded')\n",
    "else:\n",
    "    Path_ = file"
   ]
  },
  {
   "cell_type": "code",
   "execution_count": 3,
   "id": "7351c8d4",
   "metadata": {},
   "outputs": [],
   "source": [
    "def GetHisto(Data,bines):\n",
    "    \n",
    "    h, bins = np.histogram(Data,bins=bines)\n",
    "    w = np.diff(bins)   # Ancho de clase\n",
    "    m = bins[:-1] + 0.5*w[0] # Marca de clase\n",
    "    \n",
    "    hnorm = h/(np.sum(h)*w) # normalizando histo\n",
    "    \n",
    "    return h,hnorm,m,w"
   ]
  },
  {
   "cell_type": "code",
   "execution_count": 17,
   "id": "d1673fa7",
   "metadata": {},
   "outputs": [],
   "source": [
    "Data = pd.read_csv(Path_)\n",
    "#Data\n",
    "X = Data.Higgs"
   ]
  },
  {
   "cell_type": "code",
   "execution_count": 6,
   "id": "7de67d0a",
   "metadata": {},
   "outputs": [],
   "source": [
    "xbins = np.linspace(0,10,40)\n",
    "HSignalBkg,HNSignalBkg,m,w = GetHisto(Data,xbins) "
   ]
  },
  {
   "cell_type": "code",
   "execution_count": 7,
   "id": "f4f109e1",
   "metadata": {},
   "outputs": [
    {
     "data": {
      "text/plain": [
       "<BarContainer object of 39 artists>"
      ]
     },
     "execution_count": 7,
     "metadata": {},
     "output_type": "execute_result"
    },
    {
     "data": {
      "image/png": "[encoded data removed]",
      "text/plain": [
       "<Figure size 432x288 with 1 Axes>"
      ]
     },
     "metadata": {
      "needs_background": "light"
     },
     "output_type": "display_data"
    }
   ],
   "source": [
    "plt.bar(m,HNSignalBkg,width=w)"
   ]
  },
  {
   "cell_type": "code",
   "execution_count": 20,
   "id": "bd32c3c4",
   "metadata": {},
   "outputs": [],
   "source": [
    "def Gaus(x,mu=0,sigma=1):\n",
    "    return np.exp(  - 0.5*(x-mu)**2/sigma**2 )/np.sqrt(2*np.pi*sigma**2)\n",
    "def Exp(x,alpha=1):\n",
    "    return np.exp( -x/alpha )/alpha"
   ]
  },
  {
   "cell_type": "code",
   "execution_count": 21,
   "id": "f176124a",
   "metadata": {},
   "outputs": [],
   "source": [
    "def Likelihood(p,x,Null=False):\n",
    "    \n",
    "    if Null:\n",
    "        alpha = p\n",
    "        L = Exp(x,alpha)\n",
    "    else:\n",
    "        A, mu, sigma, alpha = p\n",
    "        L = A*Gaus(x,mu,sigma) + (1-A)*Exp(x,alpha)\n",
    "        \n",
    "    return L"
   ]
  },
  {
   "cell_type": "code",
   "execution_count": 22,
   "id": "4de6b5e6",
   "metadata": {},
   "outputs": [],
   "source": [
    "def JointLikelihood(p,x,Null=False):\n",
    "    return -np.sum( np.log(Likelihood(p,x,Null)) )"
   ]
  },
  {
   "cell_type": "code",
   "execution_count": 25,
   "id": "a71f335d",
   "metadata": {},
   "outputs": [
    {
     "data": {
      "text/plain": [
       "9296.11364933298"
      ]
     },
     "execution_count": 25,
     "metadata": {},
     "output_type": "execute_result"
    }
   ],
   "source": [
    "nll = lambda *p: JointLikelihood(*p)\n",
    "p0 = np.array([0.1,3,1,3])\n",
    "nll(p0,X,False)"
   ]
  },
  {
   "cell_type": "code",
   "execution_count": 26,
   "id": "f69a865d",
   "metadata": {},
   "outputs": [],
   "source": [
    "result = spo.minimize( nll, p0, args=(X,False), method='Nelder-Mead' )"
   ]
  },
  {
   "cell_type": "code",
   "execution_count": 36,
   "id": "cd434d8e",
   "metadata": {},
   "outputs": [
    {
     "data": {
      "text/plain": [
       "array([0.03389207, 3.02600689, 0.23060575, 2.01712934])"
      ]
     },
     "execution_count": 36,
     "metadata": {},
     "output_type": "execute_result"
    }
   ],
   "source": [
    "param = result.x\n",
    "param"
   ]
  },
  {
   "cell_type": "code",
   "execution_count": 31,
   "id": "43f04bea",
   "metadata": {},
   "outputs": [],
   "source": [
    "p0 = np.array([1])\n",
    "result1 = spo.minimize( nll, p0, args=(X,True), method='Nelder-Mead' )"
   ]
  },
  {
   "cell_type": "code",
   "execution_count": 32,
   "id": "603faf03",
   "metadata": {},
   "outputs": [],
   "source": [
    "param1 = result1.x"
   ]
  },
  {
   "cell_type": "code",
   "execution_count": 33,
   "id": "cca0e2d2",
   "metadata": {},
   "outputs": [
    {
     "data": {
      "text/plain": [
       "[<matplotlib.lines.Line2D at 0x7f6c0705a790>]"
      ]
     },
     "execution_count": 33,
     "metadata": {},
     "output_type": "execute_result"
    },
    {
     "data": {
      "image/png": "[encoded data removed]",
      "text/plain": [
       "<Figure size 432x288 with 1 Axes>"
      ]
     },
     "metadata": {
      "needs_background": "light"
     },
     "output_type": "display_data"
    }
   ],
   "source": [
    "x = np.linspace(xbins[0],xbins[-1],100)\n",
    "plt.bar(m,HNSignalBkg,width=w)\n",
    "plt.plot(x,Likelihood(param,x,False),color='r')\n",
    "plt.plot(x,Likelihood(param1,x,True),ls='--',color='r')"
   ]
  },
  {
   "cell_type": "code",
   "execution_count": 34,
   "id": "d1b172be",
   "metadata": {},
   "outputs": [
    {
     "name": "stdout",
     "output_type": "stream",
     "text": [
      "8909.758201040611 8936.190974310479\n"
     ]
    }
   ],
   "source": [
    "Lb = nll(param1,X,True)\n",
    "Lsb = nll(param,X)\n",
    "print(Lsb,Lb)"
   ]
  },
  {
   "cell_type": "code",
   "execution_count": 35,
   "id": "b3535e70",
   "metadata": {},
   "outputs": [
    {
     "data": {
      "text/plain": [
       "7.2708697237493585"
      ]
     },
     "execution_count": 35,
     "metadata": {},
     "output_type": "execute_result"
    }
   ],
   "source": [
    "np.sqrt(-2*(Lsb-Lb))"
   ]
  },
  {
   "cell_type": "code",
   "execution_count": null,
   "id": "ed3e1788",
   "metadata": {},
   "outputs": [],
   "source": []
  }
 ],
 "metadata": {
  "kernelspec": {
   "display_name": "Python 3 (ipykernel)",
   "language": "python",
   "name": "python3"
  },
  "language_info": {
   "codemirror_mode": {
    "name": "ipython",
    "version": 3
   },
   "file_extension": ".py",
   "mimetype": "text/x-python",
   "name": "python",
   "nbconvert_exporter": "python",
   "pygments_lexer": "ipython3",
   "version": "3.9.12"
  }
 },
 "nbformat": 4,
 "nbformat_minor": 5
}
