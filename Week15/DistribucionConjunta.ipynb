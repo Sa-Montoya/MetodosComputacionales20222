{
 "cells": [
  {
   "cell_type": "code",
   "execution_count": 1,
   "id": "e9b5cd9b",
   "metadata": {},
   "outputs": [],
   "source": [
    "import numpy as np\n",
    "import matplotlib.pyplot as plt\n",
    "import pandas as pd\n",
    "import seaborn as sns"
   ]
  },
  {
   "cell_type": "code",
   "execution_count": 2,
   "id": "3fc3e72a",
   "metadata": {},
   "outputs": [],
   "source": [
    "def Comb(m,n):\n",
    "    \n",
    "    diff = m - n "
   ]
  },
  {
   "cell_type": "code",
   "execution_count": null,
   "id": "533157ea",
   "metadata": {},
   "outputs": [],
   "source": []
  }
 ],
 "metadata": {
  "kernelspec": {
   "display_name": "Python 3 (ipykernel)",
   "language": "python",
   "name": "python3"
  },
  "language_info": {
   "codemirror_mode": {
    "name": "ipython",
    "version": 3
   },
   "file_extension": ".py",
   "mimetype": "text/x-python",
   "name": "python",
   "nbconvert_exporter": "python",
   "pygments_lexer": "ipython3",
   "version": "3.9.12"
  }
 },
 "nbformat": 4,
 "nbformat_minor": 5
}
