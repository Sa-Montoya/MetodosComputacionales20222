{
 "cells": [
  {
   "cell_type": "code",
   "execution_count": 7,
   "id": "e9b5cd9b",
   "metadata": {},
   "outputs": [],
   "source": [
    "import numpy as np\n",
    "import matplotlib.pyplot as plt\n",
    "import pandas as pd\n",
    "import seaborn as sns"
   ]
  },
  {
   "cell_type": "code",
   "execution_count": 8,
   "id": "3fc3e72a",
   "metadata": {},
   "outputs": [],
   "source": [
    "def Comb(m,n):\n",
    "    \n",
    "    diff = m - n \n",
    "    \n",
    "    if diff < 0 or n < 0:\n",
    "        return 0\n",
    "    \n",
    "    else:\n",
    "        \n",
    "        f = 1\n",
    "        g = 1\n",
    "        \n",
    "        while m > diff:\n",
    "            f *= m\n",
    "            m -= 1\n",
    "            \n",
    "        while n>0:\n",
    "            g *= n\n",
    "            n -= 1\n",
    "            \n",
    "        return f/g"
   ]
  },
  {
   "cell_type": "code",
   "execution_count": 9,
   "id": "533157ea",
   "metadata": {},
   "outputs": [
    {
     "data": {
      "text/plain": [
       "6.0"
      ]
     },
     "execution_count": 9,
     "metadata": {},
     "output_type": "execute_result"
    }
   ],
   "source": [
    "Comb(4,2)"
   ]
  },
  {
   "cell_type": "code",
   "execution_count": 10,
   "id": "80dfc72d",
   "metadata": {},
   "outputs": [],
   "source": [
    "def f(x,y):\n",
    "    return Comb(3,x)*Comb(2,y)*Comb(3,4-x-y)/Comb(8,4)"
   ]
  },
  {
   "cell_type": "code",
   "execution_count": 11,
   "id": "85c8e3e2",
   "metadata": {},
   "outputs": [],
   "source": [
    "x = np.array([0,1,2,3])\n",
    "y = np.array([0,1,2])"
   ]
  },
  {
   "cell_type": "code",
   "execution_count": 12,
   "id": "f3219ef0",
   "metadata": {},
   "outputs": [],
   "source": [
    "F = np.zeros((4,3))\n",
    "\n",
    "for i in range(4):\n",
    "    for j in range(3):\n",
    "        F[i,j] = f(x[i],y[j])"
   ]
  },
  {
   "cell_type": "code",
   "execution_count": 13,
   "id": "539fee08",
   "metadata": {},
   "outputs": [
    {
     "data": {
      "text/plain": [
       "array([[0.        , 0.02857143, 0.04285714],\n",
       "       [0.04285714, 0.25714286, 0.12857143],\n",
       "       [0.12857143, 0.25714286, 0.04285714],\n",
       "       [0.04285714, 0.02857143, 0.        ]])"
      ]
     },
     "execution_count": 13,
     "metadata": {},
     "output_type": "execute_result"
    }
   ],
   "source": [
    "F"
   ]
  },
  {
   "cell_type": "code",
   "execution_count": 14,
   "id": "1b35632b",
   "metadata": {},
   "outputs": [
    {
     "data": {
      "text/plain": [
       "0.9999999999999999"
      ]
     },
     "execution_count": 14,
     "metadata": {},
     "output_type": "execute_result"
    }
   ],
   "source": [
    "np.sum(F)"
   ]
  },
  {
   "cell_type": "code",
   "execution_count": 15,
   "id": "74303807",
   "metadata": {},
   "outputs": [
    {
     "data": {
      "text/plain": [
       "<AxesSubplot: >"
      ]
     },
     "execution_count": 15,
     "metadata": {},
     "output_type": "execute_result"
    },
    {
     "data": {
      "image/png": "[encoded data removed]",
      "text/plain": [
       "<Figure size 432x288 with 2 Axes>"
      ]
     },
     "metadata": {
      "needs_background": "light"
     },
     "output_type": "display_data"
    }
   ],
   "source": [
    "sns.heatmap(F,annot=True)"
   ]
  },
  {
   "cell_type": "code",
   "execution_count": 17,
   "id": "e9d23527",
   "metadata": {},
   "outputs": [
    {
     "name": "stdout",
     "output_type": "stream",
     "text": [
      "[0.07142857 0.42857143 0.42857143 0.07142857]\n",
      "[0.21428571 0.57142857 0.21428571]\n"
     ]
    }
   ],
   "source": [
    "g = np.sum(F, axis=1)\n",
    "h = np.sum(F, axis=0)\n",
    "print(g)\n",
    "print(h)"
   ]
  },
  {
   "cell_type": "code",
   "execution_count": 18,
   "id": "7f4e3044",
   "metadata": {},
   "outputs": [],
   "source": [
    "# Suponemos que las variables son independientes\n",
    "G = np.zeros_like(F)\n",
    "\n",
    "for i in range(len(x)):\n",
    "    for j in range(len(y)):\n",
    "        G[i,j] = g[i]*h[j]"
   ]
  },
  {
   "cell_type": "code",
   "execution_count": 19,
   "id": "5a1a2574",
   "metadata": {},
   "outputs": [
    {
     "data": {
      "text/plain": [
       "array([[0.01530612, 0.04081633, 0.01530612],\n",
       "       [0.09183673, 0.24489796, 0.09183673],\n",
       "       [0.09183673, 0.24489796, 0.09183673],\n",
       "       [0.01530612, 0.04081633, 0.01530612]])"
      ]
     },
     "execution_count": 19,
     "metadata": {},
     "output_type": "execute_result"
    }
   ],
   "source": [
    "G"
   ]
  },
  {
   "cell_type": "code",
   "execution_count": 20,
   "id": "358da621",
   "metadata": {},
   "outputs": [
    {
     "name": "stdout",
     "output_type": "stream",
     "text": [
      "1.4999999999999998 1.0\n"
     ]
    }
   ],
   "source": [
    "meanx = np.sum(x*g)\n",
    "meany = np.sum(y*h)\n",
    "print(meanx,meany)"
   ]
  },
  {
   "cell_type": "code",
   "execution_count": 21,
   "id": "3fb72636",
   "metadata": {},
   "outputs": [
    {
     "data": {
      "text/plain": [
       "-0.2142857142857143"
      ]
     },
     "execution_count": 21,
     "metadata": {},
     "output_type": "execute_result"
    }
   ],
   "source": [
    "cov = 0\n",
    "\n",
    "for i in range(4):\n",
    "    for j in range(3):\n",
    "        cov += (x[i] - meanx)*(y[j]-meany)*f(x[i],y[j])\n",
    "        \n",
    "cov"
   ]
  },
  {
   "cell_type": "code",
   "execution_count": 22,
   "id": "326c4757",
   "metadata": {},
   "outputs": [
    {
     "data": {
      "text/plain": [
       "0.0"
      ]
     },
     "execution_count": 22,
     "metadata": {},
     "output_type": "execute_result"
    }
   ],
   "source": [
    "cov = 0\n",
    "\n",
    "for i in range(4):\n",
    "    for j in range(3):\n",
    "        cov += (x[i] - meanx)*(y[j]-meany)*G[i,j]\n",
    "        \n",
    "cov"
   ]
  },
  {
   "cell_type": "code",
   "execution_count": null,
   "id": "96d5bcce",
   "metadata": {},
   "outputs": [],
   "source": []
  }
 ],
 "metadata": {
  "kernelspec": {
   "display_name": "Python 3 (ipykernel)",
   "language": "python",
   "name": "python3"
  },
  "language_info": {
   "codemirror_mode": {
    "name": "ipython",
    "version": 3
   },
   "file_extension": ".py",
   "mimetype": "text/x-python",
   "name": "python",
   "nbconvert_exporter": "python",
   "pygments_lexer": "ipython3",
   "version": "3.9.12"
  }
 },
 "nbformat": 4,
 "nbformat_minor": 5
}
