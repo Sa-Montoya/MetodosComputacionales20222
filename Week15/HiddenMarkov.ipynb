{
 "cells": [
  {
   "cell_type": "code",
   "execution_count": 1,
   "id": "82c62f35",
   "metadata": {},
   "outputs": [],
   "source": [
    "import numpy as np\n",
    "import matplotlib.pyplot as plt\n",
    "from itertools import permutations\n",
    "from itertools import combinations\n",
    "from itertools import combinations_with_replacement"
   ]
  },
  {
   "cell_type": "code",
   "execution_count": 2,
   "id": "f9a22059",
   "metadata": {},
   "outputs": [],
   "source": [
    "# Definimos estados y priors\n",
    "States = np.array([0,1]) # Deben ser enteros \n",
    "Prior =  np.array([0.4,0.6])"
   ]
  },
  {
   "cell_type": "code",
   "execution_count": 3,
   "id": "244c9635",
   "metadata": {},
   "outputs": [],
   "source": [
    "# Definimos matrices de emisión y transmision\n",
    "T = np.array([[0.7,0.5],[0.3,0.5]])\n",
    "\n",
    "E = np.array([[0.8,0.2],[0.1,0.3],[0.1,0.5]])\n",
    "\n",
    "#np.sum(T,axis=0)"
   ]
  },
  {
   "cell_type": "code",
   "execution_count": 4,
   "id": "f860d67e",
   "metadata": {},
   "outputs": [
    {
     "data": {
      "text/plain": [
       "'Feliz'"
      ]
     },
     "execution_count": 4,
     "metadata": {},
     "output_type": "execute_result"
    }
   ],
   "source": [
    "DictH = {0:'Feliz',1:'Triste'}\n",
    "DictH[0]"
   ]
  },
  {
   "cell_type": "code",
   "execution_count": 5,
   "id": "32376954",
   "metadata": {},
   "outputs": [
    {
     "data": {
      "text/plain": [
       "'Verde'"
      ]
     },
     "execution_count": 5,
     "metadata": {},
     "output_type": "execute_result"
    }
   ],
   "source": [
    "DictO = {0:'Rojo',1:'Verde',2:'Azul'}\n",
    "DictO[1]"
   ]
  },
  {
   "cell_type": "code",
   "execution_count": 6,
   "id": "45a741c7",
   "metadata": {},
   "outputs": [],
   "source": [
    "Obs = np.array([1,2,0])"
   ]
  },
  {
   "cell_type": "code",
   "execution_count": 13,
   "id": "2efcc55b",
   "metadata": {},
   "outputs": [],
   "source": [
    "def GetHiddenStates(States, N):\n",
    "    \n",
    "    CStates = list( combinations_with_replacement(States,N) )\n",
    "    \n",
    "    Permu = []\n",
    "    \n",
    "    for it in CStates:\n",
    "        p = list(permutations(it,N))\n",
    "        \n",
    "        for i in p:\n",
    "            if i not in Permu:\n",
    "                Permu.append(i)\n",
    "    \n",
    "    print(CStates)\n",
    "    return np.array(Permu)"
   ]
  },
  {
   "cell_type": "code",
   "execution_count": 14,
   "id": "fbca7a99",
   "metadata": {},
   "outputs": [
    {
     "name": "stdout",
     "output_type": "stream",
     "text": [
      "[(0, 0, 0), (0, 0, 1), (0, 1, 1), (1, 1, 1)]\n"
     ]
    }
   ],
   "source": [
    "HiddenStates = GetHiddenStates(States,3)"
   ]
  },
  {
   "cell_type": "code",
   "execution_count": 15,
   "id": "05f4b218",
   "metadata": {},
   "outputs": [
    {
     "data": {
      "text/plain": [
       "array([[0, 0, 0],\n",
       "       [0, 0, 1],\n",
       "       [0, 1, 0],\n",
       "       [1, 0, 0],\n",
       "       [0, 1, 1],\n",
       "       [1, 0, 1],\n",
       "       [1, 1, 0],\n",
       "       [1, 1, 1]])"
      ]
     },
     "execution_count": 15,
     "metadata": {},
     "output_type": "execute_result"
    }
   ],
   "source": [
    "HiddenStates"
   ]
  },
  {
   "cell_type": "code",
   "execution_count": 21,
   "id": "78416a2d",
   "metadata": {},
   "outputs": [
    {
     "name": "stdout",
     "output_type": "stream",
     "text": [
      "[1 2 0]\n"
     ]
    }
   ],
   "source": [
    "print(Obs)"
   ]
  },
  {
   "cell_type": "code",
   "execution_count": 28,
   "id": "b91cc5d1",
   "metadata": {},
   "outputs": [],
   "source": [
    "def GetProb(T,E,Obs,State,Prior):\n",
    "    \n",
    "    n = len(Obs)\n",
    "    p = 1.\n",
    "    \n",
    "    p *= Prior[State[0] ]\n",
    "    \n",
    "    for i in range(n-1):\n",
    "        p *= T[ State[i+1], State[i] ]\n",
    "    \n",
    "    \n",
    "    \n",
    "    for i in range(n):\n",
    "        p *= E[ Obs[i], State[i] ]\n",
    "        \n",
    "    print(p, State)\n",
    "    \n",
    "    return p"
   ]
  },
  {
   "cell_type": "code",
   "execution_count": 29,
   "id": "b2e9f5de",
   "metadata": {},
   "outputs": [
    {
     "name": "stdout",
     "output_type": "stream",
     "text": [
      "0.001568 [0 0 0]\n",
      "0.00016800000000000002 [0 0 1]\n",
      "0.0024000000000000002 [0 1 0]\n",
      "0.00504 [1 0 0]\n",
      "0.0006000000000000001 [0 1 1]\n",
      "0.00054 [1 0 1]\n",
      "0.018 [1 1 0]\n",
      "0.0045 [1 1 1]\n",
      "[0.001568 0.000168 0.0024   0.00504  0.0006   0.00054  0.018    0.0045  ]\n"
     ]
    }
   ],
   "source": [
    "dim = HiddenStates.shape[0]\n",
    "P = np.zeros(dim)\n",
    "\n",
    "for i in range(dim):\n",
    "    P[i] = GetProb(T,E,Obs,HiddenStates[i],Prior)\n",
    "    \n",
    "print(P)"
   ]
  },
  {
   "cell_type": "code",
   "execution_count": 30,
   "id": "48c1e4eb",
   "metadata": {},
   "outputs": [
    {
     "name": "stdout",
     "output_type": "stream",
     "text": [
      "[[1 1 0]] 0.018\n"
     ]
    }
   ],
   "source": [
    "maxP = np.max(P)\n",
    "ii = np.where( P == np.amax(P))\n",
    "print(HiddenStates[ii],maxP)"
   ]
  },
  {
   "cell_type": "code",
   "execution_count": 32,
   "id": "e748bc76",
   "metadata": {},
   "outputs": [
    {
     "data": {
      "text/plain": [
       "<matplotlib.lines.Line2D at 0x7fa2f8275be0>"
      ]
     },
     "execution_count": 32,
     "metadata": {},
     "output_type": "execute_result"
    },
    {
     "data": {
      "image/png": "[encoded data removed]",
      "text/plain": [
       "<Figure size 432x288 with 1 Axes>"
      ]
     },
     "metadata": {
      "needs_background": "light"
     },
     "output_type": "display_data"
    }
   ],
   "source": [
    "plt.plot(P,color='k')\n",
    "plt.axhline(y=maxP)"
   ]
  },
  {
   "cell_type": "code",
   "execution_count": null,
   "id": "eb4d2a3e",
   "metadata": {},
   "outputs": [],
   "source": []
  }
 ],
 "metadata": {
  "kernelspec": {
   "display_name": "Python 3 (ipykernel)",
   "language": "python",
   "name": "python3"
  },
  "language_info": {
   "codemirror_mode": {
    "name": "ipython",
    "version": 3
   },
   "file_extension": ".py",
   "mimetype": "text/x-python",
   "name": "python",
   "nbconvert_exporter": "python",
   "pygments_lexer": "ipython3",
   "version": "3.9.12"
  }
 },
 "nbformat": 4,
 "nbformat_minor": 5
}
