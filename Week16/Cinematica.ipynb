{
 "cells": [
  {
   "cell_type": "code",
   "execution_count": 1,
   "id": "867ca126",
   "metadata": {},
   "outputs": [],
   "source": [
    "import numpy as np\n",
    "import matplotlib.pyplot as plt"
   ]
  },
  {
   "cell_type": "code",
   "execution_count": 2,
   "id": "4aea2d62",
   "metadata": {},
   "outputs": [],
   "source": [
    "class Particle:\n",
    "    \n",
    "    def __init__(self,r0,v0,t,Id,beta):\n",
    "        \n",
    "        self.N = len(t)\n",
    "        self.dt = t[1] - t[0]\n",
    "        \n",
    "        self.r = np.zeros(( N,2 ))\n",
    "        self.v = np.zeros(( N,2 ))\n",
    "        self.a = np.zeros(( N,2 ))\n",
    "        \n",
    "        self.r[0] = r0\n",
    "        self.v[0] = v0\n",
    "        self.Id = Id\n",
    "        self.beta = beta\n",
    "        self.g = np.array([0.,-9.81])\n",
    "        \n",
    "        self.a[0] = self.GetA(v0)\n",
    "        \n",
    "    def GetA(self,v):\n",
    "        return self.g - self.beta*v\n",
    "    \n",
    "    \n",
    "    def Evolucion(self):\n",
    "        \n",
    "        for i in range(1,self.N):\n",
    "            \n",
    "            k1 = self.v[i-1]\n",
    "            k2 = self.GetA(self.v[i-1])\n",
    "            self.a[i] = k2\n",
    "            \n",
    "            self.r[i] = self.r[i-1] + k1*self.dt\n",
    "            self.v[i] = self.v[i-1] + k2*self.dt"
   ]
  },
  {
   "cell_type": "code",
   "execution_count": 3,
   "id": "37fe9971",
   "metadata": {},
   "outputs": [],
   "source": [
    "N = 100\n",
    "t = np.linspace(0,5,N)"
   ]
  },
  {
   "cell_type": "code",
   "execution_count": 4,
   "id": "2c7a962b",
   "metadata": {},
   "outputs": [],
   "source": [
    "theta = 40*np.pi/180\n",
    "v0_ = 20\n",
    "\n",
    "r0 = np.array([0,100])\n",
    "v0 = np.array([v0_*np.cos(theta),v0_*np.sin(theta)])"
   ]
  },
  {
   "cell_type": "code",
   "execution_count": 5,
   "id": "db317601",
   "metadata": {},
   "outputs": [],
   "source": [
    "p1 = Particle(r0,v0,t,0,0)\n",
    "p1.Evolucion()"
   ]
  },
  {
   "cell_type": "code",
   "execution_count": 6,
   "id": "ec8dac3e",
   "metadata": {},
   "outputs": [],
   "source": [
    "p2 = Particle(r0,v0,t,1,0.5)\n",
    "p2.Evolucion()"
   ]
  },
  {
   "cell_type": "code",
   "execution_count": 7,
   "id": "e9a2425b",
   "metadata": {},
   "outputs": [
    {
     "data": {
      "text/plain": [
       "[<matplotlib.lines.Line2D at 0x7fb198122910>]"
      ]
     },
     "execution_count": 7,
     "metadata": {},
     "output_type": "execute_result"
    },
    {
     "data": {
      "image/png": "[encoded data removed]",
      "text/plain": [
       "<Figure size 432x288 with 1 Axes>"
      ]
     },
     "metadata": {
      "needs_background": "light"
     },
     "output_type": "display_data"
    }
   ],
   "source": [
    "#plt.plot(p1.r[:,0],p1.r[:,1])\n",
    "plt.plot(p2.r[:,0],p2.r[:,1])"
   ]
  },
  {
   "cell_type": "code",
   "execution_count": null,
   "id": "d710bbb4",
   "metadata": {},
   "outputs": [],
   "source": []
  }
 ],
 "metadata": {
  "kernelspec": {
   "display_name": "Python 3 (ipykernel)",
   "language": "python",
   "name": "python3"
  },
  "language_info": {
   "codemirror_mode": {
    "name": "ipython",
    "version": 3
   },
   "file_extension": ".py",
   "mimetype": "text/x-python",
   "name": "python",
   "nbconvert_exporter": "python",
   "pygments_lexer": "ipython3",
   "version": "3.9.12"
  }
 },
 "nbformat": 4,
 "nbformat_minor": 5
}
