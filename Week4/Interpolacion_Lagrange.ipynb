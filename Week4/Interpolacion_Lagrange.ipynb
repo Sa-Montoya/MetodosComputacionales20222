{
 "cells": [
  {
   "cell_type": "code",
   "execution_count": 1,
   "id": "3418a17b",
   "metadata": {},
   "outputs": [],
   "source": [
    "import numpy as np\n",
    "import matplotlib.pyplot as plt\n",
    "from matplotlib import rc\n",
    "import pandas as pd\n",
    "import sympy as sym\n",
    "import os.path as path\n",
    "import wget"
   ]
  },
  {
   "cell_type": "code",
   "execution_count": 2,
   "id": "3039ab9a",
   "metadata": {},
   "outputs": [
    {
     "name": "stdout",
     "output_type": "stream",
     "text": [
      "--File found---\n"
     ]
    }
   ],
   "source": [
    "file = 'Data/InterpolacionLagrange.csv'\n",
    "url = 'https://raw.githubusercontent.com/asegura4488/Database/main/MetodosComputacionalesReforma/Interpolacion.csv'\n",
    "if not path.exists(file):\n",
    "    Path_ = wget.download(url,file)\n",
    "else:\n",
    "    print('--File found---')\n",
    "    Path_ = file"
   ]
  },
  {
   "cell_type": "code",
   "execution_count": 3,
   "id": "bd2201e6",
   "metadata": {},
   "outputs": [],
   "source": [
    "Data = pd.read_csv(Path_,sep=',')"
   ]
  },
  {
   "cell_type": "code",
   "execution_count": 4,
   "id": "ba81a487",
   "metadata": {},
   "outputs": [
    {
     "data": {
      "text/html": [
       "<div>\n",
       "<style scoped>\n",
       "    .dataframe tbody tr th:only-of-type {\n",
       "        vertical-align: middle;\n",
       "    }\n",
       "\n",
       "    .dataframe tbody tr th {\n",
       "        vertical-align: top;\n",
       "    }\n",
       "\n",
       "    .dataframe thead th {\n",
       "        text-align: right;\n",
       "    }\n",
       "</style>\n",
       "<table border=\"1\" class=\"dataframe\">\n",
       "  <thead>\n",
       "    <tr style=\"text-align: right;\">\n",
       "      <th></th>\n",
       "      <th>X</th>\n",
       "      <th>Y</th>\n",
       "    </tr>\n",
       "  </thead>\n",
       "  <tbody>\n",
       "    <tr>\n",
       "      <th>0</th>\n",
       "      <td>5</td>\n",
       "      <td>10</td>\n",
       "    </tr>\n",
       "    <tr>\n",
       "      <th>1</th>\n",
       "      <td>10</td>\n",
       "      <td>15</td>\n",
       "    </tr>\n",
       "    <tr>\n",
       "      <th>2</th>\n",
       "      <td>15</td>\n",
       "      <td>25</td>\n",
       "    </tr>\n",
       "  </tbody>\n",
       "</table>\n",
       "</div>"
      ],
      "text/plain": [
       "    X   Y\n",
       "0   5  10\n",
       "1  10  15\n",
       "2  15  25"
      ]
     },
     "execution_count": 4,
     "metadata": {},
     "output_type": "execute_result"
    }
   ],
   "source": [
    "Data"
   ]
  },
  {
   "cell_type": "code",
   "execution_count": 5,
   "id": "22208549",
   "metadata": {},
   "outputs": [],
   "source": [
    "#X = np.array([5,10,15])\n",
    "#Y = np.array([10,15,25])"
   ]
  },
  {
   "cell_type": "code",
   "execution_count": 11,
   "id": "ebc44395",
   "metadata": {},
   "outputs": [],
   "source": [
    "X = np.float64(Data['X'])\n",
    "Y = np.float64(Data['Y'])"
   ]
  },
  {
   "cell_type": "code",
   "execution_count": 12,
   "id": "90547067",
   "metadata": {},
   "outputs": [],
   "source": [
    "def Lagrange(x,xi,j):\n",
    "    \n",
    "    prod = 1.0\n",
    "    n = len(xi)\n",
    "    \n",
    "    for i in range(n):\n",
    "        if i != j:\n",
    "            prod *= (x - xi[i])/(xi[j]-xi[i])\n",
    "            \n",
    "    return prod"
   ]
  },
  {
   "cell_type": "code",
   "execution_count": 13,
   "id": "e63eca2d",
   "metadata": {},
   "outputs": [],
   "source": [
    "def Poly(x,xi,yi):\n",
    "    \n",
    "    Sum = 0.\n",
    "    n = len(xi)\n",
    "        \n",
    "    for j in range(n):\n",
    "        Sum += yi[j]*Lagrange(x,xi,j)\n",
    "        \n",
    "    return Sum"
   ]
  },
  {
   "cell_type": "code",
   "execution_count": 14,
   "id": "9614eff9",
   "metadata": {},
   "outputs": [],
   "source": [
    "x = np.linspace(5,15,100)\n",
    "y = Poly(x,X,Y)"
   ]
  },
  {
   "cell_type": "code",
   "execution_count": 16,
   "id": "ebce95d2",
   "metadata": {},
   "outputs": [
    {
     "data": {
      "text/plain": [
       "[<matplotlib.lines.Line2D at 0x7f56b2ccbbb0>]"
      ]
     },
     "execution_count": 16,
     "metadata": {},
     "output_type": "execute_result"
    },
    {
     "data": {
      "image/png": "[encoded data removed]",
      "text/plain": [
       "<Figure size 432x288 with 1 Axes>"
      ]
     },
     "metadata": {
      "needs_background": "light"
     },
     "output_type": "display_data"
    }
   ],
   "source": [
    "plt.scatter(X,Y,color='r')\n",
    "plt.plot(x,y,color='k')"
   ]
  },
  {
   "cell_type": "code",
   "execution_count": null,
   "id": "e2b8515d",
   "metadata": {},
   "outputs": [],
   "source": []
  }
 ],
 "metadata": {
  "kernelspec": {
   "display_name": "Python 3 (ipykernel)",
   "language": "python",
   "name": "python3"
  },
  "language_info": {
   "codemirror_mode": {
    "name": "ipython",
    "version": 3
   },
   "file_extension": ".py",
   "mimetype": "text/x-python",
   "name": "python",
   "nbconvert_exporter": "python",
   "pygments_lexer": "ipython3",
   "version": "3.9.12"
  }
 },
 "nbformat": 4,
 "nbformat_minor": 5
}
