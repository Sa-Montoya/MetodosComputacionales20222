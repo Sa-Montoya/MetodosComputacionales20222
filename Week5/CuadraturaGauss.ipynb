{
 "cells": [
  {
   "cell_type": "code",
   "execution_count": 1,
   "id": "8626ea51",
   "metadata": {},
   "outputs": [],
   "source": [
    "import numpy as np\n",
    "import matplotlib.pyplot as plt\n",
    "import sympy as sym"
   ]
  },
  {
   "cell_type": "code",
   "execution_count": 2,
   "id": "ca7ca7e6",
   "metadata": {},
   "outputs": [],
   "source": [
    "def GetNewtonMethod(f,df,xn,itmax = 100000, precision=1e-12):\n",
    "    \n",
    "    error = 1.\n",
    "    it = 0\n",
    "    \n",
    "    while error > precision and it < itmax:\n",
    "        \n",
    "        try:\n",
    "            \n",
    "            xn1 = xn - f(xn)/df(xn)\n",
    "            \n",
    "           # error = np.abs( (xn1-xn) )\n",
    "            error = np.abs(f(xn)/df(xn))\n",
    "        \n",
    "        except ZeroDivisionError:\n",
    "            print(\"zero division\")\n",
    "            \n",
    "        xn  = xn1\n",
    "        it += 1\n",
    "    \n",
    "    #print('Raiz:',xn,it)\n",
    "    \n",
    "    if it == itmax:\n",
    "        return False\n",
    "    else:\n",
    "        return xn"
   ]
  },
  {
   "cell_type": "code",
   "execution_count": 3,
   "id": "151b11f9",
   "metadata": {},
   "outputs": [],
   "source": [
    "def GetAllRoots(f,df,x, tolerancia=9):\n",
    "    \n",
    "    Roots = np.array([])\n",
    "    \n",
    "    for i in x:\n",
    "        \n",
    "        root = GetNewtonMethod(f,df,i)\n",
    "          \n",
    "        if root != False:\n",
    "            \n",
    "            croot = np.round( root, tolerancia ) \n",
    "            \n",
    "            if croot not in Roots:\n",
    "                Roots = np.append( Roots, croot )\n",
    "                \n",
    "    # Ordenamos las raices\n",
    "    Roots.sort()\n",
    "    \n",
    "    return Roots"
   ]
  },
  {
   "cell_type": "code",
   "execution_count": 4,
   "id": "dac64169",
   "metadata": {},
   "outputs": [],
   "source": [
    "def GetLegendre(n):\n",
    "    \n",
    "    x = sym.Symbol('x',Real=True)\n",
    "    y = sym.Symbol('y',Real=True)\n",
    "    \n",
    "    y = (x**2 - 1)**n\n",
    "    \n",
    "    p = sym.diff(y,x,n)/(2**n * np.math.factorial(n))\n",
    "    \n",
    "    return p"
   ]
  },
  {
   "cell_type": "code",
   "execution_count": 5,
   "id": "713491eb",
   "metadata": {},
   "outputs": [],
   "source": [
    "Legendre = []\n",
    "DerLegendre = []\n",
    "\n",
    "x = sym.Symbol('x',Real=True)\n",
    "n=20\n",
    "\n",
    "for i in range(n+1):\n",
    "    \n",
    "    poly = GetLegendre(i)\n",
    "    \n",
    "    Legendre.append(poly)\n",
    "    DerLegendre.append(sym.diff(poly,x,1))"
   ]
  },
  {
   "cell_type": "code",
   "execution_count": 6,
   "id": "94b3f6c6",
   "metadata": {},
   "outputs": [
    {
     "data": {
      "text/plain": [
       "[1,\n",
       " x,\n",
       " (3*x**2 - 1)/2,\n",
       " x*(5*x**2 - 3)/2,\n",
       " (8*x**4 + 24*x**2*(x**2 - 1) + 3*(x**2 - 1)**2)/8,\n",
       " x*(8*x**4 + 40*x**2*(x**2 - 1) + 15*(x**2 - 1)**2)/8,\n",
       " (16*x**6 + 120*x**4*(x**2 - 1) + 90*x**2*(x**2 - 1)**2 + 5*(x**2 - 1)**3)/16,\n",
       " x*(16*x**6 + 168*x**4*(x**2 - 1) + 210*x**2*(x**2 - 1)**2 + 35*(x**2 - 1)**3)/16,\n",
       " (128*x**8 + 1792*x**6*(x**2 - 1) + 3360*x**4*(x**2 - 1)**2 + 1120*x**2*(x**2 - 1)**3 + 35*(x**2 - 1)**4)/128,\n",
       " x*(128*x**8 + 2304*x**6*(x**2 - 1) + 6048*x**4*(x**2 - 1)**2 + 3360*x**2*(x**2 - 1)**3 + 315*(x**2 - 1)**4)/128,\n",
       " (256*x**10 + 5760*x**8*(x**2 - 1) + 20160*x**6*(x**2 - 1)**2 + 16800*x**4*(x**2 - 1)**3 + 3150*x**2*(x**2 - 1)**4 + 63*(x**2 - 1)**5)/256,\n",
       " x*(256*x**10 + 7040*x**8*(x**2 - 1) + 31680*x**6*(x**2 - 1)**2 + 36960*x**4*(x**2 - 1)**3 + 11550*x**2*(x**2 - 1)**4 + 693*(x**2 - 1)**5)/256,\n",
       " (1024*x**12 + 33792*x**10*(x**2 - 1) + 190080*x**8*(x**2 - 1)**2 + 295680*x**6*(x**2 - 1)**3 + 138600*x**4*(x**2 - 1)**4 + 16632*x**2*(x**2 - 1)**5 + 231*(x**2 - 1)**6)/1024,\n",
       " x*(1024*x**12 + 39936*x**10*(x**2 - 1) + 274560*x**8*(x**2 - 1)**2 + 549120*x**6*(x**2 - 1)**3 + 360360*x**4*(x**2 - 1)**4 + 72072*x**2*(x**2 - 1)**5 + 3003*(x**2 - 1)**6)/1024,\n",
       " (2048*x**14 + 93184*x**12*(x**2 - 1) + 768768*x**10*(x**2 - 1)**2 + 1921920*x**8*(x**2 - 1)**3 + 1681680*x**6*(x**2 - 1)**4 + 504504*x**4*(x**2 - 1)**5 + 42042*x**2*(x**2 - 1)**6 + 429*(x**2 - 1)**7)/2048,\n",
       " x*(2048*x**14 + 107520*x**12*(x**2 - 1) + 1048320*x**10*(x**2 - 1)**2 + 3203200*x**8*(x**2 - 1)**3 + 3603600*x**6*(x**2 - 1)**4 + 1513512*x**4*(x**2 - 1)**5 + 210210*x**2*(x**2 - 1)**6 + 6435*(x**2 - 1)**7)/2048,\n",
       " (32768*x**16 + 1966080*x**14*(x**2 - 1) + 22364160*x**12*(x**2 - 1)**2 + 82001920*x**10*(x**2 - 1)**3 + 115315200*x**8*(x**2 - 1)**4 + 64576512*x**6*(x**2 - 1)**5 + 13453440*x**4*(x**2 - 1)**6 + 823680*x**2*(x**2 - 1)**7 + 6435*(x**2 - 1)**8)/32768,\n",
       " x*(32768*x**16 + 2228224*x**14*(x**2 - 1) + 29245440*x**12*(x**2 - 1)**2 + 126730240*x**10*(x**2 - 1)**3 + 217817600*x**8*(x**2 - 1)**4 + 156828672*x**6*(x**2 - 1)**5 + 45741696*x**4*(x**2 - 1)**6 + 4667520*x**2*(x**2 - 1)**7 + 109395*(x**2 - 1)**8)/32768,\n",
       " (65536*x**18 + 5013504*x**16*(x**2 - 1) + 75202560*x**14*(x**2 - 1)**2 + 380190720*x**12*(x**2 - 1)**3 + 784143360*x**10*(x**2 - 1)**4 + 705729024*x**8*(x**2 - 1)**5 + 274450176*x**6*(x**2 - 1)**6 + 42007680*x**4*(x**2 - 1)**7 + 1969110*x**2*(x**2 - 1)**8 + 12155*(x**2 - 1)**9)/65536,\n",
       " x*(65536*x**18 + 5603328*x**16*(x**2 - 1) + 95256576*x**14*(x**2 - 1)**2 + 555663360*x**12*(x**2 - 1)**3 + 1354429440*x**10*(x**2 - 1)**4 + 1489872384*x**8*(x**2 - 1)**5 + 744936192*x**6*(x**2 - 1)**6 + 159629184*x**4*(x**2 - 1)**7 + 12471030*x**2*(x**2 - 1)**8 + 230945*(x**2 - 1)**9)/65536,\n",
       " (262144*x**20 + 24903680*x**18*(x**2 - 1) + 476282880*x**16*(x**2 - 1)**2 + 3175219200*x**14*(x**2 - 1)**3 + 9029529600*x**12*(x**2 - 1)**4 + 11918979072*x**10*(x**2 - 1)**5 + 7449361920*x**8*(x**2 - 1)**6 + 2128389120*x**6*(x**2 - 1)**7 + 249420600*x**4*(x**2 - 1)**8 + 9237800*x**2*(x**2 - 1)**9 + 46189*(x**2 - 1)**10)/262144]"
      ]
     },
     "execution_count": 6,
     "metadata": {},
     "output_type": "execute_result"
    }
   ],
   "source": [
    "Legendre"
   ]
  }
 ],
 "metadata": {
  "kernelspec": {
   "display_name": "Python 3 (ipykernel)",
   "language": "python",
   "name": "python3"
  },
  "language_info": {
   "codemirror_mode": {
    "name": "ipython",
    "version": 3
   },
   "file_extension": ".py",
   "mimetype": "text/x-python",
   "name": "python",
   "nbconvert_exporter": "python",
   "pygments_lexer": "ipython3",
   "version": "3.9.12"
  }
 },
 "nbformat": 4,
 "nbformat_minor": 5
}
