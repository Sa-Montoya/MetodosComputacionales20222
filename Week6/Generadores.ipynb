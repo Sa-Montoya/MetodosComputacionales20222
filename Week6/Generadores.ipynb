{
 "cells": [
  {
   "cell_type": "code",
   "execution_count": 1,
   "id": "e29f5b02",
   "metadata": {},
   "outputs": [],
   "source": [
    "import numpy as np\n",
    "import matplotlib.pyplot as plt\n",
    "from tqdm import tqdm "
   ]
  },
  {
   "cell_type": "code",
   "execution_count": 2,
   "id": "6f6b8fa6",
   "metadata": {},
   "outputs": [],
   "source": [
    "class MyRandom:\n",
    "    \n",
    "    def __init__(self, seed = 15, method='simple'):\n",
    "        \n",
    "        self.r = seed\n",
    "        self.method = method\n",
    "        \n",
    "        if method=='simple':\n",
    "            self.a = 57\n",
    "            self.c = 1\n",
    "            self.M = 265\n",
    "        elif method == 'drand48':\n",
    "            self.a = int('5DEECE66D',16)\n",
    "            self.c = int('B',16)\n",
    "            self.M = 2**48\n",
    "        else:\n",
    "            print('Generador no reconocido')\n",
    "            \n",
    "    def Random(self):\n",
    "        \n",
    "        r = (self.a*self.r + self.c)%self.M\n",
    "        self.r = r\n",
    "        \n",
    "        return r/float(self.M)"
   ]
  },
  {
   "cell_type": "code",
   "execution_count": 3,
   "id": "766b9002",
   "metadata": {},
   "outputs": [],
   "source": [
    "rand = MyRandom(seed = 6625, method='drand48')"
   ]
  },
  {
   "cell_type": "code",
   "execution_count": 5,
   "id": "11b2e153",
   "metadata": {},
   "outputs": [
    {
     "data": {
      "text/plain": [
       "0.6625441078340479"
      ]
     },
     "execution_count": 5,
     "metadata": {},
     "output_type": "execute_result"
    }
   ],
   "source": [
    "rand.Random()"
   ]
  },
  {
   "cell_type": "code",
   "execution_count": null,
   "id": "eb24cc0f",
   "metadata": {},
   "outputs": [],
   "source": []
  }
 ],
 "metadata": {
  "kernelspec": {
   "display_name": "Python 3 (ipykernel)",
   "language": "python",
   "name": "python3"
  },
  "language_info": {
   "codemirror_mode": {
    "name": "ipython",
    "version": 3
   },
   "file_extension": ".py",
   "mimetype": "text/x-python",
   "name": "python",
   "nbconvert_exporter": "python",
   "pygments_lexer": "ipython3",
   "version": "3.9.12"
  }
 },
 "nbformat": 4,
 "nbformat_minor": 5
}
