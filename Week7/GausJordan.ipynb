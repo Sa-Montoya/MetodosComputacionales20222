{
 "cells": [
  {
   "cell_type": "code",
   "execution_count": 1,
   "id": "4214a2ba",
   "metadata": {},
   "outputs": [],
   "source": [
    "import numpy as np\n",
    "import matplotlib.pyplot as plt"
   ]
  },
  {
   "cell_type": "code",
   "execution_count": 2,
   "id": "0ca88e7f",
   "metadata": {},
   "outputs": [
    {
     "name": "stdout",
     "output_type": "stream",
     "text": [
      "[[ 3. -1. -1.]\n",
      " [-1.  3.  1.]\n",
      " [ 2.  1.  4.]]\n",
      "[1. 3. 7.]\n"
     ]
    }
   ],
   "source": [
    "M = np.array([[3,-1,-1],[-1.,3.,1.],[2,1,4]])\n",
    "print(M)\n",
    "b = np.array([1.,3.,7.])\n",
    "print(b)"
   ]
  },
  {
   "cell_type": "code",
   "execution_count": 5,
   "id": "280ff50a",
   "metadata": {},
   "outputs": [],
   "source": [
    "def Diagonalizar(A_, ones = False):\n",
    "    \n",
    "    A = A_.copy()\n",
    "    n = A.shape[0]\n",
    "    \n",
    "    for i in range(n):\n",
    "        \n",
    "        if ones:\n",
    "            A[i,:] /= A[i,i]\n",
    "        \n",
    "        \n",
    "        for j in range(i+1,n):\n",
    "            \n",
    "            a = A[j,i]/A[i,i]\n",
    "            A[j,:] -= a*A[i,:]\n",
    "            \n",
    "    return A"
   ]
  },
  {
   "cell_type": "code",
   "execution_count": 8,
   "id": "34d4465e",
   "metadata": {},
   "outputs": [
    {
     "data": {
      "text/plain": [
       "array([[ 1.        , -0.33333333, -0.33333333],\n",
       "       [ 0.        ,  1.        ,  0.25      ],\n",
       "       [ 0.        ,  0.        ,  1.        ]])"
      ]
     },
     "execution_count": 8,
     "metadata": {},
     "output_type": "execute_result"
    }
   ],
   "source": [
    "Diagonalizar(M,True)"
   ]
  },
  {
   "cell_type": "markdown",
   "id": "9f12bee2",
   "metadata": {},
   "source": [
    "$$  x_{i} = \\frac{ b_{i}  - \\sum_{j=i+1}^{n} A_{i,j}x_{j} }{ A_{ii}  }  $$ "
   ]
  },
  {
   "cell_type": "code",
   "execution_count": 13,
   "id": "083a7fc4",
   "metadata": {},
   "outputs": [],
   "source": [
    "def GausJordan(A_,b_,ones = False):\n",
    "    \n",
    "    A = A_.copy()\n",
    "    b = b_.copy()\n",
    "    \n",
    "    n = A.shape[0]\n",
    "    \n",
    "    for i in range(n):\n",
    "        \n",
    "        if ones:\n",
    "            A[i,:] /= A[i,i]\n",
    "            b[i] /= A[i,i]\n",
    "        \n",
    "        \n",
    "        for j in range(i+1,n):\n",
    "            \n",
    "            a = A[j,i]/A[i,i]\n",
    "            A[j,:] -= a*A[i,:]\n",
    "            b[j] -= a*b[i]\n",
    "            \n",
    "    x = b.copy()\n",
    "    \n",
    "    for i in reversed(range(n)):\n",
    "        #print(i)\n",
    "    \n",
    "        x[i] = b[i]\n",
    "        \n",
    "        for j in range( i+1, n ):\n",
    "            x[i] -= A[i,j]*x[j]\n",
    "            \n",
    "        x[i] /= A[i,i]\n",
    "        \n",
    "    return x"
   ]
  },
  {
   "cell_type": "code",
   "execution_count": 14,
   "id": "1d63ccb3",
   "metadata": {},
   "outputs": [
    {
     "data": {
      "text/plain": [
       "array([1., 1., 1.])"
      ]
     },
     "execution_count": 14,
     "metadata": {},
     "output_type": "execute_result"
    }
   ],
   "source": [
    "GausJordan(M,b)"
   ]
  },
  {
   "cell_type": "code",
   "execution_count": null,
   "id": "04ecf6ed",
   "metadata": {},
   "outputs": [],
   "source": []
  }
 ],
 "metadata": {
  "kernelspec": {
   "display_name": "Python 3 (ipykernel)",
   "language": "python",
   "name": "python3"
  },
  "language_info": {
   "codemirror_mode": {
    "name": "ipython",
    "version": 3
   },
   "file_extension": ".py",
   "mimetype": "text/x-python",
   "name": "python",
   "nbconvert_exporter": "python",
   "pygments_lexer": "ipython3",
   "version": "3.9.12"
  }
 },
 "nbformat": 4,
 "nbformat_minor": 5
}
