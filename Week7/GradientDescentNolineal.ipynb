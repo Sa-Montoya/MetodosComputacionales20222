{
 "cells": [
  {
   "cell_type": "code",
   "execution_count": 1,
   "id": "a7729115",
   "metadata": {},
   "outputs": [],
   "source": [
    "import numpy as np\n",
    "import matplotlib.pyplot as plt"
   ]
  },
  {
   "cell_type": "code",
   "execution_count": 2,
   "id": "757ef3b1",
   "metadata": {},
   "outputs": [],
   "source": [
    "# Definamos el sistema en una tupla\n",
    "G=(lambda x,y,z: 3*x - np.cos(y*z) - 1.5, \\\n",
    "   lambda x,y,z: 4*x**2 - 625*y**2 + 2*y -1, \\\n",
    "   lambda x,y,z: np.exp(-x*y) + 20*z + 9.471975 )"
   ]
  },
  {
   "cell_type": "code",
   "execution_count": 3,
   "id": "2706ed4e",
   "metadata": {},
   "outputs": [
    {
     "name": "stdout",
     "output_type": "stream",
     "text": [
      "-2.5\n",
      "-1\n",
      "10.471975\n"
     ]
    }
   ],
   "source": [
    "for i in range(3):\n",
    "    print(G[i](0,0,0))"
   ]
  },
  {
   "cell_type": "code",
   "execution_count": null,
   "id": "6d59560f",
   "metadata": {},
   "outputs": [],
   "source": []
  },
  {
   "cell_type": "code",
   "execution_count": null,
   "id": "2b409eb4",
   "metadata": {},
   "outputs": [],
   "source": []
  }
 ],
 "metadata": {
  "kernelspec": {
   "display_name": "Python 3 (ipykernel)",
   "language": "python",
   "name": "python3"
  },
  "language_info": {
   "codemirror_mode": {
    "name": "ipython",
    "version": 3
   },
   "file_extension": ".py",
   "mimetype": "text/x-python",
   "name": "python",
   "nbconvert_exporter": "python",
   "pygments_lexer": "ipython3",
   "version": "3.9.12"
  }
 },
 "nbformat": 4,
 "nbformat_minor": 5
}
