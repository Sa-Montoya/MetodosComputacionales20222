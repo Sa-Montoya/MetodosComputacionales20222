{
 "cells": [
  {
   "cell_type": "code",
   "execution_count": 2,
   "id": "590b8563",
   "metadata": {},
   "outputs": [],
   "source": [
    "import numpy as np\n",
    "import matplotlib.pyplot as plt"
   ]
  },
  {
   "cell_type": "code",
   "execution_count": 3,
   "id": "5c10a7eb",
   "metadata": {},
   "outputs": [
    {
     "name": "stdout",
     "output_type": "stream",
     "text": [
      "[[ 3. -1. -1.]\n",
      " [-1.  3.  1.]\n",
      " [ 2.  1.  4.]]\n",
      "[1. 3. 7.]\n"
     ]
    }
   ],
   "source": [
    "M = np.array([[3,-1,-1],[-1.,3.,1.],[2,1,4]])\n",
    "print(M)\n",
    "b = np.array([1.,3.,7.])\n",
    "print(b)"
   ]
  },
  {
   "cell_type": "code",
   "execution_count": 4,
   "id": "e0f1f020",
   "metadata": {},
   "outputs": [
    {
     "data": {
      "text/plain": [
       "array([1., 1., 1.])"
      ]
     },
     "execution_count": 4,
     "metadata": {},
     "output_type": "execute_result"
    }
   ],
   "source": [
    "np.linalg.solve(M,b)"
   ]
  },
  {
   "cell_type": "code",
   "execution_count": 12,
   "id": "625a97dc",
   "metadata": {},
   "outputs": [],
   "source": [
    "def GetacobiMethod(A,b,itmax=100,error = 1e-10):\n",
    "    \n",
    "    M,N = A.shape\n",
    "    \n",
    "    x = np.zeros(N)\n",
    "    \n",
    "    sumk = np.zeros_like(x)\n",
    "    \n",
    "    it = 0\n",
    "    \n",
    "    residuo = np.linalg.norm( b - np.dot(A,x) )\n",
    "    \n",
    "    while ( residuo > error and it < itmax ):\n",
    "        \n",
    "        it += 1\n",
    "        \n",
    "        for i in range(M):\n",
    "            sum_ = 0\n",
    "            for j in range(N):\n",
    "                if i != j:\n",
    "                    sum_ += A[i][j]*x[j]\n",
    "            sumk[i] = sum_\n",
    "          \n",
    "        for i in range(M):\n",
    "            \n",
    "            if A[i,i] != 0:\n",
    "                x[i] = (b[i] - sumk[i])/A[i,i]\n",
    "            else:\n",
    "                print('No invertible con Jacobi')\n",
    "        \n",
    "        print(x)\n",
    "        residuo = np.linalg.norm( b - np.dot(A,x) )\n",
    "        \n",
    "    return x,it,residuo"
   ]
  },
  {
   "cell_type": "code",
   "execution_count": 14,
   "id": "bda45a33",
   "metadata": {},
   "outputs": [
    {
     "name": "stdout",
     "output_type": "stream",
     "text": [
      "[0.33333333 1.         1.75      ]\n",
      "[1.25       0.52777778 1.33333333]\n",
      "[0.9537037  0.97222222 0.99305556]\n",
      "[0.98842593 0.98688272 1.03009259]\n",
      "[1.00565844 0.98611111 1.00906636]\n",
      "[0.99839249 0.99886403 1.000643  ]\n",
      "[0.99983568 0.99924983 1.00108775]\n",
      "[1.00011253 0.99958264 1.0002697 ]\n",
      "[0.99995078 0.99994761 1.00004808]\n",
      "[0.99999856 0.99996757 1.00003771]\n",
      "[1.00000176 0.99998695 1.00000883]\n",
      "[0.99999859 0.99999764 1.00000238]\n",
      "[1.00000001 0.99999874 1.00000129]\n",
      "[1.00000001 0.99999957 1.00000031]\n",
      "[0.99999996 0.9999999  1.0000001 ]\n",
      "[1.         0.99999995 1.00000004]\n",
      "[1.         0.99999999 1.00000001]\n",
      "[1. 1. 1.]\n",
      "[1. 1. 1.]\n",
      "[1. 1. 1.]\n",
      "[1. 1. 1.]\n",
      "[1. 1. 1.]\n",
      "[1. 1. 1.]\n"
     ]
    }
   ],
   "source": [
    "Xsol,it,error = GetacobiMethod(M,b)"
   ]
  },
  {
   "cell_type": "code",
   "execution_count": 15,
   "id": "9002ace9",
   "metadata": {},
   "outputs": [
    {
     "name": "stdout",
     "output_type": "stream",
     "text": [
      "23 5.690579155224868e-11\n"
     ]
    },
    {
     "data": {
      "text/plain": [
       "(array([1., 1., 1.]), None)"
      ]
     },
     "execution_count": 15,
     "metadata": {},
     "output_type": "execute_result"
    }
   ],
   "source": [
    "Xsol, print(it,error)"
   ]
  },
  {
   "cell_type": "code",
   "execution_count": null,
   "id": "71fa3bae",
   "metadata": {},
   "outputs": [],
   "source": []
  }
 ],
 "metadata": {
  "kernelspec": {
   "display_name": "Python 3 (ipykernel)",
   "language": "python",
   "name": "python3"
  },
  "language_info": {
   "codemirror_mode": {
    "name": "ipython",
    "version": 3
   },
   "file_extension": ".py",
   "mimetype": "text/x-python",
   "name": "python",
   "nbconvert_exporter": "python",
   "pygments_lexer": "ipython3",
   "version": "3.9.12"
  }
 },
 "nbformat": 4,
 "nbformat_minor": 5
}
