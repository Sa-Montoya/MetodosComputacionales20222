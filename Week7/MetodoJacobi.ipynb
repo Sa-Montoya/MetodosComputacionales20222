{
 "cells": [
  {
   "cell_type": "code",
   "execution_count": 2,
   "id": "590b8563",
   "metadata": {},
   "outputs": [],
   "source": [
    "import numpy as np\n",
    "import matplotlib.pyplot as plt"
   ]
  },
  {
   "cell_type": "code",
   "execution_count": 3,
   "id": "5c10a7eb",
   "metadata": {},
   "outputs": [
    {
     "name": "stdout",
     "output_type": "stream",
     "text": [
      "[[ 3. -1. -1.]\n",
      " [-1.  3.  1.]\n",
      " [ 2.  1.  4.]]\n",
      "[1. 3. 7.]\n"
     ]
    }
   ],
   "source": [
    "M = np.array([[3,-1,-1],[-1.,3.,1.],[2,1,4]])\n",
    "print(M)\n",
    "b = np.array([1.,3.,7.])\n",
    "print(b)"
   ]
  },
  {
   "cell_type": "code",
   "execution_count": 4,
   "id": "e0f1f020",
   "metadata": {},
   "outputs": [
    {
     "data": {
      "text/plain": [
       "array([1., 1., 1.])"
      ]
     },
     "execution_count": 4,
     "metadata": {},
     "output_type": "execute_result"
    }
   ],
   "source": [
    "np.linalg.solve(M,b)"
   ]
  },
  {
   "cell_type": "code",
   "execution_count": 18,
   "id": "625a97dc",
   "metadata": {},
   "outputs": [],
   "source": [
    "def GetacobiMethod(A,b,itmax=1000,error = 1e-10):\n",
    "    \n",
    "    M,N = A.shape\n",
    "    \n",
    "    x = np.zeros(N)\n",
    "    \n",
    "    sumk = np.zeros_like(x)\n",
    "    \n",
    "    x = [13,20,-1]\n",
    "    \n",
    "    it = 0\n",
    "    \n",
    "    residuo = np.linalg.norm( b - np.dot(A,x) )\n",
    "    \n",
    "    while ( residuo > error and it < itmax ):\n",
    "        \n",
    "        it += 1\n",
    "        \n",
    "        for i in range(M):\n",
    "            sum_ = 0\n",
    "            for j in range(N):\n",
    "                if i != j:\n",
    "                    sum_ += A[i][j]*x[j]\n",
    "            sumk[i] = sum_\n",
    "          \n",
    "        for i in range(M):\n",
    "            \n",
    "            if A[i,i] != 0:\n",
    "                x[i] = (b[i] - sumk[i])/A[i,i]\n",
    "            else:\n",
    "                print('No invertible con Jacobi')\n",
    "        \n",
    "        print(x)\n",
    "        residuo = np.linalg.norm( b - np.dot(A,x) )\n",
    "        \n",
    "    return x,it,residuo"
   ]
  },
  {
   "cell_type": "code",
   "execution_count": 19,
   "id": "3f171ede",
   "metadata": {},
   "outputs": [
    {
     "name": "stdout",
     "output_type": "stream",
     "text": [
      "[6.666666666666667, 5.666666666666667, -9.75]\n",
      "[-1.0277777777777777, 6.472222222222222, -3.0]\n",
      "[1.4907407407407407, 1.6574074074074074, 0.6458333333333333]\n",
      "[1.10108024691358, 1.2816358024691359, 0.5902777777777777]\n",
      "[0.9573045267489713, 1.170267489711934, 0.879050925925926]\n",
      "[1.0164394718792866, 1.0260845336076818, 0.9787808641975309]\n",
      "[1.0016217992684042, 1.012552869227252, 0.9852591306584362]\n",
      "[0.9992706666285628, 1.0054542228699894, 0.9960508830589849]\n",
      "[1.0005017019763247, 1.0010732611898592, 0.9990011109682213]\n",
      "[1.0000247907193602, 1.0005001970027012, 0.9994808337143728]\n",
      "[0.9999936769056914, 1.0001813190016626, 0.9998625553896445]\n",
      "[1.0000146247971025, 1.0000437071720156, 0.9999578317967386]\n",
      "[1.0000005129895848, 1.0000189310001213, 0.9999817608084449]\n",
      "[1.0000002306028553, 1.0000062507270466, 0.9999950107551773]\n",
      "[1.0000004204940747, 1.000001739949226, 0.9999983220168107]\n",
      "[1.0000000206553457, 1.0000006994924213, 0.9999993547656562]\n",
      "[1.0000000180860258, 1.0000002219632298, 0.9999998147992218]\n",
      "[1.0000000122541506, 1.000000067762268, 0.9999999354661797]\n",
      "[1.0000000010761492, 1.0000000255959902, 0.9999999769323578]\n",
      "[1.0000000008427827, 1.0000000080479305, 0.9999999930629279]\n",
      "[1.0000000003702862, 1.000000002593285, 0.999999997566626]\n",
      "[1.0000000000533038, 1.0000000009345535, 0.9999999991665356]\n",
      "[1.0000000000336964, 1.0000000002955893, 0.9999999997397098]\n",
      "[1.0000000000117664, 1.0000000000979956, 0.9999999999092545]\n",
      "[1.0000000000024167, 1.0000000000341707, 0.9999999999696179]\n",
      "[1.0000000000012628, 1.0000000000109328, 0.9999999999902489]\n"
     ]
    }
   ],
   "source": [
    "Xsol,it,error = GetacobiMethod(M,b)"
   ]
  },
  {
   "cell_type": "code",
   "execution_count": 20,
   "id": "8b9789f8",
   "metadata": {},
   "outputs": [
    {
     "name": "stdout",
     "output_type": "stream",
     "text": [
      "26 3.3674979755715494e-11\n"
     ]
    },
    {
     "data": {
      "text/plain": [
       "([1.0000000000012628, 1.0000000000109328, 0.9999999999902489], None)"
      ]
     },
     "execution_count": 20,
     "metadata": {},
     "output_type": "execute_result"
    }
   ],
   "source": [
    "Xsol, print(it,error)"
   ]
  },
  {
   "cell_type": "code",
   "execution_count": null,
   "id": "b53388ac",
   "metadata": {},
   "outputs": [],
   "source": []
  }
 ],
 "metadata": {
  "kernelspec": {
   "display_name": "Python 3 (ipykernel)",
   "language": "python",
   "name": "python3"
  },
  "language_info": {
   "codemirror_mode": {
    "name": "ipython",
    "version": 3
   },
   "file_extension": ".py",
   "mimetype": "text/x-python",
   "name": "python",
   "nbconvert_exporter": "python",
   "pygments_lexer": "ipython3",
   "version": "3.9.12"
  }
 },
 "nbformat": 4,
 "nbformat_minor": 5
}
