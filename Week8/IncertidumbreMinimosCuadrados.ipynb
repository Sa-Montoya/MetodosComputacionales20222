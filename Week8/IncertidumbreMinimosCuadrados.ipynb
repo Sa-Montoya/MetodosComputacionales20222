{
 "cells": [
  {
   "cell_type": "code",
   "execution_count": 1,
   "id": "13f09633",
   "metadata": {},
   "outputs": [],
   "source": [
    "import numpy as np\n",
    "import matplotlib.pyplot as plt\n",
    "import os.path as path\n",
    "import wget\n",
    "import os\n",
    "from scipy.stats import chi2\n",
    "from scipy.stats import t\n",
    "from tqdm import tqdm\n",
    "import sympy as sym"
   ]
  },
  {
   "cell_type": "code",
   "execution_count": 2,
   "id": "b292c9b5",
   "metadata": {},
   "outputs": [],
   "source": [
    "sample = np.array([0.974,0.950,0.932,1.104,1.038,0.920,0.935,0.907,0.810,0.915])"
   ]
  },
  {
   "cell_type": "code",
   "execution_count": null,
   "id": "9f84b39f",
   "metadata": {},
   "outputs": [],
   "source": []
  },
  {
   "cell_type": "code",
   "execution_count": null,
   "id": "6758d1b3",
   "metadata": {},
   "outputs": [],
   "source": []
  },
  {
   "cell_type": "code",
   "execution_count": null,
   "id": "c1b14049",
   "metadata": {},
   "outputs": [],
   "source": []
  },
  {
   "cell_type": "code",
   "execution_count": null,
   "id": "3ce243dc",
   "metadata": {},
   "outputs": [],
   "source": []
  },
  {
   "cell_type": "code",
   "execution_count": 3,
   "id": "11bfc9de",
   "metadata": {},
   "outputs": [
    {
     "name": "stdout",
     "output_type": "stream",
     "text": [
      "\r",
      "  0% [                                                                                  ]   0 / 521\r",
      "100% [..................................................................................] 521 / 521File loaded\n"
     ]
    }
   ],
   "source": [
    "# Descargamos data\n",
    "if not path.exists('Data'):\n",
    "    os.mkdir('Data')\n",
    "\n",
    "!rm Data/*\n",
    "\n",
    "file = 'Data/data.csv'\n",
    "url = 'https://raw.githubusercontent.com/asegura4488/Database/main/MetodosComputacionalesReforma/MinimosCuadratico.txt'\n",
    "#url = 'https://raw.githubusercontent.com/asegura4488/Database/main/MetodosComputacionalesReforma/MinimosLineal.txt'\n",
    "\n",
    "if not path.exists(file):\n",
    "    Path_ = wget.download(url,file)\n",
    "    print('File loaded')\n",
    "else:\n",
    "    Path_ = file"
   ]
  },
  {
   "cell_type": "code",
   "execution_count": 4,
   "id": "0b408812",
   "metadata": {},
   "outputs": [],
   "source": [
    "Data = np.loadtxt(Path_)"
   ]
  },
  {
   "cell_type": "code",
   "execution_count": 5,
   "id": "4339ab44",
   "metadata": {},
   "outputs": [
    {
     "data": {
      "text/plain": [
       "array([1.58400014, 3.69961747, 1.1848612 , 2.23147908, 1.50175599,\n",
       "       3.86330716, 2.40636765, 3.58441443, 3.0400921 , 2.78446745,\n",
       "       2.34444858, 1.9049869 , 1.52274618, 1.48438445, 1.41758875,\n",
       "       3.64880609, 2.26847321, 2.82090382, 3.4331109 , 2.50277737])"
      ]
     },
     "execution_count": 5,
     "metadata": {},
     "output_type": "execute_result"
    }
   ],
   "source": [
    "x = Data[:,0]\n",
    "y = Data[:,1]\n",
    "N = len(x)\n",
    "sigma = np.random.uniform(1,4,size=N)\n",
    "sigma"
   ]
  },
  {
   "cell_type": "code",
   "execution_count": 6,
   "id": "9ae7f361",
   "metadata": {},
   "outputs": [],
   "source": [
    "def GetFit(x,y,n=3):\n",
    "    \n",
    "    size = len(x)\n",
    "    b = y\n",
    "    \n",
    "    A = np.ones((size,n+1))\n",
    "    \n",
    "    for i in range(1,n+1):\n",
    "        A[:,i] = x**(i)\n",
    "\n",
    "    # Hacer ajuste cuadratico\n",
    "    \n",
    "    M = np.dot(A.T,A)\n",
    "    bt = np.dot(A.T,b)\n",
    "    \n",
    "    xsol = np.linalg.solve(M,bt)\n",
    "\n",
    "    return xsol"
   ]
  },
  {
   "cell_type": "code",
   "execution_count": 7,
   "id": "0faa73fc",
   "metadata": {},
   "outputs": [
    {
     "name": "stdout",
     "output_type": "stream",
     "text": [
      "[1.22132054 6.09075205 2.9565874 ]\n"
     ]
    }
   ],
   "source": [
    "n = 2 # order of the polynomial\n",
    "param = GetFit(x,y,n=n)\n",
    "print(param)"
   ]
  },
  {
   "cell_type": "code",
   "execution_count": 8,
   "id": "ea9d7f50",
   "metadata": {},
   "outputs": [],
   "source": [
    "def GetModel(x,p):\n",
    "    \n",
    "    y = 0.\n",
    "    for i in range(len(p)):\n",
    "        y += p[i]*x**i\n",
    "    \n",
    "    return y"
   ]
  },
  {
   "cell_type": "code",
   "execution_count": 9,
   "id": "a23b8519",
   "metadata": {},
   "outputs": [
    {
     "data": {
      "text/latex": [
       "$\\displaystyle 2.95658740177385 x^{2} + 6.0907520463624 x + 1.2213205361703$"
      ],
      "text/plain": [
       "2.95658740177385*x**2 + 6.0907520463624*x + 1.2213205361703"
      ]
     },
     "execution_count": 9,
     "metadata": {},
     "output_type": "execute_result"
    }
   ],
   "source": [
    "X = sym.Symbol('x',real=True)\n",
    "GetModel(X,param)"
   ]
  },
  {
   "cell_type": "code",
   "execution_count": 10,
   "id": "5c55a52f",
   "metadata": {},
   "outputs": [
    {
     "data": {
      "text/plain": [
       "<matplotlib.legend.Legend at 0x7faa4d18cdc0>"
      ]
     },
     "execution_count": 10,
     "metadata": {},
     "output_type": "execute_result"
    },
    {
     "data": {
      "image/png": "[encoded data removed]",
      "text/plain": [
       "<Figure size 360x360 with 1 Axes>"
      ]
     },
     "metadata": {
      "needs_background": "light"
     },
     "output_type": "display_data"
    }
   ],
   "source": [
    "t = np.linspace(np.min(x),np.max(x),100)\n",
    "\n",
    "fig = plt.figure(figsize=(5,5))\n",
    "ax = fig.add_subplot(1,1,1)\n",
    "ax.errorbar(x,y,yerr=sigma,fmt='o',color='r',label='Data')\n",
    "ax.set_title('Fit')\n",
    "ax.plot(t,GetModel(t,param),lw=3) \n",
    "#ax.plot(t,GetModel(t,param), label=\"Parameters: {0}\".format(np.round(param,2))) \n",
    "ax.legend(loc=0)"
   ]
  },
  {
   "cell_type": "code",
   "execution_count": 11,
   "id": "d6ac7a98",
   "metadata": {},
   "outputs": [],
   "source": [
    "def GetChi2(x,y,sigma,p,reducido=True):\n",
    "    \n",
    "    df = (len(x) - len(p) - 1) \n",
    "    \n",
    "    if not reducido:\n",
    "        return np.sum( ( ( y - GetModel(x,p) )/sigma )**2 ) , df\n",
    "    else:   \n",
    "        return np.sum( ( ( y - GetModel(x,p) )/sigma )**2 ) / df ,df"
   ]
  },
  {
   "cell_type": "code",
   "execution_count": 12,
   "id": "fd73087f",
   "metadata": {},
   "outputs": [
    {
     "name": "stdout",
     "output_type": "stream",
     "text": [
      "8.692643177992592\n"
     ]
    }
   ],
   "source": [
    "param = GetFit(x,y,n)\n",
    "Chi2,df = GetChi2(x,y,sigma,param)\n",
    "print(Chi2)"
   ]
  },
  {
   "cell_type": "markdown",
   "id": "58c897a6",
   "metadata": {},
   "source": [
    "# Bootstraping"
   ]
  }
 ],
 "metadata": {
  "kernelspec": {
   "display_name": "Python 3 (ipykernel)",
   "language": "python",
   "name": "python3"
  },
  "language_info": {
   "codemirror_mode": {
    "name": "ipython",
    "version": 3
   },
   "file_extension": ".py",
   "mimetype": "text/x-python",
   "name": "python",
   "nbconvert_exporter": "python",
   "pygments_lexer": "ipython3",
   "version": "3.9.12"
  }
 },
 "nbformat": 4,
 "nbformat_minor": 5
}
