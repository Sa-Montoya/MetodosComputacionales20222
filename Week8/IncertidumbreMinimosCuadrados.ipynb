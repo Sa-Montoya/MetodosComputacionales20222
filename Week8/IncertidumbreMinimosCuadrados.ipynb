{
 "cells": [
  {
   "cell_type": "code",
   "execution_count": 13,
   "id": "13f09633",
   "metadata": {},
   "outputs": [
    {
     "data": {
      "text/html": [
       "<style>.container { width:100% !important; }</style>"
      ],
      "text/plain": [
       "<IPython.core.display.HTML object>"
      ]
     },
     "metadata": {},
     "output_type": "display_data"
    }
   ],
   "source": [
    "from IPython.display import display, HTML\n",
    "display(HTML(\"<style>.container { width:100% !important; }</style>\"))\n",
    "import numpy as np\n",
    "import matplotlib.pyplot as plt\n",
    "import os.path as path\n",
    "import wget\n",
    "import os\n",
    "from scipy.stats import chi2\n",
    "from scipy.stats import t\n",
    "from tqdm import tqdm\n",
    "import sympy as sym"
   ]
  },
  {
   "cell_type": "code",
   "execution_count": 14,
   "id": "b292c9b5",
   "metadata": {},
   "outputs": [],
   "source": [
    "sample = np.array([0.974,0.950,0.932,1.104,1.038,0.920,0.935,0.907,0.810,0.915])"
   ]
  },
  {
   "cell_type": "code",
   "execution_count": 15,
   "id": "9f84b39f",
   "metadata": {},
   "outputs": [
    {
     "name": "stdout",
     "output_type": "stream",
     "text": [
      "0.9484999999999999\n"
     ]
    }
   ],
   "source": [
    "mean = np.mean(sample)\n",
    "print(mean)"
   ]
  },
  {
   "cell_type": "code",
   "execution_count": 16,
   "id": "6758d1b3",
   "metadata": {},
   "outputs": [],
   "source": [
    "def Resample(sample):\n",
    "    \n",
    "    resample_ = np.random.choice( sample, size = len(sample), replace = True )\n",
    "    return resample_"
   ]
  },
  {
   "cell_type": "code",
   "execution_count": 17,
   "id": "c1b14049",
   "metadata": {},
   "outputs": [
    {
     "data": {
      "text/plain": [
       "0.9404"
      ]
     },
     "execution_count": 17,
     "metadata": {},
     "output_type": "execute_result"
    }
   ],
   "source": [
    "np.mean(Resample(sample))"
   ]
  },
  {
   "cell_type": "code",
   "execution_count": 18,
   "id": "3ce243dc",
   "metadata": {},
   "outputs": [],
   "source": [
    "def Bootstrapping(sample,N=10000):\n",
    "    \n",
    "    Mean_Dist = np.zeros(N)\n",
    "    \n",
    "    for i in tqdm(range(N)):\n",
    "        resample = Resample(sample)\n",
    "        Mean_Dist[i] = np.mean(resample)\n",
    "        \n",
    "    return Mean_Dist"
   ]
  },
  {
   "cell_type": "code",
   "execution_count": 31,
   "id": "7eefd8bf",
   "metadata": {},
   "outputs": [
    {
     "name": "stdout",
     "output_type": "stream",
     "text": [
      "0.9478000000000002\n"
     ]
    },
    {
     "data": {
      "text/plain": [
       "array([0.9253, 0.9717])"
      ]
     },
     "execution_count": 31,
     "metadata": {},
     "output_type": "execute_result"
    }
   ],
   "source": [
    "mean = np.percentile(Mean_Dist,50)\n",
    "print(mean)\n",
    "q1 = np.quantile( a = Mean_Dist, q=[0.16,0.84] )\n",
    "q2 = np.quantile( a = Mean_Dist, q=[0.023,0.977] )\n",
    "\n",
    "q1"
   ]
  },
  {
   "cell_type": "code",
   "execution_count": 28,
   "id": "73956b98",
   "metadata": {},
   "outputs": [
    {
     "name": "stderr",
     "output_type": "stream",
     "text": [
      "100%|███████████████████████████████████████████████████████| 10000/10000 [00:01<00:00, 9872.31it/s]\n"
     ]
    }
   ],
   "source": [
    "Mean_Dist = Bootstrapping(sample)"
   ]
  },
  {
   "cell_type": "code",
   "execution_count": 30,
   "id": "e7ed347b",
   "metadata": {},
   "outputs": [
    {
     "name": "stdout",
     "output_type": "stream",
     "text": [
      "0.022800000000000042 0.0239999999999998\n"
     ]
    }
   ],
   "source": [
    "errorinf = mean-q1[0]\n",
    "errorsup = q1[1] - mean\n",
    "print(errorinf,errorsup)"
   ]
  },
  {
   "cell_type": "code",
   "execution_count": 32,
   "id": "f3deeb59",
   "metadata": {},
   "outputs": [
    {
     "data": {
      "text/plain": [
       "<matplotlib.lines.Line2D at 0x7f195a0b58b0>"
      ]
     },
     "execution_count": 32,
     "metadata": {},
     "output_type": "execute_result"
    },
    {
     "data": {
      "image/png": "[encoded data removed]",
      "text/plain": [
       "<Figure size 432x288 with 1 Axes>"
      ]
     },
     "metadata": {
      "needs_background": "light"
     },
     "output_type": "display_data"
    }
   ],
   "source": [
    "plt.hist(Mean_Dist, bins=30, density=True, ec='k')\n",
    "plt.axvline(x=mean,color='r')\n",
    "plt.axvline(x=q1[0],color='g')\n",
    "plt.axvline(x=q1[1],color='g')\n",
    "plt.axvline(x=q2[0],color='k')\n",
    "plt.axvline(x=q2[1],color='k')"
   ]
  },
  {
   "cell_type": "markdown",
   "id": "74b0ee62",
   "metadata": {},
   "source": [
    "$$ \\hat{\\mu} = 0.948_{0.022}^{0.023}  at 68\\% CL $$"
   ]
  },
  {
   "cell_type": "code",
   "execution_count": 33,
   "id": "11bfc9de",
   "metadata": {},
   "outputs": [
    {
     "name": "stdout",
     "output_type": "stream",
     "text": [
      "\r",
      "  0% [                                                                                  ]   0 / 521\r",
      "100% [..................................................................................] 521 / 521File loaded\n"
     ]
    }
   ],
   "source": [
    "# Descargamos data\n",
    "if not path.exists('Data'):\n",
    "    os.mkdir('Data')\n",
    "\n",
    "!rm Data/*\n",
    "\n",
    "file = 'Data/data.csv'\n",
    "url = 'https://raw.githubusercontent.com/asegura4488/Database/main/MetodosComputacionalesReforma/MinimosCuadratico.txt'\n",
    "#url = 'https://raw.githubusercontent.com/asegura4488/Database/main/MetodosComputacionalesReforma/MinimosLineal.txt'\n",
    "\n",
    "if not path.exists(file):\n",
    "    Path_ = wget.download(url,file)\n",
    "    print('File loaded')\n",
    "else:\n",
    "    Path_ = file"
   ]
  },
  {
   "cell_type": "code",
   "execution_count": 34,
   "id": "0b408812",
   "metadata": {},
   "outputs": [],
   "source": [
    "Data = np.loadtxt(Path_)"
   ]
  },
  {
   "cell_type": "code",
   "execution_count": 35,
   "id": "4339ab44",
   "metadata": {},
   "outputs": [
    {
     "data": {
      "text/plain": [
       "array([2.21198596, 3.355882  , 2.34011068, 3.6114421 , 2.07465232,\n",
       "       3.4056553 , 2.99919761, 3.38692934, 2.41577188, 3.83952771,\n",
       "       2.83041381, 3.13989793, 2.60799039, 1.851381  , 2.44361594,\n",
       "       2.53250185, 2.24872718, 3.66662038, 2.72686513, 1.93753066])"
      ]
     },
     "execution_count": 35,
     "metadata": {},
     "output_type": "execute_result"
    }
   ],
   "source": [
    "x = Data[:,0]\n",
    "y = Data[:,1]\n",
    "N = len(x)\n",
    "sigma = np.random.uniform(1,4,size=N)\n",
    "sigma"
   ]
  },
  {
   "cell_type": "code",
   "execution_count": 36,
   "id": "9ae7f361",
   "metadata": {},
   "outputs": [],
   "source": [
    "def GetFit(x,y,n=3):\n",
    "    \n",
    "    size = len(x)\n",
    "    b = y\n",
    "    \n",
    "    A = np.ones((size,n+1))\n",
    "    \n",
    "    for i in range(1,n+1):\n",
    "        A[:,i] = x**(i)\n",
    "\n",
    "    # Hacer ajuste cuadratico\n",
    "    \n",
    "    M = np.dot(A.T,A)\n",
    "    bt = np.dot(A.T,b)\n",
    "    \n",
    "    xsol = np.linalg.solve(M,bt)\n",
    "\n",
    "    return xsol"
   ]
  },
  {
   "cell_type": "code",
   "execution_count": 37,
   "id": "0faa73fc",
   "metadata": {},
   "outputs": [
    {
     "name": "stdout",
     "output_type": "stream",
     "text": [
      "[1.22132054 6.09075205 2.9565874 ]\n"
     ]
    }
   ],
   "source": [
    "n = 2 # order of the polynomial\n",
    "param = GetFit(x,y,n=n)\n",
    "print(param)"
   ]
  },
  {
   "cell_type": "code",
   "execution_count": 38,
   "id": "ea9d7f50",
   "metadata": {},
   "outputs": [],
   "source": [
    "def GetModel(x,p):\n",
    "    \n",
    "    y = 0.\n",
    "    for i in range(len(p)):\n",
    "        y += p[i]*x**i\n",
    "    \n",
    "    return y"
   ]
  },
  {
   "cell_type": "code",
   "execution_count": 39,
   "id": "a23b8519",
   "metadata": {},
   "outputs": [
    {
     "data": {
      "text/latex": [
       "$\\displaystyle 2.95658740177385 x^{2} + 6.0907520463624 x + 1.2213205361703$"
      ],
      "text/plain": [
       "2.95658740177385*x**2 + 6.0907520463624*x + 1.2213205361703"
      ]
     },
     "execution_count": 39,
     "metadata": {},
     "output_type": "execute_result"
    }
   ],
   "source": [
    "X = sym.Symbol('x',real=True)\n",
    "GetModel(X,param)"
   ]
  },
  {
   "cell_type": "code",
   "execution_count": 40,
   "id": "5c55a52f",
   "metadata": {},
   "outputs": [
    {
     "data": {
      "text/plain": [
       "<matplotlib.legend.Legend at 0x7f195a024ca0>"
      ]
     },
     "execution_count": 40,
     "metadata": {},
     "output_type": "execute_result"
    },
    {
     "data": {
      "image/png": "[encoded data removed]",
      "text/plain": [
       "<Figure size 360x360 with 1 Axes>"
      ]
     },
     "metadata": {
      "needs_background": "light"
     },
     "output_type": "display_data"
    }
   ],
   "source": [
    "t = np.linspace(np.min(x),np.max(x),100)\n",
    "\n",
    "fig = plt.figure(figsize=(5,5))\n",
    "ax = fig.add_subplot(1,1,1)\n",
    "ax.errorbar(x,y,yerr=sigma,fmt='o',color='r',label='Data')\n",
    "ax.set_title('Fit')\n",
    "ax.plot(t,GetModel(t,param),lw=3) \n",
    "#ax.plot(t,GetModel(t,param), label=\"Parameters: {0}\".format(np.round(param,2))) \n",
    "ax.legend(loc=0)"
   ]
  },
  {
   "cell_type": "code",
   "execution_count": 41,
   "id": "d6ac7a98",
   "metadata": {},
   "outputs": [],
   "source": [
    "def GetChi2(x,y,sigma,p,reducido=True):\n",
    "    \n",
    "    df = (len(x) - len(p) - 1) \n",
    "    \n",
    "    if not reducido:\n",
    "        return np.sum( ( ( y - GetModel(x,p) )/sigma )**2 ) , df\n",
    "    else:   \n",
    "        return np.sum( ( ( y - GetModel(x,p) )/sigma )**2 ) / df ,df"
   ]
  },
  {
   "cell_type": "code",
   "execution_count": 42,
   "id": "fd73087f",
   "metadata": {},
   "outputs": [
    {
     "name": "stdout",
     "output_type": "stream",
     "text": [
      "4.9150060986671695\n"
     ]
    }
   ],
   "source": [
    "param = GetFit(x,y,n)\n",
    "Chi2,df = GetChi2(x,y,sigma,param)\n",
    "print(Chi2)"
   ]
  },
  {
   "cell_type": "markdown",
   "id": "58c897a6",
   "metadata": {},
   "source": [
    "# Bootstraping"
   ]
  },
  {
   "cell_type": "code",
   "execution_count": 44,
   "id": "92ae7775",
   "metadata": {},
   "outputs": [],
   "source": [
    "dict1 = dict(zip(x,y))\n",
    "#dict1"
   ]
  },
  {
   "cell_type": "code",
   "execution_count": 45,
   "id": "8c3b9432",
   "metadata": {},
   "outputs": [],
   "source": [
    "def GetBootstrapping(x,n=3,Ntrials=int(3e4)):\n",
    "    \n",
    "    Values = np.zeros( (Ntrials, n+1) )\n",
    "    \n",
    "    for i in tqdm(range(Ntrials)):\n",
    "        \n",
    "        x1 = Resample(x)\n",
    "        \n",
    "        y1 = np.array([])\n",
    "        \n",
    "        for j in x1:\n",
    "            y1 = np.append(y1,dict1[j])\n",
    "            \n",
    "        p = GetFit(x1,y1,n)\n",
    "        \n",
    "        Values[i] = p\n",
    "        \n",
    "    return Values"
   ]
  },
  {
   "cell_type": "code",
   "execution_count": 46,
   "id": "7ae5cf19",
   "metadata": {},
   "outputs": [
    {
     "name": "stderr",
     "output_type": "stream",
     "text": [
      "100%|███████████████████████████████████████████████████████| 30000/30000 [00:16<00:00, 1773.03it/s]\n"
     ]
    }
   ],
   "source": [
    "Mean_Dist = GetBootstrapping(x,n=n)"
   ]
  },
  {
   "cell_type": "code",
   "execution_count": 47,
   "id": "29d9a75e",
   "metadata": {},
   "outputs": [
    {
     "data": {
      "image/png": "[encoded data removed]",
      "text/plain": [
       "<Figure size 144x144 with 1 Axes>"
      ]
     },
     "metadata": {
      "needs_background": "light"
     },
     "output_type": "display_data"
    },
    {
     "data": {
      "image/png": "[encoded data removed]",
      "text/plain": [
       "<Figure size 144x144 with 1 Axes>"
      ]
     },
     "metadata": {
      "needs_background": "light"
     },
     "output_type": "display_data"
    },
    {
     "data": {
      "image/png": "[encoded data removed]",
      "text/plain": [
       "<Figure size 144x144 with 1 Axes>"
      ]
     },
     "metadata": {
      "needs_background": "light"
     },
     "output_type": "display_data"
    }
   ],
   "source": [
    "for i in range(n+1):\n",
    "    fig = plt.figure(figsize=(2,2))\n",
    "    plt.hist( Mean_Dist[:,i], bins=30 )"
   ]
  },
  {
   "cell_type": "code",
   "execution_count": null,
   "id": "2d5ee6e8",
   "metadata": {},
   "outputs": [],
   "source": []
  }
 ],
 "metadata": {
  "kernelspec": {
   "display_name": "Python 3 (ipykernel)",
   "language": "python",
   "name": "python3"
  },
  "language_info": {
   "codemirror_mode": {
    "name": "ipython",
    "version": 3
   },
   "file_extension": ".py",
   "mimetype": "text/x-python",
   "name": "python",
   "nbconvert_exporter": "python",
   "pygments_lexer": "ipython3",
   "version": "3.9.12"
  }
 },
 "nbformat": 4,
 "nbformat_minor": 5
}
