{
 "cells": [
  {
   "cell_type": "code",
   "execution_count": 1,
   "id": "13f09633",
   "metadata": {},
   "outputs": [
    {
     "data": {
      "text/html": [
       "<style>.container { width:100% !important; }</style>"
      ],
      "text/plain": [
       "<IPython.core.display.HTML object>"
      ]
     },
     "metadata": {},
     "output_type": "display_data"
    }
   ],
   "source": [
    "from IPython.display import display, HTML\n",
    "display(HTML(\"<style>.container { width:100% !important; }</style>\"))\n",
    "import numpy as np\n",
    "import matplotlib.pyplot as plt\n",
    "import os.path as path\n",
    "import wget\n",
    "import os\n",
    "from scipy.stats import chi2\n",
    "from scipy.stats import t\n",
    "from tqdm import tqdm\n",
    "import sympy as sym\n",
    "import corner"
   ]
  },
  {
   "cell_type": "code",
   "execution_count": 2,
   "id": "b292c9b5",
   "metadata": {},
   "outputs": [],
   "source": [
    "sample = np.array([0.974,0.950,0.932,1.104,1.038,0.920,0.935,0.907,0.810,0.915])"
   ]
  },
  {
   "cell_type": "code",
   "execution_count": 3,
   "id": "9f84b39f",
   "metadata": {},
   "outputs": [
    {
     "name": "stdout",
     "output_type": "stream",
     "text": [
      "0.9484999999999999\n"
     ]
    }
   ],
   "source": [
    "mean = np.mean(sample)\n",
    "print(mean)"
   ]
  },
  {
   "cell_type": "code",
   "execution_count": 4,
   "id": "6758d1b3",
   "metadata": {},
   "outputs": [],
   "source": [
    "def Resample(sample):\n",
    "    \n",
    "    resample_ = np.random.choice( sample, size = len(sample), replace = True )\n",
    "    return resample_"
   ]
  },
  {
   "cell_type": "code",
   "execution_count": 5,
   "id": "c1b14049",
   "metadata": {},
   "outputs": [
    {
     "data": {
      "text/plain": [
       "0.9335000000000001"
      ]
     },
     "execution_count": 5,
     "metadata": {},
     "output_type": "execute_result"
    }
   ],
   "source": [
    "np.mean(Resample(sample))"
   ]
  },
  {
   "cell_type": "code",
   "execution_count": 6,
   "id": "3ce243dc",
   "metadata": {},
   "outputs": [],
   "source": [
    "def Bootstrapping(sample,N=10000):\n",
    "    \n",
    "    Mean_Dist = np.zeros(N)\n",
    "    \n",
    "    for i in tqdm(range(N)):\n",
    "        resample = Resample(sample)\n",
    "        Mean_Dist[i] = np.mean(resample)\n",
    "        \n",
    "    return Mean_Dist"
   ]
  },
  {
   "cell_type": "code",
   "execution_count": 7,
   "id": "a09b6485",
   "metadata": {},
   "outputs": [
    {
     "name": "stderr",
     "output_type": "stream",
     "text": [
      "100%|██████████████████████████████████████████████████████| 10000/10000 [00:00<00:00, 14637.63it/s]\n"
     ]
    }
   ],
   "source": [
    "Mean_Dist = Bootstrapping(sample)"
   ]
  },
  {
   "cell_type": "code",
   "execution_count": 8,
   "id": "8281eaf5",
   "metadata": {},
   "outputs": [
    {
     "name": "stdout",
     "output_type": "stream",
     "text": [
      "0.9481999999999999\n"
     ]
    },
    {
     "data": {
      "text/plain": [
       "array([0.925184, 0.9725  ])"
      ]
     },
     "execution_count": 8,
     "metadata": {},
     "output_type": "execute_result"
    }
   ],
   "source": [
    "mean = np.percentile(Mean_Dist,50)\n",
    "print(mean)\n",
    "q1 = np.quantile( a = Mean_Dist, q=[0.16,0.84] )\n",
    "q2 = np.quantile( a = Mean_Dist, q=[0.023,0.977] )\n",
    "\n",
    "q1"
   ]
  },
  {
   "cell_type": "code",
   "execution_count": 9,
   "id": "5cbfbead",
   "metadata": {},
   "outputs": [
    {
     "name": "stderr",
     "output_type": "stream",
     "text": [
      "100%|██████████████████████████████████████████████████████| 10000/10000 [00:00<00:00, 13827.24it/s]\n"
     ]
    }
   ],
   "source": [
    "Mean_Dist = Bootstrapping(sample)"
   ]
  },
  {
   "cell_type": "code",
   "execution_count": 10,
   "id": "ea04845c",
   "metadata": {},
   "outputs": [
    {
     "name": "stdout",
     "output_type": "stream",
     "text": [
      "0.023015999999999925 0.02429999999999999\n"
     ]
    }
   ],
   "source": [
    "errorinf = mean-q1[0]\n",
    "errorsup = q1[1] - mean\n",
    "print(errorinf,errorsup)"
   ]
  },
  {
   "cell_type": "code",
   "execution_count": 11,
   "id": "a763f309",
   "metadata": {},
   "outputs": [
    {
     "data": {
      "text/plain": [
       "<matplotlib.lines.Line2D at 0x7f7370710850>"
      ]
     },
     "execution_count": 11,
     "metadata": {},
     "output_type": "execute_result"
    },
    {
     "data": {
      "image/png": "[encoded data removed]",
      "text/plain": [
       "<Figure size 432x288 with 1 Axes>"
      ]
     },
     "metadata": {
      "needs_background": "light"
     },
     "output_type": "display_data"
    }
   ],
   "source": [
    "plt.hist(Mean_Dist, bins=30, density=True, ec='k')\n",
    "plt.axvline(x=mean,color='r')\n",
    "plt.axvline(x=q1[0],color='g')\n",
    "plt.axvline(x=q1[1],color='g')\n",
    "plt.axvline(x=q2[0],color='k')\n",
    "plt.axvline(x=q2[1],color='k')"
   ]
  },
  {
   "cell_type": "markdown",
   "id": "5eef82f5",
   "metadata": {},
   "source": [
    "$$ \\hat{\\mu} = 0.948_{0.022}^{0.023}  at 68\\% CL $$"
   ]
  },
  {
   "cell_type": "code",
   "execution_count": 12,
   "id": "11bfc9de",
   "metadata": {},
   "outputs": [
    {
     "name": "stdout",
     "output_type": "stream",
     "text": [
      "\r",
      "  0% [                                                                                  ]   0 / 521\r",
      "100% [..................................................................................] 521 / 521File loaded\n"
     ]
    }
   ],
   "source": [
    "# Descargamos data\n",
    "if not path.exists('Data'):\n",
    "    os.mkdir('Data')\n",
    "\n",
    "!rm Data/*\n",
    "\n",
    "file = 'Data/data.csv'\n",
    "url = 'https://raw.githubusercontent.com/asegura4488/Database/main/MetodosComputacionalesReforma/MinimosCuadratico.txt'\n",
    "#url = 'https://raw.githubusercontent.com/asegura4488/Database/main/MetodosComputacionalesReforma/MinimosLineal.txt'\n",
    "\n",
    "if not path.exists(file):\n",
    "    Path_ = wget.download(url,file)\n",
    "    print('File loaded')\n",
    "else:\n",
    "    Path_ = file"
   ]
  },
  {
   "cell_type": "code",
   "execution_count": 13,
   "id": "0b408812",
   "metadata": {},
   "outputs": [],
   "source": [
    "Data = np.loadtxt(Path_)"
   ]
  },
  {
   "cell_type": "code",
   "execution_count": 14,
   "id": "4339ab44",
   "metadata": {},
   "outputs": [
    {
     "data": {
      "text/plain": [
       "array([2.49227005, 2.79573719, 1.63117417, 3.14879308, 3.80978375,\n",
       "       2.39130957, 2.40422797, 3.84195106, 1.94338837, 3.30282334,\n",
       "       2.12228047, 1.44870658, 2.23314824, 1.75638558, 1.40194518,\n",
       "       3.77292437, 1.15334293, 2.44005667, 2.94557983, 3.4810117 ])"
      ]
     },
     "execution_count": 14,
     "metadata": {},
     "output_type": "execute_result"
    }
   ],
   "source": [
    "x = Data[:,0]\n",
    "y = Data[:,1]\n",
    "N = len(x)\n",
    "sigma = np.random.uniform(1,4,size=N)\n",
    "sigma"
   ]
  },
  {
   "cell_type": "code",
   "execution_count": 15,
   "id": "9ae7f361",
   "metadata": {},
   "outputs": [],
   "source": [
    "def GetFit(x,y,n=3):\n",
    "    \n",
    "    size = len(x)\n",
    "    b = y\n",
    "    \n",
    "    A = np.ones((size,n+1))\n",
    "    \n",
    "    for i in range(1,n+1):\n",
    "        A[:,i] = x**(i)\n",
    "\n",
    "    # Hacer ajuste cuadratico\n",
    "    \n",
    "    M = np.dot(A.T,A)\n",
    "    bt = np.dot(A.T,b)\n",
    "    \n",
    "    xsol = np.linalg.solve(M,bt)\n",
    "\n",
    "    return xsol"
   ]
  },
  {
   "cell_type": "code",
   "execution_count": 16,
   "id": "0faa73fc",
   "metadata": {},
   "outputs": [
    {
     "name": "stdout",
     "output_type": "stream",
     "text": [
      "[1.22132054 6.09075205 2.9565874 ]\n"
     ]
    }
   ],
   "source": [
    "n = 2 # order of the polynomial\n",
    "param = GetFit(x,y,n=n)\n",
    "print(param)"
   ]
  },
  {
   "cell_type": "code",
   "execution_count": 17,
   "id": "ea9d7f50",
   "metadata": {},
   "outputs": [],
   "source": [
    "def GetModel(x,p):\n",
    "    \n",
    "    y = 0.\n",
    "    for i in range(len(p)):\n",
    "        y += p[i]*x**i\n",
    "    \n",
    "    return y"
   ]
  },
  {
   "cell_type": "code",
   "execution_count": 18,
   "id": "a23b8519",
   "metadata": {},
   "outputs": [
    {
     "data": {
      "text/latex": [
       "$\\displaystyle 2.95658740177385 x^{2} + 6.0907520463624 x + 1.2213205361703$"
      ],
      "text/plain": [
       "2.95658740177385*x**2 + 6.0907520463624*x + 1.2213205361703"
      ]
     },
     "execution_count": 18,
     "metadata": {},
     "output_type": "execute_result"
    }
   ],
   "source": [
    "X = sym.Symbol('x',real=True)\n",
    "GetModel(X,param)"
   ]
  },
  {
   "cell_type": "code",
   "execution_count": 19,
   "id": "5c55a52f",
   "metadata": {},
   "outputs": [
    {
     "data": {
      "text/plain": [
       "<matplotlib.legend.Legend at 0x7f73702e5070>"
      ]
     },
     "execution_count": 19,
     "metadata": {},
     "output_type": "execute_result"
    },
    {
     "data": {
      "image/png": "[encoded data removed]",
      "text/plain": [
       "<Figure size 360x360 with 1 Axes>"
      ]
     },
     "metadata": {
      "needs_background": "light"
     },
     "output_type": "display_data"
    }
   ],
   "source": [
    "t = np.linspace(np.min(x),np.max(x),100)\n",
    "\n",
    "fig = plt.figure(figsize=(5,5))\n",
    "ax = fig.add_subplot(1,1,1)\n",
    "ax.errorbar(x,y,yerr=sigma,fmt='o',color='r',label='Data')\n",
    "ax.set_title('Fit')\n",
    "ax.plot(t,GetModel(t,param),lw=3) \n",
    "#ax.plot(t,GetModel(t,param), label=\"Parameters: {0}\".format(np.round(param,2))) \n",
    "ax.legend(loc=0)"
   ]
  },
  {
   "cell_type": "code",
   "execution_count": 20,
   "id": "d6ac7a98",
   "metadata": {},
   "outputs": [],
   "source": [
    "def GetChi2(x,y,sigma,p,reducido=True):\n",
    "    \n",
    "    df = (len(x) - len(p) - 1) \n",
    "    \n",
    "    if not reducido:\n",
    "        return np.sum( ( ( y - GetModel(x,p) )/sigma )**2 ) , df\n",
    "    else:   \n",
    "        return np.sum( ( ( y - GetModel(x,p) )/sigma )**2 ) / df ,df"
   ]
  },
  {
   "cell_type": "code",
   "execution_count": 21,
   "id": "fd73087f",
   "metadata": {},
   "outputs": [
    {
     "name": "stdout",
     "output_type": "stream",
     "text": [
      "6.772729108343298\n"
     ]
    }
   ],
   "source": [
    "param = GetFit(x,y,n)\n",
    "Chi2,df = GetChi2(x,y,sigma,param)\n",
    "print(Chi2)"
   ]
  },
  {
   "cell_type": "markdown",
   "id": "58c897a6",
   "metadata": {},
   "source": [
    "# Bootstraping"
   ]
  },
  {
   "cell_type": "code",
   "execution_count": 22,
   "id": "18f221c4",
   "metadata": {},
   "outputs": [],
   "source": [
    "dict1 = dict(zip(x,y))\n",
    "#dict1"
   ]
  },
  {
   "cell_type": "code",
   "execution_count": 23,
   "id": "3e19333b",
   "metadata": {},
   "outputs": [],
   "source": [
    "def GetBootstrapping(x,n=3,Ntrials=int(3e4)):\n",
    "    \n",
    "    Values = np.zeros( (Ntrials, n+1) )\n",
    "    \n",
    "    for i in tqdm(range(Ntrials)):\n",
    "        \n",
    "        x1 = Resample(x)\n",
    "        \n",
    "        y1 = np.array([])\n",
    "        \n",
    "        for j in x1:\n",
    "            y1 = np.append(y1,dict1[j])\n",
    "            \n",
    "        p = GetFit(x1,y1,n)\n",
    "        \n",
    "        Values[i] = p\n",
    "        \n",
    "    return Values"
   ]
  },
  {
   "cell_type": "code",
   "execution_count": 24,
   "id": "c7f0c73b",
   "metadata": {},
   "outputs": [
    {
     "name": "stderr",
     "output_type": "stream",
     "text": [
      "100%|███████████████████████████████████████████████████████| 30000/30000 [00:10<00:00, 2740.72it/s]\n"
     ]
    }
   ],
   "source": [
    "Mean_Dist = GetBootstrapping(x,n=n)"
   ]
  },
  {
   "cell_type": "code",
   "execution_count": 25,
   "id": "37984232",
   "metadata": {},
   "outputs": [
    {
     "name": "stdout",
     "output_type": "stream",
     "text": [
      "[1.43413497 5.95482673 2.97023366]\n"
     ]
    },
    {
     "data": {
      "text/plain": [
       "Text(0.5, 0, 'step number')"
      ]
     },
     "execution_count": 25,
     "metadata": {},
     "output_type": "execute_result"
    },
    {
     "data": {
      "image/png": "[encoded data removed]",
      "text/plain": [
       "<Figure size 576x288 with 3 Axes>"
      ]
     },
     "metadata": {
      "needs_background": "light"
     },
     "output_type": "display_data"
    }
   ],
   "source": [
    "params = np.percentile(Mean_Dist,50,axis=0)\n",
    "print(params)\n",
    "fig, axes = plt.subplots(len(params), figsize=(8, 4), sharex=True)\n",
    "labels = [\"$A$\",\"$B$\",\"$C$\"]\n",
    "for i in range(len(params)):\n",
    "    ax = axes[i]\n",
    "    ax.plot(Mean_Dist[:,i], 'k', alpha=0.8)\n",
    "    ax.set_xlim(0, len(Mean_Dist))\n",
    "    ax.set_ylabel(labels[i], rotation=0)\n",
    "    ax.yaxis.set_label_coords(-0.1, 0.5)\n",
    "axes[-1].set_xlabel(\"step number\")"
   ]
  },
  {
   "cell_type": "code",
   "execution_count": 26,
   "id": "1fa8316d",
   "metadata": {},
   "outputs": [
    {
     "data": {
      "image/png": "[encoded data removed]",
      "text/plain": [
       "<Figure size 547.2x547.2 with 9 Axes>"
      ]
     },
     "metadata": {
      "needs_background": "light"
     },
     "output_type": "display_data"
    }
   ],
   "source": [
    "truths = np.percentile(Mean_Dist,50, axis=0)\n",
    "figure = corner.corner(Mean_Dist, \n",
    "                       truths=truths, \n",
    "                       labels=labels, \n",
    "                       quantiles=[0.16,0.5,0.84], \n",
    "                       show_titles=True,\n",
    "                       title_kwargs={\"fontsize\":15})"
   ]
  },
  {
   "cell_type": "code",
   "execution_count": 27,
   "id": "74f41968",
   "metadata": {},
   "outputs": [
    {
     "data": {
      "text/plain": [
       "array([1.43413497, 5.95482673, 2.97023366])"
      ]
     },
     "execution_count": 27,
     "metadata": {},
     "output_type": "execute_result"
    }
   ],
   "source": [
    "mean = np.percentile(Mean_Dist, 50, axis=0 )\n",
    "mean"
   ]
  },
  {
   "cell_type": "code",
   "execution_count": 28,
   "id": "eb992c21",
   "metadata": {},
   "outputs": [
    {
     "data": {
      "text/plain": [
       "array([[-1.56263963,  4.20878909,  2.82684735],\n",
       "       [ 4.9229118 ,  7.44740522,  3.14577184]])"
      ]
     },
     "execution_count": 28,
     "metadata": {},
     "output_type": "execute_result"
    }
   ],
   "source": [
    "q1 = np.quantile( a = Mean_Dist, q=[0.16,0.84], axis=0 )\n",
    "q1"
   ]
  },
  {
   "cell_type": "code",
   "execution_count": 29,
   "id": "70bc2bb9",
   "metadata": {},
   "outputs": [
    {
     "name": "stdout",
     "output_type": "stream",
     "text": [
      "[3.48877683 1.49257848 0.17553818]\n",
      "[2.99677459 1.74603764 0.14338631]\n"
     ]
    }
   ],
   "source": [
    "errorsup = q1[1] - mean\n",
    "errorinf = mean - q1[0]\n",
    "print(errorsup)\n",
    "print(errorinf)"
   ]
  },
  {
   "cell_type": "code",
   "execution_count": 30,
   "id": "20a89d52",
   "metadata": {},
   "outputs": [
    {
     "data": {
      "text/plain": [
       "<matplotlib.legend.Legend at 0x7f736ba0f400>"
      ]
     },
     "execution_count": 30,
     "metadata": {},
     "output_type": "execute_result"
    },
    {
     "data": {
      "image/png": "[encoded data removed]",
      "text/plain": [
       "<Figure size 360x360 with 1 Axes>"
      ]
     },
     "metadata": {
      "needs_background": "light"
     },
     "output_type": "display_data"
    }
   ],
   "source": [
    "t = np.linspace(np.min(x),np.max(x),100)\n",
    "\n",
    "fig = plt.figure(figsize=(5,5))\n",
    "ax = fig.add_subplot(1,1,1)\n",
    "ax.errorbar(x,y,yerr=sigma,fmt='o',color='r',label='Data')\n",
    "ax.set_title('Fit')\n",
    "\n",
    "\n",
    "ax.plot(t,GetModel(t,param),color='b', label='Point Estimation') \n",
    "bootsparam=[i for i in mean]\n",
    "ax.plot(t,GetModel(t,bootsparam),color='k', label='Bootstrapping Estimation') \n",
    "ax.legend(loc=0)"
   ]
  },
  {
   "cell_type": "code",
   "execution_count": 31,
   "id": "fff9c9ef",
   "metadata": {},
   "outputs": [
    {
     "data": {
      "text/plain": [
       "<ErrorbarContainer object of 3 artists>"
      ]
     },
     "execution_count": 31,
     "metadata": {},
     "output_type": "execute_result"
    },
    {
     "data": {
      "image/png": "[encoded data removed]",
      "text/plain": [
       "<Figure size 432x288 with 1 Axes>"
      ]
     },
     "metadata": {
      "needs_background": "light"
     },
     "output_type": "display_data"
    }
   ],
   "source": [
    "p1 = np.arange(0,len(mean),1)\n",
    "plt.errorbar(p1,mean,yerr=errorsup,marker='o',ecolor='r')"
   ]
  },
  {
   "cell_type": "markdown",
   "id": "418cebd6",
   "metadata": {},
   "source": [
    "# Varianza"
   ]
  },
  {
   "cell_type": "code",
   "execution_count": 34,
   "id": "32d46ab1",
   "metadata": {},
   "outputs": [
    {
     "data": {
      "text/plain": [
       "array([[  1.        ,   0.        ,   0.        ],\n",
       "       [  1.        ,   0.5263158 ,   0.27700832],\n",
       "       [  1.        ,   1.052632  ,   1.10803413],\n",
       "       [  1.        ,   1.578947  ,   2.49307363],\n",
       "       [  1.        ,   2.105263  ,   4.4321323 ],\n",
       "       [  1.        ,   2.631579  ,   6.92520803],\n",
       "       [  1.        ,   3.157895  ,   9.97230083],\n",
       "       [  1.        ,   3.684211  ,  13.57341069],\n",
       "       [  1.        ,   4.210526  ,  17.7285292 ],\n",
       "       [  1.        ,   4.736842  ,  22.43767213],\n",
       "       [  1.        ,   5.263158  ,  27.70083213],\n",
       "       [  1.        ,   5.789474  ,  33.5180092 ],\n",
       "       [  1.        ,   6.315789  ,  39.88919069],\n",
       "       [  1.        ,   6.842105  ,  46.81440083],\n",
       "       [  1.        ,   7.368421  ,  54.29362803],\n",
       "       [  1.        ,   7.894737  ,  62.3268723 ],\n",
       "       [  1.        ,   8.421053  ,  70.91413363],\n",
       "       [  1.        ,   8.947368  ,  80.05539413],\n",
       "       [  1.        ,   9.473684  ,  89.75068853],\n",
       "       [  1.        ,  10.        , 100.        ]])"
      ]
     },
     "execution_count": 34,
     "metadata": {},
     "output_type": "execute_result"
    }
   ],
   "source": [
    "A = np.ones((len(x),n+1))\n",
    "\n",
    "for i in range(1,n+1):\n",
    "    A[:,i] = x**i\n",
    "\n",
    "A"
   ]
  },
  {
   "cell_type": "code",
   "execution_count": null,
   "id": "08727ab5",
   "metadata": {},
   "outputs": [],
   "source": []
  }
 ],
 "metadata": {
  "kernelspec": {
   "display_name": "Python 3 (ipykernel)",
   "language": "python",
   "name": "python3"
  },
  "language_info": {
   "codemirror_mode": {
    "name": "ipython",
    "version": 3
   },
   "file_extension": ".py",
   "mimetype": "text/x-python",
   "name": "python",
   "nbconvert_exporter": "python",
   "pygments_lexer": "ipython3",
   "version": "3.9.12"
  }
 },
 "nbformat": 4,
 "nbformat_minor": 5
}
