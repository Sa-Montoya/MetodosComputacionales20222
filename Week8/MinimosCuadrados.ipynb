{
 "cells": [
  {
   "cell_type": "code",
   "execution_count": 1,
   "id": "9c6b50cd",
   "metadata": {},
   "outputs": [
    {
     "data": {
      "text/html": [
       "<style>.container { width:100% !important; }</style>"
      ],
      "text/plain": [
       "<IPython.core.display.HTML object>"
      ]
     },
     "metadata": {},
     "output_type": "display_data"
    }
   ],
   "source": [
    "from IPython.display import display, HTML\n",
    "display(HTML(\"<style>.container { width:100% !important; }</style>\"))\n",
    "#%matplotlib notebook\n",
    "import numpy as np\n",
    "import matplotlib.pyplot as plt\n",
    "import sympy as sym\n",
    "from scipy.stats import chi2\n",
    "import os.path as path\n",
    "import wget"
   ]
  },
  {
   "cell_type": "code",
   "execution_count": 2,
   "id": "0b30e91a",
   "metadata": {},
   "outputs": [],
   "source": [
    "file = 'Data/Minimos.dat'\n",
    "#url = 'https://raw.githubusercontent.com/asegura4488/Database/main/MetodosComputacionalesReforma/MinimosLineal.txt'\n",
    "url = 'https://raw.githubusercontent.com/asegura4488/Database/main/MetodosComputacionalesReforma/MinimosCuadratico.txt'\n",
    "if not path.exists(file):\n",
    "    Path_ = wget.download(url,file)\n",
    "    print('File loaded')\n",
    "else:\n",
    "    Path_ = file"
   ]
  },
  {
   "cell_type": "code",
   "execution_count": 3,
   "id": "2418572b",
   "metadata": {},
   "outputs": [
    {
     "data": {
      "text/plain": [
       "array([10., 10., 10., 10., 10., 10., 10., 10., 10., 10., 10., 10., 10.,\n",
       "       10., 10., 10., 10., 10., 10., 10.])"
      ]
     },
     "execution_count": 3,
     "metadata": {},
     "output_type": "execute_result"
    }
   ],
   "source": [
    "data = np.loadtxt(Path_)\n",
    "x = data[:,0]\n",
    "y = data[:,1]\n",
    "N = len(x)\n",
    "sigma = np.array([ 10. for i in range(N) ])\n",
    "sigma"
   ]
  },
  {
   "cell_type": "code",
   "execution_count": 4,
   "id": "f23231bc",
   "metadata": {},
   "outputs": [
    {
     "data": {
      "text/plain": [
       "<ErrorbarContainer object of 3 artists>"
      ]
     },
     "execution_count": 4,
     "metadata": {},
     "output_type": "execute_result"
    },
    {
     "data": {
      "image/png": "[encoded data removed]",
      "text/plain": [
       "<Figure size 432x288 with 1 Axes>"
      ]
     },
     "metadata": {
      "needs_background": "light"
     },
     "output_type": "display_data"
    }
   ],
   "source": [
    "plt.errorbar(x,y,yerr=sigma,fmt='o')"
   ]
  },
  {
   "cell_type": "code",
   "execution_count": 5,
   "id": "cf87b566",
   "metadata": {},
   "outputs": [],
   "source": [
    "def GetFit(x,y,n):\n",
    "    \n",
    "    DataSize = x.shape[0]\n",
    "    \n",
    "    b = y\n",
    "    \n",
    "    A = np.ones((DataSize,n+1))\n",
    "    \n",
    "    for i in range(1,n+1):\n",
    "        A[:,i] = x**i\n",
    "    \n",
    "    AT = np.dot(A.T,A)\n",
    "    bT = A.T @ b\n",
    "\n",
    "    xsol = np.linalg.solve(AT,bT)\n",
    "    \n",
    "    return xsol"
   ]
  },
  {
   "cell_type": "code",
   "execution_count": 16,
   "id": "d2f52736",
   "metadata": {},
   "outputs": [
    {
     "data": {
      "text/plain": [
       "array([-3.30559559e+00,  6.75301815e+00,  1.09166413e+02, -2.10013135e+02,\n",
       "        1.68565986e+02, -6.98422802e+01,  1.53167884e+01, -1.42988661e+00,\n",
       "       -3.93363630e-02,  8.98787041e-03,  2.52371003e-03, -4.00984961e-04,\n",
       "       -1.94041589e-05,  7.96317078e-06, -6.47657340e-07,  2.05761912e-08,\n",
       "       -1.75081372e-10])"
      ]
     },
     "execution_count": 16,
     "metadata": {},
     "output_type": "execute_result"
    }
   ],
   "source": [
    "param = GetFit(x,y,16)\n",
    "param"
   ]
  },
  {
   "cell_type": "code",
   "execution_count": 17,
   "id": "fd2d9734",
   "metadata": {},
   "outputs": [],
   "source": [
    "def GetModel(x,p):\n",
    "    \n",
    "    y = 0\n",
    "    for n in range(len(p)):\n",
    "        y += p[n]*x**n\n",
    "        \n",
    "    return y"
   ]
  },
  {
   "cell_type": "code",
   "execution_count": 18,
   "id": "7bbbd24a",
   "metadata": {},
   "outputs": [
    {
     "data": {
      "text/latex": [
       "$\\displaystyle - 1.75081371857512 \\cdot 10^{-10} x^{16} + 2.05761911554854 \\cdot 10^{-8} x^{15} - 6.47657340430166 \\cdot 10^{-7} x^{14} + 7.96317078103588 \\cdot 10^{-6} x^{13} - 1.9404158867384 \\cdot 10^{-5} x^{12} - 0.00040098496084566 x^{11} + 0.00252371002527252 x^{10} + 0.00898787041026299 x^{9} - 0.0393363629812453 x^{8} - 1.42988661408185 x^{7} + 15.3167883516783 x^{6} - 69.8422801534003 x^{5} + 168.565986453785 x^{4} - 210.013134744947 x^{3} + 109.166412988684 x^{2} + 6.7530181514942 x - 3.30559558807345$"
      ],
      "text/plain": [
       "-1.75081371857512e-10*x**16 + 2.05761911554854e-8*x**15 - 6.47657340430166e-7*x**14 + 7.96317078103588e-6*x**13 - 1.9404158867384e-5*x**12 - 0.00040098496084566*x**11 + 0.00252371002527252*x**10 + 0.00898787041026299*x**9 - 0.0393363629812453*x**8 - 1.42988661408185*x**7 + 15.3167883516783*x**6 - 69.8422801534003*x**5 + 168.565986453785*x**4 - 210.013134744947*x**3 + 109.166412988684*x**2 + 6.7530181514942*x - 3.30559558807345"
      ]
     },
     "execution_count": 18,
     "metadata": {},
     "output_type": "execute_result"
    }
   ],
   "source": [
    "X = sym.Symbol('x',real=True)\n",
    "GetModel(X,param)"
   ]
  },
  {
   "cell_type": "code",
   "execution_count": 19,
   "id": "703d9e4f",
   "metadata": {},
   "outputs": [
    {
     "data": {
      "text/plain": [
       "[<matplotlib.lines.Line2D at 0x7fe28b87e940>]"
      ]
     },
     "execution_count": 19,
     "metadata": {},
     "output_type": "execute_result"
    },
    {
     "data": {
      "image/png": "[encoded data removed]",
      "text/plain": [
       "<Figure size 360x360 with 1 Axes>"
      ]
     },
     "metadata": {
      "needs_background": "light"
     },
     "output_type": "display_data"
    }
   ],
   "source": [
    "t = np.linspace(np.min(x),np.max(x),50)\n",
    "\n",
    "fig = plt.figure(figsize=(5,5))\n",
    "ax = fig.add_subplot(111)\n",
    "ax.errorbar(x,y,yerr=sigma,fmt='o',color='r')\n",
    "ax.plot(t,GetModel(t,param))"
   ]
  },
  {
   "cell_type": "code",
   "execution_count": null,
   "id": "23f5016d",
   "metadata": {},
   "outputs": [],
   "source": []
  },
  {
   "cell_type": "code",
   "execution_count": null,
   "id": "09e546ed",
   "metadata": {},
   "outputs": [],
   "source": []
  }
 ],
 "metadata": {
  "kernelspec": {
   "display_name": "Python 3 (ipykernel)",
   "language": "python",
   "name": "python3"
  },
  "language_info": {
   "codemirror_mode": {
    "name": "ipython",
    "version": 3
   },
   "file_extension": ".py",
   "mimetype": "text/x-python",
   "name": "python",
   "nbconvert_exporter": "python",
   "pygments_lexer": "ipython3",
   "version": "3.9.12"
  }
 },
 "nbformat": 4,
 "nbformat_minor": 5
}
